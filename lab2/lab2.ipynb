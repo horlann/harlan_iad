{
 "cells": [
  {
   "cell_type": "markdown",
   "id": "f44a2f2b",
   "metadata": {},
   "source": [
    "# 100 numpy exercises\n",
    "\n"
   ]
  },
  {
   "cell_type": "markdown",
   "id": "96443564",
   "metadata": {},
   "source": [
    "#### 1. Import the numpy package under the name `np` (★☆☆)"
   ]
  },
  {
   "cell_type": "code",
   "execution_count": 37,
   "id": "ffe1047e",
   "metadata": {},
   "outputs": [],
   "source": [
    "import numpy as np"
   ]
  },
  {
   "cell_type": "markdown",
   "id": "c807bf1d",
   "metadata": {},
   "source": [
    "#### 2. Print the numpy version and the configuration (★☆☆)"
   ]
  },
  {
   "cell_type": "code",
   "execution_count": 38,
   "id": "f396b717",
   "metadata": {},
   "outputs": [
    {
     "name": "stdout",
     "output_type": "stream",
     "text": [
      "1.26.1\n",
      "{\n",
      "  \"Compilers\": {\n",
      "    \"c\": {\n",
      "      \"name\": \"clang\",\n",
      "      \"linker\": \"ld64\",\n",
      "      \"version\": \"14.0.0\",\n",
      "      \"commands\": \"cc\"\n",
      "    },\n",
      "    \"cython\": {\n",
      "      \"name\": \"cython\",\n",
      "      \"linker\": \"cython\",\n",
      "      \"version\": \"3.0.3\",\n",
      "      \"commands\": \"cython\"\n",
      "    },\n",
      "    \"c++\": {\n",
      "      \"name\": \"clang\",\n",
      "      \"linker\": \"ld64\",\n",
      "      \"version\": \"14.0.0\",\n",
      "      \"commands\": \"c++\"\n",
      "    }\n",
      "  },\n",
      "  \"Machine Information\": {\n",
      "    \"host\": {\n",
      "      \"cpu\": \"aarch64\",\n",
      "      \"family\": \"aarch64\",\n",
      "      \"endian\": \"little\",\n",
      "      \"system\": \"darwin\"\n",
      "    },\n",
      "    \"build\": {\n",
      "      \"cpu\": \"aarch64\",\n",
      "      \"family\": \"aarch64\",\n",
      "      \"endian\": \"little\",\n",
      "      \"system\": \"darwin\"\n",
      "    }\n",
      "  },\n",
      "  \"Build Dependencies\": {\n",
      "    \"blas\": {\n",
      "      \"name\": \"openblas64\",\n",
      "      \"found\": true,\n",
      "      \"version\": \"0.3.23.dev\",\n",
      "      \"detection method\": \"pkgconfig\",\n",
      "      \"include directory\": \"/opt/arm64-builds/include\",\n",
      "      \"lib directory\": \"/opt/arm64-builds/lib\",\n",
      "      \"openblas configuration\": \"USE_64BITINT=1 DYNAMIC_ARCH=1 DYNAMIC_OLDER= NO_CBLAS= NO_LAPACK= NO_LAPACKE= NO_AFFINITY=1 USE_OPENMP= SANDYBRIDGE MAX_THREADS=3\",\n",
      "      \"pc file directory\": \"/usr/local/lib/pkgconfig\"\n",
      "    },\n",
      "    \"lapack\": {\n",
      "      \"name\": \"dep4409622864\",\n",
      "      \"found\": true,\n",
      "      \"version\": \"1.26.1\",\n",
      "      \"detection method\": \"internal\",\n",
      "      \"include directory\": \"unknown\",\n",
      "      \"lib directory\": \"unknown\",\n",
      "      \"openblas configuration\": \"unknown\",\n",
      "      \"pc file directory\": \"unknown\"\n",
      "    }\n",
      "  },\n",
      "  \"Python Information\": {\n",
      "    \"path\": \"/private/var/folders/76/zy5ktkns50v6gt5g8r0sf6sc0000gn/T/cibw-run-27utctq_/cp311-macosx_arm64/build/venv/bin/python\",\n",
      "    \"version\": \"3.11\"\n",
      "  },\n",
      "  \"SIMD Extensions\": {\n",
      "    \"baseline\": [\n",
      "      \"NEON\",\n",
      "      \"NEON_FP16\",\n",
      "      \"NEON_VFPV4\",\n",
      "      \"ASIMD\"\n",
      "    ],\n",
      "    \"found\": [\n",
      "      \"ASIMDHP\"\n",
      "    ],\n",
      "    \"not found\": [\n",
      "      \"ASIMDFHM\"\n",
      "    ]\n",
      "  }\n",
      "}\n"
     ]
    },
    {
     "name": "stderr",
     "output_type": "stream",
     "text": [
      "/opt/homebrew/lib/python3.11/site-packages/numpy/__config__.py:149: UserWarning: Install `pyyaml` for better output\n",
      "  warnings.warn(\"Install `pyyaml` for better output\", stacklevel=1)\n"
     ]
    }
   ],
   "source": [
    "print(np.__version__)\n",
    "np.show_config()"
   ]
  },
  {
   "cell_type": "markdown",
   "id": "572c1bdb",
   "metadata": {},
   "source": [
    "#### 3. Create a null vector of size 10 (★☆☆)"
   ]
  },
  {
   "cell_type": "code",
   "execution_count": 39,
   "id": "31c9f6a5",
   "metadata": {},
   "outputs": [
    {
     "name": "stdout",
     "output_type": "stream",
     "text": [
      "[0. 0. 0. 0. 0. 0. 0. 0. 0. 0.]\n"
     ]
    }
   ],
   "source": [
    "vector = np.zeros(10)\n",
    "print(vector)"
   ]
  },
  {
   "cell_type": "markdown",
   "id": "337e6e36",
   "metadata": {},
   "source": [
    "#### 4. How to find the memory size of any array (★☆☆)"
   ]
  },
  {
   "cell_type": "code",
   "execution_count": 40,
   "id": "31e8ec2e",
   "metadata": {},
   "outputs": [
    {
     "name": "stdout",
     "output_type": "stream",
     "text": [
      "80 bytes\n"
     ]
    }
   ],
   "source": [
    "vector = np.zeros(10)\n",
    "print(\"%d bytes\" % (vector.size * vector.itemsize))"
   ]
  },
  {
   "cell_type": "markdown",
   "id": "166079c8",
   "metadata": {},
   "source": [
    "#### 5. How to get the documentation of the numpy add function from the command line? (★☆☆)"
   ]
  },
  {
   "cell_type": "code",
   "execution_count": 41,
   "id": "593cd80f",
   "metadata": {},
   "outputs": [],
   "source": [
    "# python -c \"import numpy; numpy.info(numpy.add)\""
   ]
  },
  {
   "cell_type": "markdown",
   "id": "3add7101",
   "metadata": {},
   "source": [
    "#### 6. Create a null vector of size 10 but the fifth value which is 1 (★☆☆)"
   ]
  },
  {
   "cell_type": "code",
   "execution_count": 42,
   "id": "2edf3c42",
   "metadata": {},
   "outputs": [
    {
     "name": "stdout",
     "output_type": "stream",
     "text": [
      "[0. 0. 0. 0. 1. 0. 0. 0. 0. 0.]\n"
     ]
    }
   ],
   "source": [
    "vector = np.zeros(10)\n",
    "vector[4] = 1\n",
    "print(vector)"
   ]
  },
  {
   "cell_type": "markdown",
   "id": "cfc46304",
   "metadata": {},
   "source": [
    "#### 7. Create a vector with values ranging from 10 to 49 (★☆☆)"
   ]
  },
  {
   "cell_type": "code",
   "execution_count": 43,
   "id": "d8b86640",
   "metadata": {},
   "outputs": [
    {
     "name": "stdout",
     "output_type": "stream",
     "text": [
      "[10 11 12 13 14 15 16 17 18 19 20 21 22 23 24 25 26 27 28 29 30 31 32 33\n",
      " 34 35 36 37 38 39 40 41 42 43 44 45 46 47 48 49]\n"
     ]
    }
   ],
   "source": [
    "vector = np.arange(10,50)\n",
    "print(vector)"
   ]
  },
  {
   "cell_type": "markdown",
   "id": "0cc200be",
   "metadata": {},
   "source": [
    "#### 8. Reverse a vector (first element becomes last) (★☆☆)"
   ]
  },
  {
   "cell_type": "code",
   "execution_count": 44,
   "id": "ec044bb5",
   "metadata": {},
   "outputs": [
    {
     "name": "stdout",
     "output_type": "stream",
     "text": [
      "[49 48 47 46 45 44 43 42 41 40 39 38 37 36 35 34 33 32 31 30 29 28 27 26\n",
      " 25 24 23 22 21 20 19 18 17 16 15 14 13 12 11 10  9  8  7  6  5  4  3  2\n",
      "  1  0]\n"
     ]
    }
   ],
   "source": [
    "vector = np.arange(50)\n",
    "vector = vector[::-1]\n",
    "print(vector)"
   ]
  },
  {
   "cell_type": "markdown",
   "id": "29d9ede4",
   "metadata": {},
   "source": [
    "#### 9. Create a 3x3 matrix with values ranging from 0 to 8 (★☆☆)"
   ]
  },
  {
   "cell_type": "code",
   "execution_count": 45,
   "id": "d9e39043",
   "metadata": {},
   "outputs": [
    {
     "name": "stdout",
     "output_type": "stream",
     "text": [
      "[[0 1 2]\n",
      " [3 4 5]\n",
      " [6 7 8]]\n"
     ]
    }
   ],
   "source": [
    "vector = np.arange(9).reshape(3, 3)\n",
    "print(vector)"
   ]
  },
  {
   "cell_type": "markdown",
   "id": "88905ceb",
   "metadata": {},
   "source": [
    "#### 10. Find indices of non-zero elements from [1,2,0,0,4,0] (★☆☆)"
   ]
  },
  {
   "cell_type": "code",
   "execution_count": 46,
   "id": "b2f3c90a",
   "metadata": {},
   "outputs": [
    {
     "name": "stdout",
     "output_type": "stream",
     "text": [
      "(array([0, 1, 4]),)\n"
     ]
    }
   ],
   "source": [
    "nonzero = np.nonzero([1,2,0,0,4,0])\n",
    "print(nonzero)"
   ]
  },
  {
   "cell_type": "markdown",
   "id": "49603e91",
   "metadata": {},
   "source": [
    "#### 11. Create a 3x3 identity matrix (★☆☆)"
   ]
  },
  {
   "cell_type": "code",
   "execution_count": 47,
   "id": "5b607b5c",
   "metadata": {},
   "outputs": [
    {
     "name": "stdout",
     "output_type": "stream",
     "text": [
      "[[1. 0. 0.]\n",
      " [0. 1. 0.]\n",
      " [0. 0. 1.]]\n"
     ]
    }
   ],
   "source": [
    "identMatrix = np.eye(3)\n",
    "print(identMatrix)"
   ]
  },
  {
   "cell_type": "markdown",
   "id": "e15c249a",
   "metadata": {},
   "source": [
    "#### 12. Create a 3x3x3 array with random values (★☆☆)"
   ]
  },
  {
   "cell_type": "code",
   "execution_count": 48,
   "id": "ab21ed50",
   "metadata": {},
   "outputs": [
    {
     "name": "stdout",
     "output_type": "stream",
     "text": [
      "[[[0.17233283 0.92662531 0.20121622]\n",
      "  [0.40904058 0.73049322 0.87571358]\n",
      "  [0.54292955 0.6913646  0.00456921]]\n",
      "\n",
      " [[0.21036707 0.33566025 0.11811652]\n",
      "  [0.56821257 0.23733073 0.73946733]\n",
      "  [0.91869359 0.43618944 0.36471482]]\n",
      "\n",
      " [[0.71292574 0.87094036 0.29775015]\n",
      "  [0.59102515 0.05138087 0.47592551]\n",
      "  [0.46954549 0.19645415 0.72870534]]]\n"
     ]
    }
   ],
   "source": [
    "randMatrix = np.random.random((3,3,3))\n",
    "print(randMatrix)"
   ]
  },
  {
   "cell_type": "markdown",
   "id": "157a129c",
   "metadata": {},
   "source": [
    "#### 13. Create a 10x10 array with random values and find the minimum and maximum values (★☆☆)"
   ]
  },
  {
   "cell_type": "code",
   "execution_count": 49,
   "id": "c0066de5",
   "metadata": {},
   "outputs": [
    {
     "name": "stdout",
     "output_type": "stream",
     "text": [
      "0.0027377816229259277 0.9791294626814394\n"
     ]
    }
   ],
   "source": [
    "array = np.random.random((10,10))\n",
    "arrayMin, arrayMax = array.min(), array.max()\n",
    "print(arrayMin, arrayMax)"
   ]
  },
  {
   "cell_type": "markdown",
   "id": "d92d7b32",
   "metadata": {},
   "source": [
    "#### 14. Create a random vector of size 30 and find the mean(середнє) value (★☆☆)"
   ]
  },
  {
   "cell_type": "code",
   "execution_count": 50,
   "id": "9672d023",
   "metadata": {},
   "outputs": [
    {
     "name": "stdout",
     "output_type": "stream",
     "text": [
      "0.5779818929003876\n"
     ]
    }
   ],
   "source": [
    "vector = np.random.random(30)\n",
    "m = vector.mean()\n",
    "print(m)"
   ]
  },
  {
   "cell_type": "markdown",
   "id": "f361efc0",
   "metadata": {},
   "source": [
    "#### 15. Create a 2d array with 1 on the border and 0 inside (★☆☆)"
   ]
  },
  {
   "cell_type": "code",
   "execution_count": 51,
   "id": "a55b6666",
   "metadata": {},
   "outputs": [
    {
     "name": "stdout",
     "output_type": "stream",
     "text": [
      "[[1. 1. 1. 1. 1. 1. 1. 1. 1. 1.]\n",
      " [1. 0. 0. 0. 0. 0. 0. 0. 0. 1.]\n",
      " [1. 0. 0. 0. 0. 0. 0. 0. 0. 1.]\n",
      " [1. 0. 0. 0. 0. 0. 0. 0. 0. 1.]\n",
      " [1. 0. 0. 0. 0. 0. 0. 0. 0. 1.]\n",
      " [1. 0. 0. 0. 0. 0. 0. 0. 0. 1.]\n",
      " [1. 0. 0. 0. 0. 0. 0. 0. 0. 1.]\n",
      " [1. 0. 0. 0. 0. 0. 0. 0. 0. 1.]\n",
      " [1. 0. 0. 0. 0. 0. 0. 0. 0. 1.]\n",
      " [1. 1. 1. 1. 1. 1. 1. 1. 1. 1.]]\n"
     ]
    }
   ],
   "source": [
    "array = np.ones((10,10))\n",
    "array[1:-1,1:-1] = 0    # зрізи 1:-1 з першого до передостаннього по х і далі по у\n",
    "print(array)"
   ]
  },
  {
   "cell_type": "markdown",
   "id": "475808cb",
   "metadata": {},
   "source": [
    "#### 16. How to add a border (filled with 0's) around an existing array? (★☆☆)"
   ]
  },
  {
   "cell_type": "code",
   "execution_count": 52,
   "id": "b2df3a8a",
   "metadata": {},
   "outputs": [
    {
     "name": "stdout",
     "output_type": "stream",
     "text": [
      "[[0. 0. 0. 0. 0. 0. 0.]\n",
      " [0. 1. 1. 1. 1. 1. 0.]\n",
      " [0. 1. 1. 1. 1. 1. 0.]\n",
      " [0. 1. 1. 1. 1. 1. 0.]\n",
      " [0. 1. 1. 1. 1. 1. 0.]\n",
      " [0. 1. 1. 1. 1. 1. 0.]\n",
      " [0. 0. 0. 0. 0. 0. 0.]]\n"
     ]
    }
   ],
   "source": [
    "array = np.ones((5,5))\n",
    "array = np.pad(array, pad_width=1, mode='constant', constant_values=0) #розширюємо масив навкруги pad_width=1 на 1 символ mode='constant константи constant_values=0 константи нулі\n",
    "print(array)"
   ]
  },
  {
   "cell_type": "markdown",
   "id": "1af07d85",
   "metadata": {},
   "source": [
    "#### 17. What is the result of the following expression? (★☆☆)\n",
    "```python\n",
    "0 * np.nan\n",
    "np.nan == np.nan\n",
    "np.inf > np.nan\n",
    "np.nan - np.nan\n",
    "np.nan in set([np.nan])\n",
    "0.3 == 3 * 0.1\n",
    "```"
   ]
  },
  {
   "cell_type": "code",
   "execution_count": 53,
   "id": "109cf327",
   "metadata": {},
   "outputs": [
    {
     "name": "stdout",
     "output_type": "stream",
     "text": [
      "nan\n",
      "False\n",
      "False\n",
      "nan\n",
      "True\n",
      "False\n"
     ]
    }
   ],
   "source": [
    "print(0 * np.nan)\n",
    "print(np.nan == np.nan)  #невизначене значення нічому не дорівнює \n",
    "print(np.inf > np.nan) #нескінченість більше за будьяке число\n",
    "print(np.nan - np.nan) \n",
    "print(np.nan in set([np.nan]))\n",
    "print(0.3 == 3 * 0.1) # обмеження точності представлення дробових чисел тому можливо не рівні"
   ]
  },
  {
   "cell_type": "markdown",
   "id": "6a235316",
   "metadata": {},
   "source": [
    "#### 18. Create a 5x5 matrix with values 1,2,3,4 just below the diagonal (★☆☆)"
   ]
  },
  {
   "cell_type": "code",
   "execution_count": 54,
   "id": "f2e6cfa6",
   "metadata": {},
   "outputs": [
    {
     "name": "stdout",
     "output_type": "stream",
     "text": [
      "[[0 0 0 0 0]\n",
      " [1 0 0 0 0]\n",
      " [0 2 0 0 0]\n",
      " [0 0 3 0 0]\n",
      " [0 0 0 4 0]]\n"
     ]
    }
   ],
   "source": [
    "matrix = np.diag(1+np.arange(4),k=-1)#діагональна матриця з масивом в діагонали але k=-1 нижче головної діагоналі\n",
    "print(matrix)"
   ]
  },
  {
   "cell_type": "markdown",
   "id": "25362e98",
   "metadata": {},
   "source": [
    "#### 19. Create a 8x8 matrix and fill it with a checkerboard(шашки) pattern (★☆☆)"
   ]
  },
  {
   "cell_type": "code",
   "execution_count": 55,
   "id": "cabdf298",
   "metadata": {},
   "outputs": [
    {
     "name": "stdout",
     "output_type": "stream",
     "text": [
      "[[0 1 0 1 0 1 0 1]\n",
      " [1 0 1 0 1 0 1 0]\n",
      " [0 1 0 1 0 1 0 1]\n",
      " [1 0 1 0 1 0 1 0]\n",
      " [0 1 0 1 0 1 0 1]\n",
      " [1 0 1 0 1 0 1 0]\n",
      " [0 1 0 1 0 1 0 1]\n",
      " [1 0 1 0 1 0 1 0]]\n"
     ]
    }
   ],
   "source": [
    "matrix = np.zeros((8,8),dtype=int)\n",
    "matrix[1::2,::2] = 1 #заповнити 1 клітинки на непарних рядках і парних стовпчиках\n",
    "matrix[::2,1::2] = 1 #заповнити 1 клітинки на парних рядках і непарних стовпчиках\n",
    "print(matrix)"
   ]
  },
  {
   "cell_type": "markdown",
   "id": "6431e977",
   "metadata": {},
   "source": [
    "#### 20. Consider a (6,7,8) shape array, what is the index (x,y,z) of the 100th element? (★☆☆)"
   ]
  },
  {
   "cell_type": "code",
   "execution_count": 56,
   "id": "de8b0245",
   "metadata": {},
   "outputs": [
    {
     "name": "stdout",
     "output_type": "stream",
     "text": [
      "(1, 5, 3)\n"
     ]
    }
   ],
   "source": [
    "print(np.unravel_index(99,(6,7,8)))#номер елементу по індексу"
   ]
  },
  {
   "cell_type": "markdown",
   "id": "31abe6fe",
   "metadata": {},
   "source": [
    "#### 21. Create a checkerboard 8x8 matrix using the tile function (★☆☆)"
   ]
  },
  {
   "cell_type": "code",
   "execution_count": 57,
   "id": "6da26fd3",
   "metadata": {},
   "outputs": [
    {
     "name": "stdout",
     "output_type": "stream",
     "text": [
      "[[0 1 0 1 0 1 0 1]\n",
      " [1 0 1 0 1 0 1 0]\n",
      " [0 1 0 1 0 1 0 1]\n",
      " [1 0 1 0 1 0 1 0]\n",
      " [0 1 0 1 0 1 0 1]\n",
      " [1 0 1 0 1 0 1 0]\n",
      " [0 1 0 1 0 1 0 1]\n",
      " [1 0 1 0 1 0 1 0]]\n"
     ]
    }
   ],
   "source": [
    "matrix = np.tile( np.array([[0,1],[1,0]]), (4,4)) #np.array([[0,1],[1,0]]) шаблон який ми повторюємо (4,4) скільки разів горизонталдьно та вертикально\n",
    "print(matrix)"
   ]
  },
  {
   "cell_type": "markdown",
   "id": "fd88b3f4",
   "metadata": {},
   "source": [
    "#### 22. Normalize a 5x5 random matrix (★☆☆)"
   ]
  },
  {
   "cell_type": "code",
   "execution_count": 58,
   "id": "ee6ced60",
   "metadata": {},
   "outputs": [
    {
     "name": "stdout",
     "output_type": "stream",
     "text": [
      "[[-1.82639055 -1.31572001 -0.1069419   0.64755623 -0.06002616]\n",
      " [ 1.13883642  1.29425758  1.12329396  0.25342306  0.02501168]\n",
      " [-1.91787207  1.36452703 -0.44534648 -0.38821401  0.98406395]\n",
      " [-0.03330082  0.90000562 -0.1382774  -0.22808639 -1.67942029]\n",
      " [ 1.08509623  0.66397442 -1.25482544  0.80667679 -0.89230144]]\n"
     ]
    }
   ],
   "source": [
    "matrix = np.random.random((5,5))\n",
    "matrix = (matrix - np.mean (matrix)) / (np.std (matrix))# mean середнє значення елем матриці std стандартне відхилення елем матриці ну і нормалізация відніманням середнього від кожного елемента\n",
    "print(matrix)"
   ]
  },
  {
   "cell_type": "markdown",
   "id": "464d8590",
   "metadata": {},
   "source": [
    "#### 23. Create a custom dtype that describes a color as four unsigned bytes (RGBA) (★☆☆)"
   ]
  },
  {
   "cell_type": "code",
   "execution_count": 59,
   "id": "e2f9cfc6",
   "metadata": {},
   "outputs": [],
   "source": [
    "rgba = np.dtype([(\"r\", np.ubyte),\n",
    "                  (\"g\", np.ubyte),\n",
    "                  (\"b\", np.ubyte),\n",
    "                  (\"a\", np.ubyte)])"
   ]
  },
  {
   "cell_type": "markdown",
   "id": "06c63bb3",
   "metadata": {},
   "source": [
    "#### 24. Multiply a 5x3 matrix by a 3x2 matrix (real matrix product) (★☆☆)"
   ]
  },
  {
   "cell_type": "code",
   "execution_count": 60,
   "id": "9fc0d553",
   "metadata": {},
   "outputs": [
    {
     "name": "stdout",
     "output_type": "stream",
     "text": [
      "[[3. 3.]\n",
      " [3. 3.]\n",
      " [3. 3.]\n",
      " [3. 3.]\n",
      " [3. 3.]]\n"
     ]
    }
   ],
   "source": [
    "matrix = np.dot(np.ones((5,3)), np.ones((3,2))) #скал.добуток\n",
    "print(matrix)"
   ]
  },
  {
   "cell_type": "markdown",
   "id": "76fa6285",
   "metadata": {},
   "source": [
    "#### 25. Given a 1D array, negate(*-1) all elements which are between 3 and 8, in place. (★☆☆)"
   ]
  },
  {
   "cell_type": "code",
   "execution_count": 61,
   "id": "0e25eca7",
   "metadata": {},
   "outputs": [
    {
     "name": "stdout",
     "output_type": "stream",
     "text": [
      "[ 0  1  2  3 -4 -5 -6 -7  8  9 10]\n"
     ]
    }
   ],
   "source": [
    "array = np.arange(11)\n",
    "array[(3 < array) & (array < 8)] *= -1 \n",
    "print(array)"
   ]
  },
  {
   "cell_type": "markdown",
   "id": "930ed8bb",
   "metadata": {},
   "source": [
    "#### 26. What is the output of the following script? (★☆☆)\n",
    "```python\n",
    "# Author: Jake VanderPlas\n",
    "\n",
    "print(sum(range(5),-1))\n",
    "from numpy import *\n",
    "print(sum(range(5),-1))\n",
    "```"
   ]
  },
  {
   "cell_type": "code",
   "execution_count": 62,
   "id": "f02eedba",
   "metadata": {},
   "outputs": [
    {
     "name": "stdout",
     "output_type": "stream",
     "text": [
      "10\n",
      "10\n"
     ]
    }
   ],
   "source": [
    "print(sum(range(5),-1)) #складаємо всі значення в послідовності що починається з -1\n",
    "from numpy import *\n",
    "print(sum(range(5),-1))#-1 означає що сума буде проведена по останній осі"
   ]
  },
  {
   "cell_type": "markdown",
   "id": "177120e7",
   "metadata": {},
   "source": [
    "#### 27. Consider an integer vector Z, which of these expressions(вирази) are legal? (★☆☆)\n",
    "```python\n",
    "Z**Z\n",
    "2 << Z >> 2\n",
    "Z <- Z\n",
    "1j*Z\n",
    "Z/1/1\n",
    "Z<Z>Z\n",
    "```"
   ]
  },
  {
   "cell_type": "code",
   "execution_count": 63,
   "id": "86d6cbef",
   "metadata": {},
   "outputs": [
    {
     "ename": "ValueError",
     "evalue": "The truth value of an array with more than one element is ambiguous. Use a.any() or a.all()",
     "output_type": "error",
     "traceback": [
      "\u001b[0;31m---------------------------------------------------------------------------\u001b[0m",
      "\u001b[0;31mValueError\u001b[0m                                Traceback (most recent call last)",
      "\u001b[1;32m/Users/admin/Univer/3kurs/iad/code/lab2/lab2.ipynb Cell 55\u001b[0m line \u001b[0;36m7\n\u001b[1;32m      <a href='vscode-notebook-cell:/Users/admin/Univer/3kurs/iad/code/lab2/lab2.ipynb#Y105sZmlsZQ%3D%3D?line=4'>5</a>\u001b[0m \u001b[39m1\u001b[39mj\u001b[39m*\u001b[39mZ \u001b[39m#(множення комплексного числ на вектор)legal\u001b[39;00m\n\u001b[1;32m      <a href='vscode-notebook-cell:/Users/admin/Univer/3kurs/iad/code/lab2/lab2.ipynb#Y105sZmlsZQ%3D%3D?line=5'>6</a>\u001b[0m Z\u001b[39m/\u001b[39m\u001b[39m1\u001b[39m\u001b[39m/\u001b[39m\u001b[39m1\u001b[39m\u001b[39m#(ділення на 1)legal\u001b[39;00m\n\u001b[0;32m----> <a href='vscode-notebook-cell:/Users/admin/Univer/3kurs/iad/code/lab2/lab2.ipynb#Y105sZmlsZQ%3D%3D?line=6'>7</a>\u001b[0m Z\u001b[39m<\u001b[39mZ\u001b[39m>\u001b[39mZ\u001b[39m#(спроба порівняння вектору з самим собою, не має змісту)illegal\u001b[39;00m\n",
      "\u001b[0;31mValueError\u001b[0m: The truth value of an array with more than one element is ambiguous. Use a.any() or a.all()"
     ]
    }
   ],
   "source": [
    "Z=np.array([1, 2, 3, 4, 5], dtype=int)\n",
    "Z**Z #(возведення кожного елементу до такого ж степіня)legal\n",
    "2 << Z >> 2 #(зсув бітів)legal\n",
    "Z <- Z #(порівняння з від'ємним значенням)legal\n",
    "1j*Z #(множення комплексного числ на вектор)legal\n",
    "Z/1/1#(ділення на 1)legal\n",
    "Z<Z>Z#(спроба порівняння вектору з самим собою, не має змісту)illegal"
   ]
  },
  {
   "cell_type": "markdown",
   "id": "a6eaf0e8",
   "metadata": {},
   "source": [
    "#### 28. What are the result of the following expressions? (★☆☆)\n",
    "```python\n",
    "np.array(0) / np.array(0)\n",
    "np.array(0) // np.array(0)\n",
    "np.array([np.nan]).astype(int).astype(float)\n",
    "```"
   ]
  },
  {
   "cell_type": "code",
   "execution_count": null,
   "id": "93684068",
   "metadata": {},
   "outputs": [
    {
     "name": "stdout",
     "output_type": "stream",
     "text": [
      "nan\n",
      "0\n",
      "[-2.14748365e+09]\n"
     ]
    },
    {
     "name": "stderr",
     "output_type": "stream",
     "text": [
      "C:\\Users\\Админ\\AppData\\Local\\Temp\\ipykernel_13692\\3912170336.py:1: RuntimeWarning: invalid value encountered in divide\n",
      "  print(np.array(0) / np.array(0))\n",
      "C:\\Users\\Админ\\AppData\\Local\\Temp\\ipykernel_13692\\3912170336.py:2: RuntimeWarning: divide by zero encountered in floor_divide\n",
      "  print(np.array(0) // np.array(0))\n",
      "C:\\Users\\Админ\\AppData\\Local\\Temp\\ipykernel_13692\\3912170336.py:3: RuntimeWarning: invalid value encountered in cast\n",
      "  print(np.array([np.nan]).astype(int).astype(float))\n"
     ]
    }
   ],
   "source": [
    "print(np.array(0) / np.array(0)) #0/0\n",
    "print(np.array(0) // np.array(0)) #0 націло на 0 \n",
    "print(np.array([np.nan]).astype(int).astype(float)) #масив з наном потім нан в інт понім в флоат "
   ]
  },
  {
   "cell_type": "markdown",
   "id": "524b65f8",
   "metadata": {},
   "source": [
    "#### 29. How to round away from zero a float array ? (★☆☆)"
   ]
  },
  {
   "cell_type": "code",
   "execution_count": null,
   "id": "61fbb78e",
   "metadata": {},
   "outputs": [],
   "source": [
    "array = np.random.uniform(-10,+10,10) #масив з 10 ранд чисел в рівном діапазоні -10 10\n",
    "print(np.copysign(np.ceil(np.abs(array)), array)) # абс -всі числа невід'ємні ceil округлення вгору copysign застосовує знак з array до значень з минулого кроку"
   ]
  },
  {
   "cell_type": "markdown",
   "id": "8dc40752",
   "metadata": {},
   "source": [
    "#### 30. How to find common values between two arrays? (★☆☆)"
   ]
  },
  {
   "cell_type": "code",
   "execution_count": null,
   "id": "54399cbe",
   "metadata": {},
   "outputs": [],
   "source": [
    "array1 = np.random.randint(0,10,10)\n",
    "array2 = np.random.randint(0,10,10)\n",
    "print(np.intersect1d(array1,array2)) #повертає спільні елементи"
   ]
  },
  {
   "cell_type": "markdown",
   "id": "b7f38e21",
   "metadata": {},
   "source": [
    "#### 31. How to ignore all numpy warnings (not recommended)? (★☆☆)"
   ]
  },
  {
   "cell_type": "code",
   "execution_count": null,
   "id": "2ca3289c",
   "metadata": {},
   "outputs": [],
   "source": [
    "defaults = np.seterr(all=\"ignore\") #всі помилки в ігнор\n",
    "array = np.ones(1) / 0 #тест\n",
    "\n",
    "_ = np.seterr(**defaults) #назад"
   ]
  },
  {
   "cell_type": "markdown",
   "id": "2d850aab",
   "metadata": {},
   "source": [
    "#### 32. Is the following expressions true? (★☆☆)\n",
    "```python\n",
    "np.sqrt(-1) == np.emath.sqrt(-1)\n",
    "```"
   ]
  },
  {
   "cell_type": "code",
   "execution_count": null,
   "id": "5c83ffce",
   "metadata": {},
   "outputs": [
    {
     "name": "stderr",
     "output_type": "stream",
     "text": [
      "C:\\Users\\Админ\\AppData\\Local\\Temp\\ipykernel_13692\\244602691.py:1: RuntimeWarning: invalid value encountered in sqrt\n",
      "  np.sqrt(-1) == np.emath.sqrt(-1)\n"
     ]
    },
    {
     "data": {
      "text/plain": [
       "False"
      ]
     },
     "execution_count": 14,
     "metadata": {},
     "output_type": "execute_result"
    }
   ],
   "source": [
    "np.sqrt(-1) == np.emath.sqrt(-1)"
   ]
  },
  {
   "cell_type": "markdown",
   "id": "5c4a556f",
   "metadata": {},
   "source": [
    "#### 33. How to get the dates of yesterday, today and tomorrow? (★☆☆)"
   ]
  },
  {
   "cell_type": "code",
   "execution_count": null,
   "id": "c3b683a0",
   "metadata": {},
   "outputs": [],
   "source": [
    "yesterday = np.datetime64('today') - np.timedelta64(1)\n",
    "today     = np.datetime64('today')\n",
    "tomorrow  = np.datetime64('today') + np.timedelta64(1)"
   ]
  },
  {
   "cell_type": "markdown",
   "id": "453cdd64",
   "metadata": {},
   "source": [
    "#### 34. How to get all the dates corresponding(відповідаючі) to the month of July 2016? (★★☆)"
   ]
  },
  {
   "cell_type": "code",
   "execution_count": null,
   "id": "4ba4d37c",
   "metadata": {},
   "outputs": [],
   "source": [
    "array = np.arange('2016-07', '2016-08', dtype='datetime64[D]') #масив дат з 2016-07 по 2016-08\n",
    "print(array)"
   ]
  },
  {
   "cell_type": "markdown",
   "id": "52667b6e",
   "metadata": {},
   "source": [
    "#### 35. How to compute ((A+B)*(-A/2)) in place (without copy)? (★★☆)"
   ]
  },
  {
   "cell_type": "code",
   "execution_count": null,
   "id": "e6e7c030",
   "metadata": {},
   "outputs": [
    {
     "data": {
      "text/plain": [
       "array([-1.5, -1.5, -1.5])"
      ]
     },
     "execution_count": 4,
     "metadata": {},
     "output_type": "execute_result"
    }
   ],
   "source": [
    "A = np.ones(3)*1\n",
    "B = np.ones(3)*2\n",
    "np.add(A,B,out=B) #a+b результат в b\n",
    "np.divide(A,2,out=A) \n",
    "np.negative(A,out=A)\n",
    "np.multiply(A,B,out=A)"
   ]
  },
  {
   "cell_type": "markdown",
   "id": "9a8f3738",
   "metadata": {},
   "source": [
    "#### 36. Extract(вилучити) the integer part of a random array of positive numbers using 4 different methods (★★☆)"
   ]
  },
  {
   "cell_type": "code",
   "execution_count": null,
   "id": "368a801a",
   "metadata": {},
   "outputs": [
    {
     "name": "stdout",
     "output_type": "stream",
     "text": [
      "[7. 7. 2. 0. 6. 7. 3. 0. 0. 8.]\n",
      "[7. 7. 2. 0. 6. 7. 3. 0. 0. 8.]\n",
      "[7. 7. 2. 0. 6. 7. 3. 0. 0. 8.]\n",
      "[7 7 2 0 6 7 3 0 0 8]\n",
      "[7. 7. 2. 0. 6. 7. 3. 0. 0. 8.]\n"
     ]
    }
   ],
   "source": [
    "array = np.random.uniform(0,10,10) #масив додатніх чисел\n",
    "\n",
    "print(array - array%1) #масив-дробна частина\n",
    "print(array // 1)#цілочисельне ділення\n",
    "print(np.floor(array))#округлення\n",
    "print(array.astype(int))#парс інт\n",
    "print(np.trunc(array))#відброс дробної частини"
   ]
  },
  {
   "cell_type": "markdown",
   "id": "cab1eed1",
   "metadata": {},
   "source": [
    "#### 37. Create a 5x5 matrix with row values ranging from 0 to 4 (★★☆)"
   ]
  },
  {
   "cell_type": "code",
   "execution_count": null,
   "id": "f1b579ba",
   "metadata": {},
   "outputs": [
    {
     "name": "stdout",
     "output_type": "stream",
     "text": [
      "[[0. 1. 2. 3. 4.]\n",
      " [0. 1. 2. 3. 4.]\n",
      " [0. 1. 2. 3. 4.]\n",
      " [0. 1. 2. 3. 4.]\n",
      " [0. 1. 2. 3. 4.]]\n"
     ]
    }
   ],
   "source": [
    "matrix = np.zeros((5,5))\n",
    "matrix += np.arange(5) #до кожного рядка матриці + масив 0-4\n",
    "print(matrix)"
   ]
  },
  {
   "cell_type": "markdown",
   "id": "cd0ce6b1",
   "metadata": {},
   "source": [
    "#### 38. Consider a generator function that generates 10 integers and use it to build an array (★☆☆)"
   ]
  },
  {
   "cell_type": "code",
   "execution_count": null,
   "id": "aab193a6",
   "metadata": {},
   "outputs": [
    {
     "name": "stdout",
     "output_type": "stream",
     "text": [
      "[0. 1. 2. 3. 4. 5. 6. 7. 8. 9.]\n"
     ]
    }
   ],
   "source": [
    "def generate():\n",
    "    for x in range(10):\n",
    "        yield x         #генератор повертає поточний стан х при кожній ітерації\n",
    "array = np.fromiter(generate(),dtype=float,count=-1) #створення масиву зі значень повернених генератором(count=-1-юзати всі значення з генератора)\n",
    "print(array)"
   ]
  },
  {
   "cell_type": "markdown",
   "id": "c4c942d1",
   "metadata": {},
   "source": [
    "#### 39. Create a vector of size 10 with values ranging from 0 to 1, both excluded (★★☆)"
   ]
  },
  {
   "cell_type": "code",
   "execution_count": null,
   "id": "e42eaa4b",
   "metadata": {},
   "outputs": [
    {
     "name": "stdout",
     "output_type": "stream",
     "text": [
      "[0.09090909 0.18181818 0.27272727 0.36363636 0.45454545 0.54545455\n",
      " 0.63636364 0.72727273 0.81818182 0.90909091]\n"
     ]
    }
   ],
   "source": [
    "vector = np.linspace(0,1,11,endpoint=False)[1:] #створення рівномірно розподіленого масиву (endpoint=False остання точка невключна) [1:] - підмасив з індексу 1 і до кінця\n",
    "print(vector)"
   ]
  },
  {
   "cell_type": "markdown",
   "id": "9b3cb8d2",
   "metadata": {},
   "source": [
    "#### 40. Create a random vector of size 10 and sort it (★★☆)"
   ]
  },
  {
   "cell_type": "code",
   "execution_count": null,
   "id": "37d2b341",
   "metadata": {},
   "outputs": [
    {
     "name": "stdout",
     "output_type": "stream",
     "text": [
      "[0.08175358 0.20065119 0.32080753 0.54694975 0.55031503 0.63217422\n",
      " 0.74492058 0.76691127 0.8051301  0.85736131]\n"
     ]
    }
   ],
   "source": [
    "vector = np.random.random(10)\n",
    "vector.sort()\n",
    "print(vector)"
   ]
  },
  {
   "cell_type": "markdown",
   "id": "2facfddc",
   "metadata": {},
   "source": [
    "#### 41. How to sum a small array faster than np.sum? (★★☆)"
   ]
  },
  {
   "cell_type": "code",
   "execution_count": null,
   "id": "4bb8864f",
   "metadata": {},
   "outputs": [],
   "source": [
    "array = np.arange(10)\n",
    "np.add.reduce(array) #reduce бере два елемента та приміняє до них операцію, в нашому випадку-суму"
   ]
  },
  {
   "cell_type": "markdown",
   "id": "539cd2a5",
   "metadata": {},
   "source": [
    "#### 42. Consider two random array A and B, check if they are equal (★★☆)"
   ]
  },
  {
   "cell_type": "code",
   "execution_count": null,
   "id": "5246d7bf",
   "metadata": {},
   "outputs": [
    {
     "name": "stdout",
     "output_type": "stream",
     "text": [
      "False\n"
     ]
    }
   ],
   "source": [
    "array1 = np.random.randint(0,2,5)\n",
    "array2 = np.random.randint(0,2,5)\n",
    "\n",
    "equal = np.array_equal(array1,array2) #поелементно рівність arr1 arr2\n",
    "print(equal)"
   ]
  },
  {
   "cell_type": "markdown",
   "id": "448f8274",
   "metadata": {},
   "source": [
    "#### 43. Make an array immutable (read-only) (★★☆)"
   ]
  },
  {
   "cell_type": "code",
   "execution_count": null,
   "id": "7cf2b3dd",
   "metadata": {},
   "outputs": [],
   "source": [
    "array = np.zeros(10)\n",
    "array.flags.writeable = False"
   ]
  },
  {
   "cell_type": "markdown",
   "id": "d7b7aaf3",
   "metadata": {},
   "source": [
    "#### 44. Consider a random 10x2 matrix representing cartesian coordinates(що представляють декартові кординати), convert them to polar coordinates (★★☆)"
   ]
  },
  {
   "cell_type": "code",
   "execution_count": null,
   "id": "e2337585",
   "metadata": {},
   "outputs": [
    {
     "name": "stdout",
     "output_type": "stream",
     "text": [
      "[0.84091513 0.30158261 0.58209178 1.30797524 1.00477644 0.42861709\n",
      " 0.67802323 0.83843063 0.96468781 1.03394556]\n",
      "[0.98486304 0.8954788  0.08423246 0.78206805 1.07489796 1.48206164\n",
      " 1.04863894 0.4971746  1.21730145 0.50846974]\n"
     ]
    }
   ],
   "source": [
    "matrix = np.random.random((10,2))\n",
    "X,Y = matrix[:,0], matrix[:,1] #х-всі значення першого стовпця матриці у-другого\n",
    "R = np.sqrt(X**2+Y**2) #відстань від початку корд.\n",
    "T = np.arctan2(Y,X) #арктангенс\n",
    "print(R)\n",
    "print(T)"
   ]
  },
  {
   "cell_type": "markdown",
   "id": "a556027a",
   "metadata": {},
   "source": [
    "#### 45. Create random vector of size 10 and replace the maximum value by 0 (★★☆)"
   ]
  },
  {
   "cell_type": "code",
   "execution_count": null,
   "id": "9e07cb87",
   "metadata": {},
   "outputs": [],
   "source": [
    "vector = np.random.random(10)\n",
    "vector[vector.argmax()] = 0\n",
    "print(vector)"
   ]
  },
  {
   "cell_type": "markdown",
   "id": "004f3da1",
   "metadata": {},
   "source": [
    "#### 46. Create a structured array with `x` and `y` coordinates covering the [0,1]x[0,1] area(охоплюючими [0,1]x[0,1] область) (★★☆)"
   ]
  },
  {
   "cell_type": "code",
   "execution_count": null,
   "id": "b3824741",
   "metadata": {},
   "outputs": [
    {
     "name": "stdout",
     "output_type": "stream",
     "text": [
      "[[(0.  , 0.  ) (0.25, 0.  ) (0.5 , 0.  ) (0.75, 0.  ) (1.  , 0.  )]\n",
      " [(0.  , 0.25) (0.25, 0.25) (0.5 , 0.25) (0.75, 0.25) (1.  , 0.25)]\n",
      " [(0.  , 0.5 ) (0.25, 0.5 ) (0.5 , 0.5 ) (0.75, 0.5 ) (1.  , 0.5 )]\n",
      " [(0.  , 0.75) (0.25, 0.75) (0.5 , 0.75) (0.75, 0.75) (1.  , 0.75)]\n",
      " [(0.  , 1.  ) (0.25, 1.  ) (0.5 , 1.  ) (0.75, 1.  ) (1.  , 1.  )]]\n"
     ]
    }
   ],
   "source": [
    "array = np.zeros((5,5), [('x',float),('y',float)]) #2d масив з флоат полями х у \n",
    "array['x'], array['y'] = np.meshgrid(np.linspace(0,1,5), #meshgrid-створення сіток для значень х у linspace-5 рівномірних чисел від 0 до 1\n",
    "                             np.linspace(0,1,5))\n",
    "print(array)"
   ]
  },
  {
   "cell_type": "markdown",
   "id": "1c0adc0d",
   "metadata": {},
   "source": [
    "#### 47. Given two arrays, X and Y, construct the Cauchy matrix(матриця Коші) C (Cij =1/(xi - yj)) (★★☆)"
   ]
  },
  {
   "cell_type": "code",
   "execution_count": null,
   "id": "01b3bbb7",
   "metadata": {},
   "outputs": [
    {
     "name": "stdout",
     "output_type": "stream",
     "text": [
      "3638.1636371179666\n"
     ]
    }
   ],
   "source": [
    "X = np.arange(8)\n",
    "Y = X + 0.5\n",
    "C = 1.0 / np.subtract.outer(X, Y) #обчислює різницю між кожною парою елем з х у, створює двумірну матрицю різниць 1.0 /-піднести кожен елем матриці різниць до -1 степеня\n",
    "print(np.linalg.det(C)) #визначник С "
   ]
  },
  {
   "cell_type": "markdown",
   "id": "c8a2f65a",
   "metadata": {},
   "source": [
    "#### 48. Print the minimum and maximum representable(представиме) value for each numpy scalar type (★★☆)"
   ]
  },
  {
   "cell_type": "code",
   "execution_count": null,
   "id": "35d844d6",
   "metadata": {},
   "outputs": [],
   "source": [
    "for dtype in [np.int8, np.int32, np.int64]:\n",
    "   print(np.iinfo(dtype).min) #int info\n",
    "   print(np.iinfo(dtype).max)\n",
    "for dtype in [np.float32, np.float64]:\n",
    "   print(np.finfo(dtype).min) #float info\n",
    "   print(np.finfo(dtype).max)\n",
    "   print(np.finfo(dtype).eps)"
   ]
  },
  {
   "cell_type": "markdown",
   "id": "11727a69",
   "metadata": {},
   "source": [
    "#### 49. How to print all the values of an array? (★★☆)"
   ]
  },
  {
   "cell_type": "code",
   "execution_count": null,
   "id": "47e98473",
   "metadata": {},
   "outputs": [
    {
     "name": "stdout",
     "output_type": "stream",
     "text": [
      "[[0. 0. 0. 0. 0. 0. 0. 0. 0. 0. 0. 0. 0. 0. 0. 0. 0. 0. 0. 0. 0. 0. 0. 0.\n",
      "  0. 0. 0. 0. 0. 0. 0. 0. 0. 0. 0. 0. 0. 0. 0. 0.]\n",
      " [0. 0. 0. 0. 0. 0. 0. 0. 0. 0. 0. 0. 0. 0. 0. 0. 0. 0. 0. 0. 0. 0. 0. 0.\n",
      "  0. 0. 0. 0. 0. 0. 0. 0. 0. 0. 0. 0. 0. 0. 0. 0.]\n",
      " [0. 0. 0. 0. 0. 0. 0. 0. 0. 0. 0. 0. 0. 0. 0. 0. 0. 0. 0. 0. 0. 0. 0. 0.\n",
      "  0. 0. 0. 0. 0. 0. 0. 0. 0. 0. 0. 0. 0. 0. 0. 0.]\n",
      " [0. 0. 0. 0. 0. 0. 0. 0. 0. 0. 0. 0. 0. 0. 0. 0. 0. 0. 0. 0. 0. 0. 0. 0.\n",
      "  0. 0. 0. 0. 0. 0. 0. 0. 0. 0. 0. 0. 0. 0. 0. 0.]\n",
      " [0. 0. 0. 0. 0. 0. 0. 0. 0. 0. 0. 0. 0. 0. 0. 0. 0. 0. 0. 0. 0. 0. 0. 0.\n",
      "  0. 0. 0. 0. 0. 0. 0. 0. 0. 0. 0. 0. 0. 0. 0. 0.]\n",
      " [0. 0. 0. 0. 0. 0. 0. 0. 0. 0. 0. 0. 0. 0. 0. 0. 0. 0. 0. 0. 0. 0. 0. 0.\n",
      "  0. 0. 0. 0. 0. 0. 0. 0. 0. 0. 0. 0. 0. 0. 0. 0.]\n",
      " [0. 0. 0. 0. 0. 0. 0. 0. 0. 0. 0. 0. 0. 0. 0. 0. 0. 0. 0. 0. 0. 0. 0. 0.\n",
      "  0. 0. 0. 0. 0. 0. 0. 0. 0. 0. 0. 0. 0. 0. 0. 0.]\n",
      " [0. 0. 0. 0. 0. 0. 0. 0. 0. 0. 0. 0. 0. 0. 0. 0. 0. 0. 0. 0. 0. 0. 0. 0.\n",
      "  0. 0. 0. 0. 0. 0. 0. 0. 0. 0. 0. 0. 0. 0. 0. 0.]\n",
      " [0. 0. 0. 0. 0. 0. 0. 0. 0. 0. 0. 0. 0. 0. 0. 0. 0. 0. 0. 0. 0. 0. 0. 0.\n",
      "  0. 0. 0. 0. 0. 0. 0. 0. 0. 0. 0. 0. 0. 0. 0. 0.]\n",
      " [0. 0. 0. 0. 0. 0. 0. 0. 0. 0. 0. 0. 0. 0. 0. 0. 0. 0. 0. 0. 0. 0. 0. 0.\n",
      "  0. 0. 0. 0. 0. 0. 0. 0. 0. 0. 0. 0. 0. 0. 0. 0.]\n",
      " [0. 0. 0. 0. 0. 0. 0. 0. 0. 0. 0. 0. 0. 0. 0. 0. 0. 0. 0. 0. 0. 0. 0. 0.\n",
      "  0. 0. 0. 0. 0. 0. 0. 0. 0. 0. 0. 0. 0. 0. 0. 0.]\n",
      " [0. 0. 0. 0. 0. 0. 0. 0. 0. 0. 0. 0. 0. 0. 0. 0. 0. 0. 0. 0. 0. 0. 0. 0.\n",
      "  0. 0. 0. 0. 0. 0. 0. 0. 0. 0. 0. 0. 0. 0. 0. 0.]\n",
      " [0. 0. 0. 0. 0. 0. 0. 0. 0. 0. 0. 0. 0. 0. 0. 0. 0. 0. 0. 0. 0. 0. 0. 0.\n",
      "  0. 0. 0. 0. 0. 0. 0. 0. 0. 0. 0. 0. 0. 0. 0. 0.]\n",
      " [0. 0. 0. 0. 0. 0. 0. 0. 0. 0. 0. 0. 0. 0. 0. 0. 0. 0. 0. 0. 0. 0. 0. 0.\n",
      "  0. 0. 0. 0. 0. 0. 0. 0. 0. 0. 0. 0. 0. 0. 0. 0.]\n",
      " [0. 0. 0. 0. 0. 0. 0. 0. 0. 0. 0. 0. 0. 0. 0. 0. 0. 0. 0. 0. 0. 0. 0. 0.\n",
      "  0. 0. 0. 0. 0. 0. 0. 0. 0. 0. 0. 0. 0. 0. 0. 0.]\n",
      " [0. 0. 0. 0. 0. 0. 0. 0. 0. 0. 0. 0. 0. 0. 0. 0. 0. 0. 0. 0. 0. 0. 0. 0.\n",
      "  0. 0. 0. 0. 0. 0. 0. 0. 0. 0. 0. 0. 0. 0. 0. 0.]\n",
      " [0. 0. 0. 0. 0. 0. 0. 0. 0. 0. 0. 0. 0. 0. 0. 0. 0. 0. 0. 0. 0. 0. 0. 0.\n",
      "  0. 0. 0. 0. 0. 0. 0. 0. 0. 0. 0. 0. 0. 0. 0. 0.]\n",
      " [0. 0. 0. 0. 0. 0. 0. 0. 0. 0. 0. 0. 0. 0. 0. 0. 0. 0. 0. 0. 0. 0. 0. 0.\n",
      "  0. 0. 0. 0. 0. 0. 0. 0. 0. 0. 0. 0. 0. 0. 0. 0.]\n",
      " [0. 0. 0. 0. 0. 0. 0. 0. 0. 0. 0. 0. 0. 0. 0. 0. 0. 0. 0. 0. 0. 0. 0. 0.\n",
      "  0. 0. 0. 0. 0. 0. 0. 0. 0. 0. 0. 0. 0. 0. 0. 0.]\n",
      " [0. 0. 0. 0. 0. 0. 0. 0. 0. 0. 0. 0. 0. 0. 0. 0. 0. 0. 0. 0. 0. 0. 0. 0.\n",
      "  0. 0. 0. 0. 0. 0. 0. 0. 0. 0. 0. 0. 0. 0. 0. 0.]\n",
      " [0. 0. 0. 0. 0. 0. 0. 0. 0. 0. 0. 0. 0. 0. 0. 0. 0. 0. 0. 0. 0. 0. 0. 0.\n",
      "  0. 0. 0. 0. 0. 0. 0. 0. 0. 0. 0. 0. 0. 0. 0. 0.]\n",
      " [0. 0. 0. 0. 0. 0. 0. 0. 0. 0. 0. 0. 0. 0. 0. 0. 0. 0. 0. 0. 0. 0. 0. 0.\n",
      "  0. 0. 0. 0. 0. 0. 0. 0. 0. 0. 0. 0. 0. 0. 0. 0.]\n",
      " [0. 0. 0. 0. 0. 0. 0. 0. 0. 0. 0. 0. 0. 0. 0. 0. 0. 0. 0. 0. 0. 0. 0. 0.\n",
      "  0. 0. 0. 0. 0. 0. 0. 0. 0. 0. 0. 0. 0. 0. 0. 0.]\n",
      " [0. 0. 0. 0. 0. 0. 0. 0. 0. 0. 0. 0. 0. 0. 0. 0. 0. 0. 0. 0. 0. 0. 0. 0.\n",
      "  0. 0. 0. 0. 0. 0. 0. 0. 0. 0. 0. 0. 0. 0. 0. 0.]\n",
      " [0. 0. 0. 0. 0. 0. 0. 0. 0. 0. 0. 0. 0. 0. 0. 0. 0. 0. 0. 0. 0. 0. 0. 0.\n",
      "  0. 0. 0. 0. 0. 0. 0. 0. 0. 0. 0. 0. 0. 0. 0. 0.]\n",
      " [0. 0. 0. 0. 0. 0. 0. 0. 0. 0. 0. 0. 0. 0. 0. 0. 0. 0. 0. 0. 0. 0. 0. 0.\n",
      "  0. 0. 0. 0. 0. 0. 0. 0. 0. 0. 0. 0. 0. 0. 0. 0.]\n",
      " [0. 0. 0. 0. 0. 0. 0. 0. 0. 0. 0. 0. 0. 0. 0. 0. 0. 0. 0. 0. 0. 0. 0. 0.\n",
      "  0. 0. 0. 0. 0. 0. 0. 0. 0. 0. 0. 0. 0. 0. 0. 0.]\n",
      " [0. 0. 0. 0. 0. 0. 0. 0. 0. 0. 0. 0. 0. 0. 0. 0. 0. 0. 0. 0. 0. 0. 0. 0.\n",
      "  0. 0. 0. 0. 0. 0. 0. 0. 0. 0. 0. 0. 0. 0. 0. 0.]\n",
      " [0. 0. 0. 0. 0. 0. 0. 0. 0. 0. 0. 0. 0. 0. 0. 0. 0. 0. 0. 0. 0. 0. 0. 0.\n",
      "  0. 0. 0. 0. 0. 0. 0. 0. 0. 0. 0. 0. 0. 0. 0. 0.]\n",
      " [0. 0. 0. 0. 0. 0. 0. 0. 0. 0. 0. 0. 0. 0. 0. 0. 0. 0. 0. 0. 0. 0. 0. 0.\n",
      "  0. 0. 0. 0. 0. 0. 0. 0. 0. 0. 0. 0. 0. 0. 0. 0.]\n",
      " [0. 0. 0. 0. 0. 0. 0. 0. 0. 0. 0. 0. 0. 0. 0. 0. 0. 0. 0. 0. 0. 0. 0. 0.\n",
      "  0. 0. 0. 0. 0. 0. 0. 0. 0. 0. 0. 0. 0. 0. 0. 0.]\n",
      " [0. 0. 0. 0. 0. 0. 0. 0. 0. 0. 0. 0. 0. 0. 0. 0. 0. 0. 0. 0. 0. 0. 0. 0.\n",
      "  0. 0. 0. 0. 0. 0. 0. 0. 0. 0. 0. 0. 0. 0. 0. 0.]\n",
      " [0. 0. 0. 0. 0. 0. 0. 0. 0. 0. 0. 0. 0. 0. 0. 0. 0. 0. 0. 0. 0. 0. 0. 0.\n",
      "  0. 0. 0. 0. 0. 0. 0. 0. 0. 0. 0. 0. 0. 0. 0. 0.]\n",
      " [0. 0. 0. 0. 0. 0. 0. 0. 0. 0. 0. 0. 0. 0. 0. 0. 0. 0. 0. 0. 0. 0. 0. 0.\n",
      "  0. 0. 0. 0. 0. 0. 0. 0. 0. 0. 0. 0. 0. 0. 0. 0.]\n",
      " [0. 0. 0. 0. 0. 0. 0. 0. 0. 0. 0. 0. 0. 0. 0. 0. 0. 0. 0. 0. 0. 0. 0. 0.\n",
      "  0. 0. 0. 0. 0. 0. 0. 0. 0. 0. 0. 0. 0. 0. 0. 0.]\n",
      " [0. 0. 0. 0. 0. 0. 0. 0. 0. 0. 0. 0. 0. 0. 0. 0. 0. 0. 0. 0. 0. 0. 0. 0.\n",
      "  0. 0. 0. 0. 0. 0. 0. 0. 0. 0. 0. 0. 0. 0. 0. 0.]\n",
      " [0. 0. 0. 0. 0. 0. 0. 0. 0. 0. 0. 0. 0. 0. 0. 0. 0. 0. 0. 0. 0. 0. 0. 0.\n",
      "  0. 0. 0. 0. 0. 0. 0. 0. 0. 0. 0. 0. 0. 0. 0. 0.]\n",
      " [0. 0. 0. 0. 0. 0. 0. 0. 0. 0. 0. 0. 0. 0. 0. 0. 0. 0. 0. 0. 0. 0. 0. 0.\n",
      "  0. 0. 0. 0. 0. 0. 0. 0. 0. 0. 0. 0. 0. 0. 0. 0.]\n",
      " [0. 0. 0. 0. 0. 0. 0. 0. 0. 0. 0. 0. 0. 0. 0. 0. 0. 0. 0. 0. 0. 0. 0. 0.\n",
      "  0. 0. 0. 0. 0. 0. 0. 0. 0. 0. 0. 0. 0. 0. 0. 0.]\n",
      " [0. 0. 0. 0. 0. 0. 0. 0. 0. 0. 0. 0. 0. 0. 0. 0. 0. 0. 0. 0. 0. 0. 0. 0.\n",
      "  0. 0. 0. 0. 0. 0. 0. 0. 0. 0. 0. 0. 0. 0. 0. 0.]]\n"
     ]
    }
   ],
   "source": [
    "np.set_printoptions(threshold=float(\"inf\")) #встановлення параметрів друку numpy щоб друкувались всі елементи масиву (параментр threshold = нескінченість)\n",
    "array = np.zeros((40,40))\n",
    "print(array)"
   ]
  },
  {
   "cell_type": "markdown",
   "id": "e0e7d741",
   "metadata": {},
   "source": [
    "#### 50. How to find the closest value (to a given scalar) in a vector? (★★☆)"
   ]
  },
  {
   "cell_type": "code",
   "execution_count": null,
   "id": "62cabf6f",
   "metadata": {},
   "outputs": [
    {
     "name": "stdout",
     "output_type": "stream",
     "text": [
      "19\n"
     ]
    }
   ],
   "source": [
    "array = np.arange(100)\n",
    "v = np.random.uniform(0,100) #рандомне число віл 0 до 100\n",
    "index = (np.abs(array-v)).argmin()#абослютна різниця кожного елементу масиву та сгенерованого числа, потім індекс найменої обирається\n",
    "print(array[index])"
   ]
  },
  {
   "cell_type": "markdown",
   "id": "c5611b9e",
   "metadata": {},
   "source": [
    "#### 51. Create a structured array representing(представляючий) a position (x,y) and a color (r,g,b) (★★☆)"
   ]
  },
  {
   "cell_type": "code",
   "execution_count": null,
   "id": "f622939d",
   "metadata": {},
   "outputs": [
    {
     "name": "stdout",
     "output_type": "stream",
     "text": [
      "[((0., 0.), (0., 0., 0.)) ((0., 0.), (0., 0., 0.))\n",
      " ((0., 0.), (0., 0., 0.)) ((0., 0.), (0., 0., 0.))\n",
      " ((0., 0.), (0., 0., 0.)) ((0., 0.), (0., 0., 0.))\n",
      " ((0., 0.), (0., 0., 0.)) ((0., 0.), (0., 0., 0.))\n",
      " ((0., 0.), (0., 0., 0.)) ((0., 0.), (0., 0., 0.))]\n"
     ]
    },
    {
     "name": "stderr",
     "output_type": "stream",
     "text": [
      "/var/folders/l8/p6dnvr891g1_n7y5m003jg0h0000gn/T/ipykernel_18931/741156731.py:1: FutureWarning: Passing (type, 1) or '1type' as a synonym of type is deprecated; in a future version of numpy, it will be understood as (type, (1,)) / '(1,)type'.\n",
      "  array = np.zeros(10, [ ('position', [ ('x', float, 1), #1-кть байт для зберігання значення\n"
     ]
    }
   ],
   "source": [
    "array = np.zeros(10, [ ('position', [ ('x', float, 1), #1-кть байт для зберігання значення\n",
    "                                  ('y', float, 1)]),\n",
    "                   ('color',    [ ('r', float, 1),\n",
    "                                  ('g', float, 1),\n",
    "                                  ('b', float, 1)])])\n",
    "print(array)"
   ]
  },
  {
   "cell_type": "markdown",
   "id": "d22b8574",
   "metadata": {},
   "source": [
    "#### 52. Consider a random vector with shape (100,2) representing coordinates, find point by point distances (★★☆)"
   ]
  },
  {
   "cell_type": "code",
   "execution_count": null,
   "id": "d5c9cdf8",
   "metadata": {},
   "outputs": [
    {
     "name": "stdout",
     "output_type": "stream",
     "text": [
      "[[0.         0.21178004 0.78236829 0.55973988 0.61573842 0.461037\n",
      "  1.00941551 0.77786263 0.16270145 0.20636069 0.24148014 0.43526726\n",
      "  0.10010055 0.22811001 0.56469859 0.72545422 0.2525468  0.35220506\n",
      "  0.56072678 0.34975736 0.29045543 0.96993802 0.35035574 0.94279005\n",
      "  0.50645629 0.74773551 0.5463293  0.09502061 0.67367148 0.1475208\n",
      "  0.09458896 0.32501091 0.72274956 0.86841027 0.82459094 0.11485061\n",
      "  0.5160966  0.42363805 0.73969615 0.88451456 0.34960833 0.74991317\n",
      "  0.41928078 0.42670634 0.66432425 0.51523924 0.37909127 0.43096925\n",
      "  0.29197995 0.48632265 0.46856537 0.48913212 0.91484983 0.45055053\n",
      "  0.63735145 0.29780735 0.65970225 0.80733891 0.32922941 0.23241386\n",
      "  0.2768011  0.51069908 0.624635   0.28795307 0.42367912 0.24078278\n",
      "  0.21058329 0.16743237 0.26965425 0.21702113 0.59656024 0.52185762\n",
      "  0.23722306 0.85409388 0.20060916 0.08639836 0.4829583  0.35574581\n",
      "  0.43400807 0.61527803 0.27262956 0.74767771 0.0579473  0.21470961\n",
      "  0.2366813  0.48759117 0.25622458 0.1330556  0.46151242 0.68969381\n",
      "  0.1049113  0.40474729 0.25508045 0.29998049 0.76747319 0.9668007\n",
      "  0.53071551 0.29359723 0.44463227 0.38743623]\n",
      " [0.21178004 0.         0.85912568 0.72110304 0.60259531 0.55851657\n",
      "  1.07751784 0.87427947 0.23051542 0.36573806 0.17749001 0.5533668\n",
      "  0.20573643 0.41968354 0.4156519  0.81352794 0.46416197 0.56308754\n",
      "  0.49723471 0.23122543 0.33335288 1.0165762  0.35900434 1.02704872\n",
      "  0.50480872 0.78668561 0.58080761 0.25451383 0.59137573 0.06902391\n",
      "  0.14639838 0.50956807 0.64278603 0.87797068 0.92448169 0.28296133\n",
      "  0.71851915 0.44799909 0.73407448 0.91098635 0.54824277 0.76556148\n",
      "  0.49733262 0.44112529 0.87023236 0.71850468 0.49948752 0.61719199\n",
      "  0.38248831 0.3215967  0.38332745 0.69929087 1.00028095 0.53539692\n",
      "  0.75816095 0.50575681 0.76507092 0.65578339 0.40210051 0.05768524\n",
      "  0.2962074  0.36852581 0.54824676 0.30451473 0.6316052  0.35788452\n",
      "  0.37496593 0.3565852  0.35903203 0.10353693 0.59212261 0.45353711\n",
      "  0.42326634 0.87287196 0.25906046 0.27395971 0.41592916 0.51008145\n",
      "  0.35575865 0.77079542 0.33407307 0.59581802 0.24643483 0.42211541\n",
      "  0.37468387 0.66093915 0.13498059 0.33461225 0.48699143 0.53542619\n",
      "  0.30976358 0.61414564 0.32756083 0.17822589 0.70848923 1.01152471\n",
      "  0.4203124  0.29295794 0.648074   0.25607385]\n",
      " [0.78236829 0.85912568 0.         0.39803137 0.3714162  0.32204352\n",
      "  0.22760142 0.08383386 0.94504372 0.93714942 0.68835836 0.35841843\n",
      "  0.88234445 0.62807884 0.76675666 0.06918876 0.74750394 0.81500493\n",
      "  0.52701789 0.70513623 0.52628023 0.21941571 0.50671132 0.16870081\n",
      "  0.40077004 0.1568002  0.29569572 0.86604935 0.57356502 0.8494936\n",
      "  0.75216085 0.56447235 0.57120232 0.27947663 0.11523154 0.87219406\n",
      "  0.64940373 0.41931379 0.3184073  0.22401123 0.61969091 0.24170162\n",
      "  0.3672679  0.43188236 0.73386517 0.65763889 0.41059305 0.53944574\n",
      "  0.49351249 0.79867021 0.60409758 0.74594654 0.14315053 0.33278135\n",
      "  0.21682672 0.83757223 0.15808179 0.85907898 0.46292331 0.81704584\n",
      "  1.05896752 0.73946781 0.55473647 1.07011763 0.69624637 1.00057263\n",
      "  0.59064233 0.65385077 0.51718912 0.76063363 0.35535259 0.54924664\n",
      "  0.90803557 0.24048499 0.98288439 0.83767292 0.55842382 0.47144991\n",
      "  0.60053681 0.36185652 0.5296811  0.83355454 0.82446464 0.81939206\n",
      "  0.54988806 0.46734327 0.98275211 0.69858509 0.38415584 0.81988868\n",
      "  0.71988203 0.71444191 0.54098859 0.72747668 0.50624074 0.22125368\n",
      "  0.65509682 0.56946998 0.65064976 0.71951045]\n",
      " [0.55973988 0.72110304 0.39803137 0.         0.5589339  0.2555406\n",
      "  0.59377657 0.33934034 0.70779914 0.64457223 0.59994916 0.21246513\n",
      "  0.65129624 0.34002369 0.8357945  0.33000848 0.41633338 0.45116199\n",
      "  0.65216285 0.67631165 0.44188982 0.61621521 0.47874669 0.49866089\n",
      "  0.49924367 0.4842001  0.41925595 0.61441986 0.75219316 0.68104005\n",
      "  0.57882204 0.24497468 0.77627633 0.64020207 0.36431149 0.60872133\n",
      "  0.25188858 0.43796443 0.59993923 0.60598658 0.26629375 0.54922713\n",
      "  0.31909821 0.45854444 0.34656883 0.26020853 0.24526129 0.16684554\n",
      "  0.36404269 0.81877107 0.66014362 0.35186753 0.47282599 0.29222483\n",
      "  0.18127158 0.49140916 0.2421646  1.01608281 0.37096513 0.70275202\n",
      "  0.81710661 0.78856699 0.71126801 0.82770056 0.31234773 0.71873397\n",
      "  0.35230997 0.39402481 0.38215751 0.65103143 0.53034502 0.64662924\n",
      "  0.59252481 0.60568564 0.73918867 0.57890778 0.63023379 0.21103955\n",
      "  0.63629464 0.05964494 0.42276942 0.97111065 0.57866337 0.50170793\n",
      "  0.34652137 0.08669136 0.80979206 0.43533465 0.43377964 0.93418009\n",
      "  0.46366101 0.33490665 0.41770514 0.66764453 0.75261679 0.6187452\n",
      "  0.73597457 0.50729615 0.26274154 0.70842181]\n",
      " [0.61573842 0.60259531 0.3714162  0.5589339  0.         0.31397074\n",
      "  0.53573067 0.434033   0.76235918 0.81406187 0.42719432 0.37072782\n",
      "  0.70366542 0.57331107 0.4016157  0.37005854 0.70655223 0.80792895\n",
      "  0.15958666 0.39480743 0.32740146 0.44582131 0.26571041 0.52382595\n",
      "  0.10969169 0.23229812 0.13982248 0.71069755 0.2093849  0.61971984\n",
      "  0.54713831 0.56725661 0.22150578 0.27806425 0.48017656 0.72793878\n",
      "  0.7553434  0.19924016 0.13151551 0.32274191 0.6408977  0.17649882\n",
      "  0.27688905 0.19117179 0.88973126 0.76161389 0.37971179 0.61169606\n",
      "  0.35881253 0.44891197 0.25830702 0.81911222 0.50386224 0.28320796\n",
      "  0.43703266 0.79915206 0.39243906 0.4945685  0.31580612 0.54886214\n",
      "  0.86620642 0.38212801 0.18404212 0.87667407 0.74802172 0.85650254\n",
      "  0.50227137 0.56117707 0.37179711 0.49947005 0.02897576 0.1903367\n",
      "  0.81689789 0.27933929 0.80122365 0.69504703 0.21192492 0.47087052\n",
      "  0.26800298 0.56286853 0.3500837  0.46435839 0.67131873 0.74640986\n",
      "  0.44888513 0.57729374 0.73732042 0.59475424 0.16895853 0.448508\n",
      "  0.60265685 0.75368731 0.37021549 0.43490192 0.19668247 0.43853235\n",
      "  0.29223416 0.32733247 0.72035152 0.39505739]\n",
      " [0.461037   0.55851657 0.32204352 0.2555406  0.31397074 0.\n",
      "  0.54959169 0.31972197 0.62372309 0.61798552 0.40234212 0.05863076\n",
      "  0.56112524 0.31761304 0.58864528 0.26459109 0.4465841  0.53176814\n",
      "  0.39662236 0.45337119 0.23140482 0.52090068 0.24368917 0.48203816\n",
      "  0.24411714 0.31826847 0.17641124 0.54400926 0.49821226 0.53897447\n",
      "  0.4379701  0.27664492 0.52495797 0.46603084 0.36853137 0.5504744\n",
      "  0.44266448 0.18590749 0.38285749 0.45844771 0.34591468 0.3539532\n",
      "  0.07151808 0.20637203 0.57594006 0.44921746 0.09318318 0.30078123\n",
      "  0.17796799 0.58336612 0.41125098 0.5131237  0.45418917 0.03717383\n",
      "  0.20497    0.54027122 0.20665963 0.76077385 0.157651   0.52446242\n",
      "  0.73783141 0.54465149 0.45623061 0.74898389 0.44610996 0.67950315\n",
      "  0.27069865 0.33490931 0.20200398 0.46807479 0.28499837 0.39205528\n",
      "  0.59474238 0.4402561  0.66130582 0.51588034 0.37795936 0.17503807\n",
      "  0.39085948 0.27517484 0.22499524 0.71659919 0.50242168 0.50929445\n",
      "  0.22795236 0.26353144 0.67357118 0.37889312 0.17832677 0.68148434\n",
      "  0.39893194 0.45601435 0.2311621  0.45815434 0.51060128 0.51924338\n",
      "  0.48482661 0.29000469 0.41293813 0.47991285]\n",
      " [1.00941551 1.07751784 0.22760142 0.59377657 0.53573067 0.54959169\n",
      "  0.         0.25673502 1.17201835 1.16416113 0.90344542 0.58522034\n",
      "  1.10928779 0.85351804 0.93620544 0.2902241  0.9696984  1.03091642\n",
      "  0.69484764 0.90767802 0.74706595 0.11844519 0.72024108 0.10160167\n",
      "  0.59490923 0.30581419 0.50022878 1.09359622 0.71042999 1.07191151\n",
      "  0.97640381 0.78547595 0.69317086 0.318435   0.23068417 1.09979058\n",
      "  0.84346947 0.63120556 0.43657687 0.24406996 0.83602008 0.36501227\n",
      "  0.59234763 0.64089468 0.90381195 0.85189551 0.6379998  0.7490601\n",
      "  0.71941214 0.9832243  0.78954071 0.94551917 0.12306193 0.55911445\n",
      "  0.42115099 1.05796944 0.37233303 0.98278286 0.68710749 1.03267744\n",
      "  1.28579509 0.91774234 0.70518762 1.29693995 0.90340253 1.22805507\n",
      "  0.81804717 0.88102806 0.74286324 0.9769326  0.52886654 0.7254716\n",
      "  1.13331056 0.28949194 1.21000249 1.06527367 0.74270109 0.69578838\n",
      "  0.79245983 0.54628279 0.75276418 0.96895749 1.05198734 1.04392909\n",
      "  0.77747864 0.67229605 1.20404703 0.925871   0.59342735 0.9672502\n",
      "  0.94738899 0.923853   0.76519032 0.93587077 0.6099312  0.12849203\n",
      "  0.82787318 0.78517959 0.85523429 0.91696391]\n",
      " [0.77786263 0.87427947 0.08383386 0.33934034 0.434033   0.31972197\n",
      "  0.25673502 0.         0.94004678 0.91860222 0.70953747 0.34363531\n",
      "  0.87783194 0.60467791 0.81949796 0.06679381 0.71614842 0.774479\n",
      "  0.58403618 0.73854918 0.54165426 0.28192006 0.53272578 0.16968013\n",
      "  0.44682133 0.23562986 0.33828693 0.85652723 0.64086375 0.85810614\n",
      "  0.75761287 0.53160381 0.64249565 0.36326058 0.05123181 0.85997231\n",
      "  0.5907518  0.44946616 0.39564509 0.30605788 0.57986745 0.32064854\n",
      "  0.37694818 0.46470167 0.66425536 0.59912748 0.39920983 0.49234269\n",
      "  0.49736557 0.8433057  0.65077203 0.69104996 0.14176206 0.33912027\n",
      "  0.16444649 0.80302169 0.12030192 0.9270357  0.47251912 0.83621827\n",
      "  1.05425965 0.78819467 0.61801455 1.06539392 0.6470281  0.98547161\n",
      "  0.57686278 0.63767069 0.52141445 0.77948878 0.41461662 0.60189046\n",
      "  0.88307954 0.32423632 0.97687652 0.82600406 0.60659178 0.44611897\n",
      "  0.64326666 0.29600662 0.54054385 0.89838462 0.81557422 0.79275278\n",
      "  0.54161418 0.41594251 0.99255915 0.68291797 0.41827311 0.88094681\n",
      "  0.70636403 0.66722464 0.54905711 0.75542716 0.58229605 0.28586138\n",
      "  0.70766259 0.5915936  0.59926472 0.75668582]\n",
      " [0.16270145 0.23051542 0.94504372 0.70779914 0.76235918 0.62372309\n",
      "  1.17201835 0.94004678 0.         0.15337991 0.35261505 0.59691213\n",
      "  0.06274492 0.36814093 0.64292975 0.88808518 0.34080129 0.40951958\n",
      "  0.68801409 0.44284011 0.44423237 1.1310647  0.4975233  1.10537414\n",
      "  0.6547655  0.90721244 0.70367013 0.09486843 0.79401022 0.17061924\n",
      "  0.2153042  0.46515994 0.84477514 1.02306779 0.98641103 0.1094821\n",
      "  0.62491055 0.57702965 0.88974953 1.04259075 0.47249501 0.90521231\n",
      "  0.58119164 0.5777222  0.76061895 0.62228017 0.5409438  0.56515949\n",
      "  0.45371956 0.55118853 0.58374167 0.57439312 1.07741481 0.61302016\n",
      "  0.79722423 0.34192446 0.82147628 0.8848241  0.48961266 0.28053606\n",
      "  0.11422078 0.59338534 0.74715307 0.12536239 0.52170596 0.1278567\n",
      "  0.36776847 0.31517862 0.43093154 0.29830714 0.74546249 0.64624864\n",
      "  0.22727859 1.0106163  0.03913367 0.13152443 0.60700948 0.5111206\n",
      "  0.55151317 0.76522183 0.42970819 0.82471813 0.12932565 0.26683148\n",
      "  0.39846286 0.63028203 0.17632762 0.27254032 0.61588429 0.76451388\n",
      "  0.24454092 0.49783915 0.41357558 0.38809607 0.89939269 1.12771521\n",
      "  0.63397032 0.43513606 0.55397265 0.47449965]\n",
      " [0.20636069 0.36573806 0.93714942 0.64457223 0.81406187 0.61798552\n",
      "  1.16416113 0.91860222 0.15337991 0.         0.44520858 0.57894136\n",
      "  0.16005825 0.31520718 0.76098257 0.8744189  0.23648168 0.27527624\n",
      "  0.76674427 0.54963589 0.48666222 1.13834473 0.55108928 1.08779076\n",
      "  0.70437049 0.92487252 0.73163643 0.1182057  0.88002518 0.29824243\n",
      "  0.29624195 0.40139036 0.92903137 1.05560112 0.96091555 0.09252436\n",
      "  0.51536244 0.61743416 0.93397239 1.06448021 0.38576994 0.9368783\n",
      "  0.59132592 0.62313075 0.63723966 0.51127396 0.52685718 0.48602267\n",
      "  0.46987153 0.67582632 0.6745262  0.44863952 1.05970045 0.61638254\n",
      "  0.76363449 0.20604041 0.79830199 1.0044997  0.51149561 0.40687663\n",
      "  0.20939628 0.70837627 0.83094488 0.21695557 0.40777728 0.07664231\n",
      "  0.3472908  0.28339369 0.4509409  0.40888708 0.79308902 0.72815191\n",
      "  0.07907695 1.03788869 0.15329108 0.12088703 0.68929276 0.47316685\n",
      "  0.64011473 0.70405224 0.46479167 0.94443593 0.14843522 0.14960932\n",
      "  0.39283207 0.56048372 0.32970514 0.23909257 0.65335507 0.88527069\n",
      "  0.22069999 0.38139038 0.4452529  0.4971891  0.9722229  1.13630412\n",
      "  0.73490581 0.49785355 0.4480531  0.5855952 ]\n",
      " [0.24148014 0.17749001 0.68835836 0.59994916 0.42719432 0.40234212\n",
      "  0.90344542 0.70953747 0.35261505 0.44520858 0.         0.40877615\n",
      "  0.30209816 0.35873522 0.32782228 0.6466762  0.4503011  0.56110643\n",
      "  0.3359298  0.11201873 0.17093742 0.83982049 0.18324525 0.85693894\n",
      "  0.32752649 0.60987484 0.40471962 0.32797716 0.44174469 0.19466565\n",
      "  0.14896819 0.42771724 0.49232418 0.70112373 0.76040999 0.35268716\n",
      "  0.65336098 0.2723898  0.5583924  0.73349638 0.48481144 0.5881705\n",
      "  0.33554052 0.26435572 0.8093191  0.65536963 0.36031699 0.52907211\n",
      "  0.238223   0.26123085 0.23210868 0.6605863  0.83069051 0.37455067\n",
      "  0.60677792 0.51956986 0.60583543 0.56824079 0.24536122 0.12923394\n",
      "  0.44647427 0.27287098 0.39457145 0.45638334 0.58604538 0.4656773\n",
      "  0.290547   0.30423165 0.21821909 0.0742378  0.4155228  0.29376395\n",
      "  0.47794021 0.6954943  0.38955911 0.32752251 0.25458555 0.39589758\n",
      "  0.19913931 0.6426868  0.18122336 0.50909929 0.2980749  0.44161402\n",
      "  0.26635429 0.55456795 0.31098122 0.30567471 0.31086144 0.4524696\n",
      "  0.29286132 0.57538289 0.1827796  0.07423119 0.54792796 0.83462537\n",
      "  0.28971638 0.11888846 0.5886032  0.1514286 ]\n",
      " [0.43526726 0.5533668  0.35841843 0.21246513 0.37072782 0.05863076\n",
      "  0.58522034 0.34363531 0.59691213 0.57894136 0.40877615 0.\n",
      "  0.53495844 0.27086424 0.62360258 0.2956853  0.39596172 0.47702653\n",
      "  0.44422754 0.47249819 0.24089168 0.56542857 0.26856377 0.51096671\n",
      "  0.29484521 0.37134507 0.23441104 0.51290655 0.54964896 0.52689242\n",
      "  0.42386306 0.22109037 0.57849208 0.52162836 0.3895023  0.51679584\n",
      "  0.3848674  0.22633687 0.44142817 0.51056389 0.2887667  0.41107129\n",
      "  0.10762564 0.24684813 0.52057126 0.39129743 0.05636873 0.24236276\n",
      "  0.17232298 0.61008886 0.44769018 0.45449668 0.48286979 0.08795282\n",
      "  0.2059577  0.48884697 0.22456699 0.80602473 0.16631053 0.52455626\n",
      "  0.71106652 0.57701005 0.50612835 0.72218591 0.38773077 0.64357426\n",
      "  0.23376602 0.29595454 0.19492698 0.46929722 0.34180435 0.43584481\n",
      "  0.55044158 0.49463281 0.63346721 0.48265805 0.41812673 0.12014604\n",
      "  0.42420469 0.24191253 0.22757017 0.75984076 0.47194145 0.46292806\n",
      "  0.19859132 0.20892699 0.66119023 0.3409634  0.22619614 0.7219752\n",
      "  0.36341913 0.39807545 0.22850503 0.47060368 0.56739806 0.56446515\n",
      "  0.52357293 0.30443625 0.35430808 0.5022407 ]\n",
      " [0.10010055 0.20573643 0.88234445 0.65129624 0.70366542 0.56112524\n",
      "  1.10928779 0.87783194 0.06274492 0.16005825 0.30209816 0.53495844\n",
      "  0.         0.31319362 0.60598935 0.82555475 0.30219114 0.38334966\n",
      "  0.63507884 0.39914705 0.38314143 1.06851024 0.43822001 1.04288782\n",
      "  0.59545204 0.84501592 0.64195247 0.05549811 0.74357763 0.1382819\n",
      "  0.15843974 0.41082664 0.79390816 0.96218836 0.92440141 0.08189703\n",
      "  0.58244355 0.51623474 0.83015056 0.98077031 0.42408617 0.8441145\n",
      "  0.51847961 0.51755454 0.72335657 0.58043971 0.47887931 0.51334494\n",
      "  0.39101685 0.51817296 0.53420558 0.54012318 1.01494476 0.55027714\n",
      "  0.73611704 0.31901509 0.75948185 0.8492513  0.42712847 0.2477675\n",
      "  0.17670623 0.5545792  0.69589546 0.18785867 0.48239823 0.16405746\n",
      "  0.30735149 0.25740063 0.36828375 0.25531726 0.68608549 0.59408724\n",
      "  0.22050875 0.94920992 0.10126306 0.08785433 0.55480565 0.45161919\n",
      "  0.50107196 0.70807168 0.36784955 0.78908946 0.07481792 0.23813179\n",
      "  0.33639516 0.57562254 0.19230081 0.21649799 0.55487417 0.72941605\n",
      "  0.18783334 0.46006005 0.35140679 0.34516616 0.84541933 1.06520532\n",
      "  0.58853989 0.37709135 0.51089262 0.43314055]\n",
      " [0.22811001 0.41968354 0.62807884 0.34002369 0.57331107 0.31761304\n",
      "  0.85351804 0.60467791 0.36814093 0.31520718 0.35873522 0.27086424\n",
      "  0.31319362 0.         0.67149301 0.56329691 0.133866   0.23635828\n",
      "  0.57998678 0.46511109 0.27821688 0.83616884 0.34744951 0.7742254\n",
      "  0.46968338 0.63485701 0.46181357 0.27442078 0.6982243  0.36594201\n",
      "  0.27390845 0.09770566 0.73993077 0.77786768 0.64613045 0.26924012\n",
      "  0.30093945 0.37785196 0.67519247 0.77537398 0.12974848 0.66166774\n",
      "  0.30995236 0.39130582 0.45546604 0.30175414 0.22446204 0.20286771\n",
      "  0.21779934 0.61790462 0.52611799 0.30233901 0.74619077 0.32499706\n",
      "  0.44844227 0.22774776 0.48451514 0.89856152 0.25924032 0.41933165\n",
      "  0.47711291 0.61675066 0.64852602 0.4877366  0.22735652 0.38546041\n",
      "  0.07780398 0.06319611 0.21143426 0.37998045 0.54736775 0.55251398\n",
      "  0.2799577  0.7547987  0.39916538 0.23890714 0.5196229  0.15856112\n",
      "  0.49230631 0.39806813 0.24910999 0.84277344 0.23945007 0.1921295\n",
      "  0.127955   0.26246932 0.48415356 0.09687131 0.40439536 0.79147677\n",
      "  0.12575762 0.21802854 0.22992633 0.43279341 0.75797722 0.83505748\n",
      "  0.60236142 0.32682606 0.23258061 0.50423569]\n",
      " [0.56469859 0.4156519  0.76675666 0.8357945  0.4016157  0.58864528\n",
      "  0.93620544 0.81949796 0.64292975 0.76098257 0.32782228 0.62360258\n",
      "  0.60598935 0.67149301 0.         0.75293236 0.77516684 0.88668954\n",
      "  0.24204906 0.21606677 0.4115434  0.84043357 0.35946457 0.92449964\n",
      "  0.37436454 0.63390873 0.48293202 0.64289595 0.25468838 0.47248341\n",
      "  0.47012384 0.72272038 0.2976254  0.6513705  0.86878085 0.66977777\n",
      "  0.94880675 0.40311503 0.50714482 0.71097715 0.78893479 0.57222039\n",
      "  0.51925924 0.38292903 1.10298614 0.9522391  0.59480727 0.81145898\n",
      "  0.49170383 0.09985771 0.1775821  0.97224656 0.90360273 0.55182436\n",
      "  0.77675033 0.84719341 0.75011188 0.24351894 0.47093454 0.36250927\n",
      "  0.70990331 0.05523208 0.23874558 0.71747078 0.89626131 0.76763369\n",
      "  0.5963528  0.62382474 0.48298777 0.35209559 0.41285321 0.21781523\n",
      "  0.80181666 0.66442706 0.67392275 0.64868463 0.21592249 0.66255189\n",
      "  0.19952947 0.86298215 0.43828836 0.18346644 0.61870114 0.76940294\n",
      "  0.55778433 0.81518073 0.52893109 0.63108167 0.41925046 0.1250139\n",
      "  0.62008272 0.88924719 0.45272969 0.26486715 0.38740341 0.83233024\n",
      "  0.11187538 0.35046023 0.89055985 0.1774284 ]\n",
      " [0.72545422 0.81352794 0.06918876 0.33000848 0.37005854 0.26459109\n",
      "  0.2902241  0.06679381 0.88808518 0.8744189  0.6466762  0.2956853\n",
      "  0.82555475 0.56329691 0.75293236 0.         0.68069394 0.74651849\n",
      "  0.51820886 0.6729273  0.48027782 0.28857189 0.46830517 0.21745111\n",
      "  0.38004411 0.1868132  0.27149326 0.80690661 0.57808916 0.79978815\n",
      "  0.70047708 0.49708445 0.58186215 0.32949502 0.11741174 0.81188952\n",
      "  0.58092436 0.38400926 0.34145819 0.28248248 0.55116959 0.26971378\n",
      "  0.316953   0.39883873 0.66868128 0.5891291  0.34953209 0.47028015\n",
      "  0.44032384 0.77656281 0.58397865 0.67694801 0.18964276 0.28019761\n",
      "  0.14878121 0.77012933 0.08897646 0.86413057 0.41300942 0.77410871\n",
      "  1.00224923 0.72141953 0.55372171 1.01340031 0.62706106 0.93921309\n",
      "  0.52923167 0.5916333  0.46429034 0.71741406 0.34970001 0.53541977\n",
      "  0.84312179 0.29156947 0.92547738 0.77756221 0.53982789 0.40571645\n",
      "  0.5765649  0.29627267 0.48077301 0.83425101 0.76555375 0.75389618\n",
      "  0.4907256  0.39824192 0.93389817 0.63664601 0.35213755 0.8157014\n",
      "  0.65883417 0.64531135 0.49040111 0.69088685 0.52561571 0.29027355\n",
      "  0.64112372 0.52827442 0.5814855  0.69052776]\n",
      " [0.2525468  0.46416197 0.74750394 0.41633338 0.70655223 0.4465841\n",
      "  0.9696984  0.71614842 0.34080129 0.23648168 0.4503011  0.39596172\n",
      "  0.30219114 0.133866   0.77516684 0.68069394 0.         0.11179014\n",
      "  0.7058572  0.56166396 0.40240063 0.9600113  0.47275288 0.8855119\n",
      "  0.60192583 0.76482155 0.59551206 0.2496055  0.82430017 0.3996973\n",
      "  0.33130248 0.18454779 0.86758821 0.90997456 0.75393021 0.23131964\n",
      "  0.28481431 0.50992927 0.80901945 0.90502115 0.15151319 0.7944221\n",
      "  0.4433892  0.52251806 0.42124971 0.28182993 0.35421013 0.25275998\n",
      "  0.34918355 0.71102445 0.64265595 0.23891177 0.85778081 0.45678552\n",
      "  0.55438877 0.09421992 0.59759428 1.00964206 0.39146175 0.4796356\n",
      "  0.43327346 0.71993788 0.77428211 0.44257286 0.18098548 0.31302607\n",
      "  0.20558689 0.15581873 0.34020879 0.45261537 0.6808517  0.67579929\n",
      "  0.17656706 0.88599689 0.3615708  0.21446783 0.64108605 0.27722826\n",
      "  0.60794014 0.47593274 0.37386622 0.95219143 0.23145979 0.08744803\n",
      "  0.25857948 0.33029345 0.49291157 0.14462793 0.53759392 0.89819508\n",
      "  0.16068135 0.15790751 0.35366423 0.52131583 0.88933856 0.95946084\n",
      "  0.71637232 0.4432222  0.21482089 0.60126368]\n",
      " [0.35220506 0.56308754 0.81500493 0.45116199 0.80792895 0.53176814\n",
      "  1.03091642 0.774479   0.40951958 0.27527624 0.56110643 0.47702653\n",
      "  0.38334966 0.23635828 0.88668954 0.74651849 0.11179014 0.\n",
      "  0.81485765 0.67273436 0.51168683 1.03187746 0.58176157 0.94148788\n",
      "  0.70560022 0.84834401 0.69075538 0.32800274 0.93326647 0.49624012\n",
      "  0.43706069 0.25603857 0.97571164 0.99779744 0.80757387 0.30409036\n",
      "  0.25753265 0.61393762 0.90480248 0.98712896 0.19535157 0.8846515\n",
      "  0.53823863 0.62763253 0.36343231 0.25167781 0.44254244 0.28542792\n",
      "  0.45415504 0.82130163 0.75402831 0.17535362 0.91440995 0.54687835\n",
      "  0.61013206 0.06925658 0.65985348 1.12143219 0.49538721 0.58349221\n",
      "  0.48443114 0.83145749 0.88337411 0.49219316 0.1524384  0.34814569\n",
      "  0.31237757 0.26696152 0.44721903 0.56003525 0.7814178  0.78577669\n",
      "  0.19798003 0.97156936 0.42182837 0.29733814 0.75155599 0.35707412\n",
      "  0.71939152 0.50863979 0.48286935 1.06396553 0.32037774 0.14522288\n",
      "  0.36414582 0.36546782 0.57540193 0.25568838 0.63936737 1.00987353\n",
      "  0.26930896 0.12505489 0.46295445 0.63139483 0.99418014 1.0321883\n",
      "  0.82802247 0.55439051 0.20206254 0.7123114 ]\n",
      " [0.56072678 0.49723471 0.52701789 0.65216285 0.15958666 0.39662236\n",
      "  0.69484764 0.58403618 0.68801409 0.76674427 0.3359298  0.44422754\n",
      "  0.63507884 0.57998678 0.24204906 0.51820886 0.7058572  0.81485765\n",
      "  0.         0.27029691 0.30345735 0.60187796 0.23314536 0.68275971\n",
      "  0.15465586 0.39186468 0.25562505 0.65383915 0.11844497 0.52885051\n",
      "  0.47729661 0.60052062 0.16364541 0.42091119 0.63213698 0.67555574\n",
      "  0.81244838 0.22161277 0.27265556 0.47484796 0.67359434 0.33236554\n",
      "  0.33710872 0.20238821 0.95843888 0.81753767 0.43286993 0.6679722\n",
      "  0.36557793 0.29399017 0.11745691 0.85915861 0.66223022 0.36005803\n",
      "  0.56126288 0.7926788  0.52612477 0.36510628 0.32921407 0.4401435\n",
      "  0.78170062 0.22449423 0.06854227 0.79140276 0.78412848 0.79662813\n",
      "  0.50276654 0.55103168 0.36872012 0.39951859 0.17176815 0.04384187\n",
      "  0.78481061 0.42928996 0.72531644 0.64592407 0.08174684 0.51729514\n",
      "  0.14150268 0.66816328 0.3320689  0.32468437 0.61862282 0.72766247\n",
      "  0.45242925 0.65127335 0.63100078 0.57492885 0.21855072 0.29882854\n",
      "  0.57513251 0.7842029  0.35219448 0.31972589 0.2122695  0.59414239\n",
      "  0.13320307 0.271451   0.76580565 0.25937306]\n",
      " [0.34975736 0.23122543 0.70513623 0.67631165 0.39480743 0.45337119\n",
      "  0.90767802 0.73854918 0.44284011 0.54963589 0.11201873 0.47249819\n",
      "  0.39914705 0.46511109 0.21606677 0.6729273  0.56166396 0.67273436\n",
      "  0.27029691 0.         0.23442506 0.83174492 0.21062419 0.87290568\n",
      "  0.31336809 0.60455244 0.41031434 0.43149008 0.3601653  0.27402835\n",
      "  0.25544524 0.52688761 0.41157568 0.67274018 0.78976365 0.45755232\n",
      "  0.75398569 0.28910416 0.52468394 0.71522405 0.58817617 0.56783741\n",
      "  0.38226026 0.27421537 0.90977751 0.75655654 0.43131116 0.6237509\n",
      "  0.31358392 0.15304585 0.15377001 0.76744294 0.84818391 0.42040494\n",
      "  0.6568519  0.63158283 0.6457745  0.45769239 0.30674162 0.17354179\n",
      "  0.52444292 0.16137487 0.31760002 0.5333717  0.69219134 0.56294814\n",
      "  0.39329861 0.41332461 0.29853228 0.14459859 0.39054688 0.22650449\n",
      "  0.58696634 0.6733248  0.47715848 0.43470784 0.1912542  0.48224333\n",
      "  0.13040604 0.71335457 0.25512945 0.39819656 0.40485346 0.55338499\n",
      "  0.36183977 0.64050448 0.36255867 0.41711167 0.32148532 0.34093248\n",
      "  0.40483724 0.68290041 0.26409553 0.05485153 0.47920851 0.82544485\n",
      "  0.19148301 0.16905691 0.69153405 0.03960642]\n",
      " [0.29045543 0.33335288 0.52628023 0.44188982 0.32740146 0.23140482\n",
      "  0.74706595 0.54165426 0.44423237 0.48666222 0.17093742 0.24089168\n",
      "  0.38314143 0.27821688 0.4115434  0.48027782 0.40240063 0.51168683\n",
      "  0.30345735 0.23442506 0.         0.69371909 0.07045829 0.69386201\n",
      "  0.21770978 0.46616724 0.26042057 0.38490257 0.4218996  0.3251268\n",
      "  0.23398658 0.31346875 0.46560052 0.57905234 0.5921741  0.40104603\n",
      "  0.53791388 0.13329479 0.44936538 0.59920401 0.38284809 0.46100925\n",
      "  0.16542067 0.13672467 0.69156439 0.54161675 0.19704881 0.39996053\n",
      "  0.08097441 0.37974681 0.25142248 0.56872497 0.66700449 0.20422981\n",
      "  0.4359538  0.48976931 0.43551588 0.6260009  0.0750474  0.29483301\n",
      "  0.55362848 0.35946747 0.37188865 0.56453228 0.49261636 0.5305449\n",
      "  0.20047717 0.24781061 0.07202891 0.23813698 0.30687239 0.2744005\n",
      "  0.4921921  0.56645053 0.48336312 0.36784848 0.24153651 0.25230953\n",
      "  0.21931248 0.47982227 0.02914422 0.57229667 0.34479706 0.42772057\n",
      "  0.15287098 0.40854768 0.4570385  0.27434068 0.17173286 0.52475364\n",
      "  0.27834096 0.48923107 0.04875281 0.22973129 0.49368814 0.68957163\n",
      "  0.32938237 0.06553407 0.48195609 0.2672814 ]\n",
      " [0.96993802 1.0165762  0.21941571 0.61621521 0.44582131 0.52090068\n",
      "  0.11844519 0.28192006 1.1310647  1.13834473 0.83982049 0.56542857\n",
      "  1.06851024 0.83616884 0.84043357 0.28857189 0.9600113  1.03187746\n",
      "  0.60187796 0.83174492 0.69371909 0.         0.65765111 0.18491675\n",
      "  0.51912576 0.22994621 0.43610222 1.0584137  0.60574107 1.01780045\n",
      "  0.92712291 0.77897968 0.58468045 0.20410403 0.27694737 1.06749045\n",
      "  0.86799471 0.56895429 0.33423706 0.13253355 0.83686956 0.26973034\n",
      "  0.55109069 0.57551642 0.9461752  0.87627351 0.61339459 0.75858668\n",
      "  0.6780033  0.89445191 0.70373455 0.96525568 0.19139486 0.52264452\n",
      "  0.43551843 1.05152973 0.37749737 0.87205771 0.64149029 0.9683904\n",
      "  1.24343739 0.82632583 0.60503865 1.2545037  0.91549558 1.19781815\n",
      "  0.79130119 0.85570286 0.70033874 0.91402052 0.44364625 0.63586915\n",
      "  1.11509458 0.17961159 1.16977131 1.03274279 0.65705976 0.68279736\n",
      "  0.71054775 0.57676704 0.70355982 0.86115131 1.01660769 1.02829157\n",
      "  0.7460925  0.6867496  1.146911   0.89936571 0.52970674 0.86292767\n",
      "  0.91831052 0.93339588 0.71827756 0.8647157  0.49860063 0.01005407\n",
      "  0.73490276 0.72397356 0.8700572  0.83705164]\n",
      " [0.35035574 0.35900434 0.50671132 0.47874669 0.26571041 0.24368917\n",
      "  0.72024108 0.53272578 0.4975233  0.55108928 0.18324525 0.26856377\n",
      "  0.43822001 0.34744951 0.35946457 0.46830517 0.47275288 0.58176157\n",
      "  0.23314536 0.21062419 0.07045829 0.65765111 0.         0.67541203\n",
      "  0.15726563 0.4278492  0.22181645 0.44537243 0.3515871  0.36332927\n",
      "  0.28286868 0.37628081 0.39514247 0.52822933 0.58391155 0.46337528\n",
      "  0.5972247  0.08916654 0.39223873 0.55494348 0.44748271 0.41212428\n",
      "  0.17224459 0.08297656 0.74892333 0.60142134 0.23558311 0.45609794\n",
      "  0.13850459 0.34165261 0.19006197 0.63371279 0.64953387 0.20996983\n",
      "  0.44631767 0.56021529 0.43591991 0.56344462 0.11174967 0.31247275\n",
      "  0.6034347  0.31038721 0.30163172 0.61409807 0.55784965 0.59112509\n",
      "  0.26993928 0.31826875 0.1373031  0.25704253 0.24794972 0.20530927\n",
      "  0.56017916 0.51909361 0.53652488 0.43106862 0.17423913 0.30525647\n",
      "  0.16111369 0.5104068  0.09892361 0.5114635  0.40647862 0.49756428\n",
      "  0.22065206 0.45578262 0.48967783 0.34422496 0.12798747 0.46678011\n",
      "  0.34709082 0.55577439 0.11910994 0.22270318 0.42466717 0.65270089\n",
      "  0.268575   0.06652883 0.54433448 0.23622615]\n",
      " [0.94279005 1.02704872 0.16870081 0.49866089 0.52382595 0.48203816\n",
      "  0.10160167 0.16968013 1.10537414 1.08779076 0.85693894 0.51096671\n",
      "  1.04288782 0.7742254  0.92449964 0.21745111 0.8855119  0.94148788\n",
      "  0.68275971 0.87290568 0.69386201 0.18491675 0.67541203 0.\n",
      "  0.56554589 0.29295196 0.46274109 1.02348287 0.71514797 1.01578762\n",
      "  0.91724216 0.70097147 0.70499565 0.35393717 0.13449594 1.02776252\n",
      "  0.74638323 0.58793178 0.44492723 0.27998792 0.74763634 0.36789369\n",
      "  0.5327503  0.6002381  0.80297964 0.75482307 0.56577477 0.65756629\n",
      "  0.65737454 0.96198526 0.76708642 0.84951188 0.02810989 0.4968285\n",
      "  0.33197774 0.97175904 0.28971077 0.99609143 0.62879953 0.98551182\n",
      "  1.21956254 0.90046327 0.70282518 1.23071203 0.81009629 1.15407121\n",
      "  0.7446979  0.80619158 0.68128389 0.92903773 0.51172019 0.70859203\n",
      "  1.05275829 0.31846073 1.14265418 0.99360227 0.72080843 0.61568468\n",
      "  0.76555481 0.44900037 0.69614216 0.97631387 0.98226862 0.9624229\n",
      "  0.70759369 0.57943451 1.1495184  0.85138499 0.55245874 0.96829716\n",
      "  0.8743378  0.83140778 0.70659594 0.89602592 0.6290191  0.19348463\n",
      "  0.81367184 0.73805414 0.76115986 0.88626613]\n",
      " [0.50645629 0.50480872 0.40077004 0.49924367 0.10969169 0.24411714\n",
      "  0.59490923 0.44682133 0.6547655  0.70437049 0.32752649 0.29484521\n",
      "  0.59545204 0.46968338 0.37436454 0.38004411 0.60192583 0.70560022\n",
      "  0.15465586 0.31336809 0.21770978 0.51912576 0.15726563 0.56554589\n",
      "  0.         0.29119113 0.10877746 0.60135321 0.25480435 0.5166539\n",
      "  0.43992504 0.47221998 0.28529311 0.37397833 0.49687846 0.61835954\n",
      "  0.67261818 0.09201262 0.23509499 0.40701126 0.54620118 0.26082233\n",
      "  0.19041228 0.08175307 0.81406626 0.67829175 0.29152555 0.52772681\n",
      "  0.25282638 0.39808099 0.20416055 0.72842612 0.54217629 0.20835981\n",
      "  0.40837303 0.69364535 0.37689057 0.51971192 0.21052143 0.45341171\n",
      "  0.760103   0.34137553 0.21211592 0.7706967  0.65533478 0.74715736\n",
      "  0.39664768 0.45397686 0.26414446 0.401277   0.09069972 0.15952747\n",
      "  0.70782817 0.36809435 0.69374933 0.58539929 0.15982041 0.38060895\n",
      "  0.20002338 0.5137024  0.24062213 0.47882564 0.56181027 0.63864793\n",
      "  0.34340737 0.50360635 0.63845765 0.48636124 0.07056148 0.44964029\n",
      "  0.49354073 0.65879382 0.26086943 0.345818   0.28898216 0.51311192\n",
      "  0.2632064  0.22093357 0.63163563 0.32226722]\n",
      " [0.74773551 0.78668561 0.1568002  0.4842001  0.23229812 0.31826847\n",
      "  0.30581419 0.23562986 0.90721244 0.92487252 0.60987484 0.37134507\n",
      "  0.84501592 0.63485701 0.63390873 0.1868132  0.76482155 0.84834401\n",
      "  0.39186468 0.60455244 0.46616724 0.22994621 0.4278492  0.29295196\n",
      "  0.29119113 0.         0.20673693 0.83843061 0.42353506 0.78898233\n",
      "  0.7001111  0.59233246 0.41723707 0.15649454 0.27202502 0.84947554\n",
      "  0.72408884 0.33937324 0.16166096 0.14058602 0.65811324 0.08512546\n",
      "  0.33354924 0.34558716 0.83059647 0.73178896 0.41078906 0.59557176\n",
      "  0.45744999 0.67764967 0.48374326 0.81019655 0.27471038 0.31092546\n",
      "  0.31396862 0.85853925 0.25289996 0.7070777  0.41855942 0.73846818\n",
      "  1.01849995 0.61300428 0.4098794  1.02949821 0.75029781 0.98049366\n",
      "  0.58122947 0.64583911 0.47865842 0.68407755 0.22335914 0.42054102\n",
      "  0.90866325 0.12468769 0.94616433 0.81481081 0.43691164 0.4914421\n",
      "  0.48697033 0.46348254 0.47782203 0.68471378 0.79676521 0.82547204\n",
      "  0.53256851 0.53558809 0.91735145 0.68775135 0.29999806 0.67541906\n",
      "  0.70419916 0.76392752 0.49363968 0.63577536 0.34961071 0.22485416\n",
      "  0.5241497  0.49424761 0.71052232 0.61214622]\n",
      " [0.5463293  0.58080761 0.29569572 0.41925595 0.13982248 0.17641124\n",
      "  0.50022878 0.33828693 0.70367013 0.73163643 0.40471962 0.23441104\n",
      "  0.64195247 0.46181357 0.48293202 0.27149326 0.59551206 0.69075538\n",
      "  0.25562505 0.41031434 0.26042057 0.43610222 0.22181645 0.46274109\n",
      "  0.10877746 0.20673693 0.         0.63886257 0.33873935 0.58225745\n",
      "  0.49433339 0.44176493 0.35823979 0.32397083 0.3885609  0.65191395\n",
      "  0.61906647 0.13287926 0.21405243 0.33896403 0.5141425  0.2052443\n",
      "  0.15257669 0.1408116  0.75086262 0.62559208 0.25128156 0.4767113\n",
      "  0.26196909 0.50545561 0.31248593 0.68740913 0.43836218 0.14903072\n",
      "  0.30695574 0.68955187 0.27059795 0.61660971 0.22017287 0.53378734\n",
      "  0.81388386 0.45003539 0.30338741 0.82481732 0.61839379 0.78291278\n",
      "  0.3978365  0.46086868 0.2808206  0.47873646 0.11110898 0.26677524\n",
      "  0.72333285 0.30781882 0.74275142 0.61757743 0.26857059 0.34203138\n",
      "  0.30592698 0.42500818 0.27412912 0.57952487 0.5975857  0.64553899\n",
      "  0.34574913 0.43858328 0.71081185 0.49957844 0.09387117 0.55410582\n",
      "  0.51260591 0.62621382 0.29124948 0.43587425 0.33540881 0.43136223\n",
      "  0.37151084 0.28796047 0.58767071 0.42382635]\n",
      " [0.09502061 0.25451383 0.86604935 0.61441986 0.71069755 0.54400926\n",
      "  1.09359622 0.85652723 0.09486843 0.1182057  0.32797716 0.51290655\n",
      "  0.05549811 0.27442078 0.64289595 0.80690661 0.2496055  0.32800274\n",
      "  0.65383915 0.43149008 0.38490257 1.0584137  0.44537243 1.02348287\n",
      "  0.60135321 0.83843061 0.63886257 0.         0.76555555 0.18565352\n",
      "  0.17918472 0.37096419 0.81509008 0.96176323 0.90179756 0.02845663\n",
      "  0.53214503 0.51787479 0.83426368 0.97615587 0.37777992 0.84312105\n",
      "  0.50736105 0.52138155 0.67076641 0.52980226 0.45771445 0.47033642\n",
      "  0.38114213 0.55854974 0.55852195 0.48641137 0.99542024 0.53666878\n",
      "  0.70981762 0.26351784 0.73704838 0.88640213 0.42013663 0.29137491\n",
      "  0.20309615 0.59019442 0.71690248 0.21387962 0.4304454  0.14580723\n",
      "  0.28038009 0.22402672 0.35979449 0.29082604 0.69135352 0.61428377\n",
      "  0.16876698 0.9466636  0.12485595 0.03669865 0.57519206 0.42117012\n",
      "  0.52442232 0.67224044 0.36612002 0.82636005 0.04180795 0.18282251\n",
      "  0.31628864 0.53605251 0.24743193 0.18010296 0.55542016 0.76729157\n",
      "  0.15309114 0.40744562 0.34794334 0.37898389 0.86162252 1.05560136\n",
      "  0.61746585 0.38827307 0.4608823  0.46738958]\n",
      " [0.67367148 0.59137573 0.57356502 0.75219316 0.2093849  0.49821226\n",
      "  0.71042999 0.64086375 0.79401022 0.88002518 0.44174469 0.54964896\n",
      "  0.74357763 0.6982243  0.25468838 0.57808916 0.82430017 0.93326647\n",
      "  0.11844497 0.3601653  0.4218996  0.60574107 0.3515871  0.71514797\n",
      "  0.25480435 0.42353506 0.33873935 0.76555555 0.         0.63007745\n",
      "  0.58733848 0.71642328 0.05141054 0.40765893 0.68540322 0.78821315\n",
      "  0.92480736 0.33389214 0.27389379 0.4735082  0.78984793 0.34818191\n",
      "  0.44452322 0.31585281 1.06825822 0.93017903 0.5437421  0.77995205\n",
      "  0.48304244 0.33660702 0.21047868 0.97486886 0.69804565 0.46294665\n",
      "  0.64387784 0.91096671 0.60134118 0.28617198 0.44563991 0.53369067\n",
      "  0.88265691 0.26302506 0.05014826 0.8919222  0.900234   0.90654924\n",
      "  0.62110412 0.66941881 0.48685522 0.49930093 0.23355812 0.1523025\n",
      "  0.90079697 0.42632743 0.83037899 0.75950758 0.19079243 0.63046669\n",
      "  0.24260601 0.76264277 0.45050995 0.26122947 0.73161365 0.84531842\n",
      "  0.57053818 0.75835969 0.72194111 0.69285545 0.3241863  0.25722046\n",
      "  0.69242835 0.90101588 0.47063867 0.41362009 0.13309089 0.59689442\n",
      "  0.17900242 0.38812178 0.88038155 0.33942977]\n",
      " [0.1475208  0.06902391 0.8494936  0.68104005 0.61971984 0.53897447\n",
      "  1.07191151 0.85810614 0.17061924 0.29824243 0.19466565 0.52689242\n",
      "  0.1382819  0.36594201 0.47248341 0.79978815 0.3996973  0.49624012\n",
      "  0.52885051 0.27402835 0.3251268  1.01780045 0.36332927 1.01578762\n",
      "  0.5166539  0.78898233 0.58225745 0.18565352 0.63007745 0.\n",
      "  0.10359946 0.45932315 0.68126542 0.89040208 0.90739828 0.21410985\n",
      "  0.66106699 0.45007572 0.75024142 0.91819772 0.49232106 0.77521206\n",
      "  0.48306873 0.4462721  0.81085524 0.66058833 0.47137845 0.56693217\n",
      "  0.36100673 0.3819239  0.41972772 0.63665122 0.98850168 0.51963644\n",
      "  0.73284707 0.43779391 0.7451151  0.71481198 0.38699291 0.11070139\n",
      "  0.25298434 0.42276621 0.58464006 0.26257928 0.57074573 0.29557291\n",
      "  0.32980427 0.30288016 0.33697585 0.13082727 0.60631499 0.48593442\n",
      "  0.35435417 0.88232008 0.20342349 0.20509703 0.44713311 0.47073292\n",
      "  0.38913115 0.73316979 0.31981574 0.65466521 0.17793994 0.35420345\n",
      "  0.33786856 0.61600561 0.1346388  0.27607923 0.4896427  0.59459802\n",
      "  0.24962446 0.5521705  0.30938793 0.21918218 0.74111937 1.01335141\n",
      "  0.46551122 0.29707554 0.58996655 0.30439937]\n",
      " [0.09458896 0.14639838 0.75216085 0.57882204 0.54713831 0.4379701\n",
      "  0.97640381 0.75761287 0.2153042  0.29624195 0.14896819 0.42386306\n",
      "  0.15843974 0.27390845 0.47012384 0.70047708 0.33130248 0.43706069\n",
      "  0.47729661 0.25544524 0.23398658 0.92712291 0.28286868 0.91724216\n",
      "  0.43992504 0.7001111  0.49433339 0.17918472 0.58733848 0.10359946\n",
      "  0.         0.36317681 0.63725311 0.81017257 0.80647559 0.20372301\n",
      "  0.57389698 0.36478695 0.67501311 0.83286089 0.40307312 0.69300738\n",
      "  0.38490897 0.36406975 0.72683193 0.57419383 0.36814687 0.47081981\n",
      "  0.26031986 0.39234751 0.37948098 0.56042695 0.88974668 0.42042332\n",
      "  0.6298018  0.38720503 0.64342923 0.71286538 0.28938327 0.14915034\n",
      "  0.32086504 0.41619139 0.53909323 0.33162569 0.49040041 0.31944801\n",
      "  0.2294565  0.21105259 0.23629136 0.12413616 0.53061249 0.43681982\n",
      "  0.33172315 0.79922749 0.25409537 0.1793439  0.39758554 0.36808081\n",
      "  0.34556273 0.63029364 0.22407207 0.6531604  0.14959954 0.3054359\n",
      "  0.23445846 0.51593818 0.237354   0.19324448 0.40411282 0.59511322\n",
      "  0.17140147 0.47461132 0.21126743 0.20539384 0.68713556 0.92314978\n",
      "  0.43866772 0.21984867 0.50405012 0.29291222]\n",
      " [0.32501091 0.50956807 0.56447235 0.24497468 0.56725661 0.27664492\n",
      "  0.78547595 0.53160381 0.46515994 0.40139036 0.42771724 0.22109037\n",
      "  0.41082664 0.09770566 0.72272038 0.49708445 0.18454779 0.25603857\n",
      "  0.60052062 0.52688761 0.31346875 0.77897968 0.37628081 0.70097147\n",
      "  0.47221998 0.59233246 0.44176493 0.37096419 0.71642328 0.45932315\n",
      "  0.36317681 0.         0.75378535 0.742433   0.56959821 0.36408894\n",
      "  0.22719434 0.38414806 0.65484545 0.73111685 0.07398167 0.63044814\n",
      "  0.29123318 0.40105514 0.38289103 0.23005639 0.19056655 0.10772201\n",
      "  0.23783035 0.67948624 0.56445867 0.25864461 0.67323386 0.29450968\n",
      "  0.37008402 0.27310154 0.41322228 0.93899751 0.27135476 0.50373801\n",
      "  0.57294655 0.66930355 0.66815477 0.58343871 0.18384099 0.47459199\n",
      "  0.13883185 0.15791919 0.24146325 0.4597532  0.53946028 0.57900698\n",
      "  0.35512374 0.71572133 0.49537132 0.33499981 0.55022711 0.10161288\n",
      "  0.53276107 0.30390158 0.2854182  0.88571683 0.33687285 0.26382466\n",
      "  0.16561468 0.16512253 0.58050863 0.19457612 0.40261049 0.8380114\n",
      "  0.22345498 0.18670185 0.27003917 0.50162043 0.75991096 0.77885812\n",
      "  0.64268075 0.3722762  0.16848959 0.5646707 ]\n",
      " [0.72274956 0.64278603 0.57120232 0.77627633 0.22150578 0.52495797\n",
      "  0.69317086 0.64249565 0.84477514 0.92903137 0.49232418 0.57849208\n",
      "  0.79390816 0.73993077 0.2976254  0.58186215 0.86758821 0.97571164\n",
      "  0.16364541 0.41157568 0.46560052 0.58468045 0.39514247 0.70499565\n",
      "  0.28529311 0.41723707 0.35823979 0.81509008 0.05141054 0.68126542\n",
      "  0.63725311 0.75378535 0.         0.38282633 0.68493996 0.83743679\n",
      "  0.95788984 0.36971975 0.26010978 0.45217873 0.82754665 0.33727925\n",
      "  0.47561009 0.35283219 1.0987775  0.96352755 0.57669449 0.81298417\n",
      "  0.52329857 0.38373901 0.26156473 1.01158254 0.68954359 0.49086527\n",
      "  0.6584026  0.9553328  0.61238642 0.29114617 0.48451186 0.58510102\n",
      "  0.93392118 0.31059768 0.09819066 0.94321157 0.93756957 0.9566191\n",
      "  0.66333408 0.71341114 0.52856233 0.5505215  0.24856352 0.20089372\n",
      "  0.94833252 0.40527042 0.88127509 0.80835791 0.23990136 0.66506873\n",
      "  0.29326288 0.78316969 0.49382712 0.27647847 0.78069511 0.89112973\n",
      "  0.61199754 0.7873818  0.7732934  0.73823125 0.35577479 0.28304224\n",
      "  0.73874392 0.93939588 0.51418952 0.465011   0.09295037 0.57548319\n",
      "  0.22919351 0.43504605 0.91584713 0.39062111]\n",
      " [0.86841027 0.87797068 0.27947663 0.64020207 0.27806425 0.46603084\n",
      "  0.318435   0.36326058 1.02306779 1.05560112 0.70112373 0.52162836\n",
      "  0.96218836 0.77786768 0.6513705  0.32949502 0.90997456 0.99779744\n",
      "  0.42091119 0.67274018 0.57905234 0.20410403 0.52822933 0.35393717\n",
      "  0.37397833 0.15649454 0.32397083 0.96176323 0.40765893 0.89040208\n",
      "  0.81017257 0.742433   0.38282633 0.         0.38634746 0.97548728\n",
      "  0.88048778 0.44603854 0.1490477  0.07514318 0.81008588 0.11877305\n",
      "  0.46955312 0.44615114 0.98631608 0.88816264 0.55640228 0.75084269\n",
      "  0.58582958 0.71450083 0.53177072 0.96573879 0.34689456 0.45319\n",
      "  0.4671733  1.00412843 0.40515142 0.6683512  0.54414061 0.82532655\n",
      "  1.13103705 0.64343808 0.41289824 1.14179288 0.90467632 1.10635566\n",
      "  0.71874392 0.78265541 0.60477209 0.77448025 0.28590352 0.45950528\n",
      "  1.04581057 0.03911948 1.06219926 0.94125878 0.48670233 0.64092322\n",
      "  0.54484696 0.61741582 0.59580472 0.65906299 0.92072381 0.96579537\n",
      "  0.66774433 0.69195491 1.01209381 0.82251401 0.40732302 0.6637735\n",
      "  0.83631206 0.91749062 0.61382459 0.71275235 0.29502008 0.19449801\n",
      "  0.55108468 0.59373916 0.86581879 0.6715121 ]\n",
      " [0.82459094 0.92448169 0.11523154 0.36431149 0.48017656 0.36853137\n",
      "  0.23068417 0.05123181 0.98641103 0.96091555 0.76040999 0.3895023\n",
      "  0.92440141 0.64613045 0.86878085 0.11741174 0.75393021 0.80757387\n",
      "  0.63213698 0.78976365 0.5921741  0.27694737 0.58391155 0.13449594\n",
      "  0.49687846 0.27202502 0.3885609  0.90179756 0.68540322 0.90739828\n",
      "  0.80647559 0.56959821 0.68493996 0.38634746 0.         0.90444856\n",
      "  0.61296435 0.50068799 0.43359304 0.32300705 0.61422205 0.35692125\n",
      "  0.42720129 0.51587314 0.67578995 0.62139636 0.44552338 0.52327278\n",
      "  0.54644542 0.893854   0.70096686 0.71553923 0.10856641 0.38911765\n",
      "  0.19954145 0.83904452 0.16493539 0.97142358 0.52250783 0.88686456\n",
      "  1.10056878 0.83817516 0.66419677 1.11168781 0.6756008  1.02883834\n",
      "  0.62161715 0.68147214 0.57049263 0.83013569 0.46179785 0.65102874\n",
      "  0.92307514 0.34729677 1.02293321 0.87070839 0.65653361 0.48776964\n",
      "  0.69392074 0.31565713 0.59055889 0.94415771 0.86109297 0.83229598\n",
      "  0.58800711 0.4449691  1.04194005 0.72673868 0.46936955 0.92809213\n",
      "  0.75078419 0.69694106 0.59867568 0.80661466 0.62134074 0.28249313\n",
      "  0.75690986 0.64259166 0.62670195 0.80778626]\n",
      " [0.11485061 0.28296133 0.87219406 0.60872133 0.72793878 0.5504744\n",
      "  1.09979058 0.85997231 0.1094821  0.09252436 0.35268716 0.51679584\n",
      "  0.08189703 0.26924012 0.66977777 0.81188952 0.23131964 0.30409036\n",
      "  0.67555574 0.45755232 0.40104603 1.06749045 0.46337528 1.02776252\n",
      "  0.61835954 0.84947554 0.65191395 0.02845663 0.78821315 0.21410985\n",
      "  0.20372301 0.36408894 0.83743679 0.97548728 0.90444856 0.\n",
      "  0.51556734 0.53335568 0.85011111 0.98795211 0.36555036 0.85673667\n",
      "  0.51703885 0.53776546 0.65141376 0.51286991 0.46235804 0.46051275\n",
      "  0.39211139 0.5861492  0.5821846  0.46574311 0.99966543 0.54498346\n",
      "  0.71066003 0.23839663 0.74007    0.9132352  0.43222073 0.31959062\n",
      "  0.20927939 0.61682827 0.73929204 0.21959557 0.41223146 0.1311019\n",
      "  0.28312675 0.22354886 0.3715831  0.31786752 0.70790864 0.63654549\n",
      "  0.14034288 0.95944712 0.13302092 0.03474898 0.59758341 0.42049693\n",
      "  0.54785083 0.66712575 0.38091126 0.853239   0.05715354 0.15948889\n",
      "  0.32257352 0.52864787 0.27181633 0.17851703 0.57031023 0.79432147\n",
      "  0.15366586 0.38845744 0.36211493 0.40547869 0.88218857 1.06492384\n",
      "  0.64239029 0.40805429 0.44476558 0.49383869]\n",
      " [0.5160966  0.71851915 0.64940373 0.25188858 0.7553434  0.44266448\n",
      "  0.84346947 0.5907518  0.62491055 0.51536244 0.65336098 0.3848674\n",
      "  0.58244355 0.30093945 0.94880675 0.58092436 0.28481431 0.25753265\n",
      "  0.81244838 0.75398569 0.53791388 0.86799471 0.5972247  0.74638323\n",
      "  0.67261818 0.72408884 0.61906647 0.53214503 0.92480736 0.66106699\n",
      "  0.57389698 0.22719434 0.95788984 0.88048778 0.61296435 0.51556734\n",
      "  0.         0.59131769 0.82117266 0.85225512 0.17119097 0.78070506\n",
      "  0.48261454 0.6101222  0.15597584 0.00844242 0.38127829 0.1449222\n",
      "  0.45944091 0.90666069 0.78701747 0.10656911 0.72141569 0.47213552\n",
      "  0.43261333 0.3190806  0.49233706 1.1605267  0.48779685 0.72024466\n",
      "  0.71754671 0.89576368 0.87836066 0.72663116 0.10808159 0.59161818\n",
      "  0.36284351 0.36302679 0.46605236 0.68031274 0.72647387 0.79526411\n",
      "  0.44462485 0.84795058 0.64638505 0.4960282  0.76923686 0.29526699\n",
      "  0.75639191 0.29739678 0.51061075 1.10860148 0.50883125 0.36708539\n",
      "  0.39275455 0.18855679 0.76888457 0.38499598 0.60211507 1.06246068\n",
      "  0.41174065 0.13534894 0.49621917 0.72750298 0.9519004  0.87040383\n",
      "  0.86551996 0.5984598  0.07170321 0.79185125]\n",
      " [0.42363805 0.44799909 0.41931379 0.43796443 0.19924016 0.18590749\n",
      "  0.63120556 0.44946616 0.57702965 0.61743416 0.2723898  0.22633687\n",
      "  0.51623474 0.37785196 0.40311503 0.38400926 0.50992927 0.61393762\n",
      "  0.22161277 0.28910416 0.13329479 0.56895429 0.08916654 0.58793178\n",
      "  0.09201262 0.33937324 0.13287926 0.51787479 0.33389214 0.45007572\n",
      "  0.36478695 0.38414806 0.36971975 0.44603854 0.50068799 0.53335568\n",
      "  0.59131769 0.         0.31678897 0.46866949 0.45799306 0.3283506\n",
      "  0.11890171 0.02058962 0.73683125 0.5965574  0.21126153 0.44663595\n",
      "  0.16081419 0.4041638  0.22556465 0.64188577 0.56238595 0.1488851\n",
      "  0.37748876 0.6016466  0.35935529 0.5800157  0.11861479 0.40160271\n",
      "  0.68546661 0.36049857 0.28704424 0.69628972 0.5678782  0.66334825\n",
      "  0.30463711 0.36230045 0.17263594 0.34620567 0.17623855 0.20971693\n",
      "  0.61791334 0.43444231 0.61616148 0.49977831 0.19246469 0.29660109\n",
      "  0.20699197 0.46098523 0.15268325 0.53350601 0.47747674 0.54729523\n",
      "  0.25139622 0.43069025 0.57799604 0.39551651 0.03957934 0.49638506\n",
      "  0.40379578 0.57014029 0.17223484 0.30821183 0.38027157 0.56414518\n",
      "  0.29901591 0.15509111 0.54663324 0.30878026]\n",
      " [0.73969615 0.73407448 0.3184073  0.59993923 0.13151551 0.38285749\n",
      "  0.43657687 0.39564509 0.88974953 0.93397239 0.5583924  0.44142817\n",
      "  0.83015056 0.67519247 0.50714482 0.34145819 0.80901945 0.90480248\n",
      "  0.27265556 0.52468394 0.44936538 0.33423706 0.39223873 0.44492723\n",
      "  0.23509499 0.16166096 0.21405243 0.83426368 0.27389379 0.75024142\n",
      "  0.67501311 0.65484545 0.26010978 0.1490477  0.43359304 0.85011111\n",
      "  0.82117266 0.31678897 0.         0.20383522 0.72653457 0.07796822\n",
      "  0.36661674 0.31303501 0.94339294 0.82818856 0.46431161 0.6823231\n",
      "  0.4690049  0.56660919 0.38272309 0.89582307 0.42991151 0.36051266\n",
      "  0.44810718 0.90290869 0.39214078 0.5512516  0.42593415 0.68037175\n",
      "  0.99513353 0.4962828  0.2708041  1.00570317 0.82882056 0.97990059\n",
      "  0.60912718 0.67095789 0.48515792 0.6308904  0.14445134 0.31059764\n",
      "  0.93142272 0.15737644 0.92876136 0.81656717 0.3377181  0.55426714\n",
      "  0.39616553 0.59078784 0.46942922 0.53352252 0.79409649 0.85641434\n",
      "  0.55628229 0.63524518 0.86875364 0.70768846 0.28071695 0.53070434\n",
      "  0.71831621 0.83793322 0.48874952 0.56598993 0.18800567 0.32582567\n",
      "  0.40407654 0.45587028 0.79551485 0.52264105]\n",
      " [0.88451456 0.91098635 0.22401123 0.60598658 0.32274191 0.45844771\n",
      "  0.24406996 0.30605788 1.04259075 1.06448021 0.73349638 0.51056389\n",
      "  0.98077031 0.77537398 0.71097715 0.28248248 0.90502115 0.98712896\n",
      "  0.47484796 0.71522405 0.59920401 0.13253355 0.55494348 0.27998792\n",
      "  0.40701126 0.14058602 0.33896403 0.97615587 0.4735082  0.91819772\n",
      "  0.83286089 0.73111685 0.45217873 0.07514318 0.32300705 0.98795211\n",
      "  0.85225512 0.46866949 0.20383522 0.         0.7955779  0.14738744\n",
      "  0.47338145 0.47196837 0.94933169 0.86018683 0.55118232 0.7288408\n",
      "  0.59588098 0.76861961 0.5807882  0.94220799 0.27440248 0.45148228\n",
      "  0.42759867 0.99860675 0.3652689  0.74008392 0.55603287 0.86031809\n",
      "  1.15279932 0.69917457 0.47421989 1.16371872 0.88487545 1.11904577\n",
      "  0.72162384 0.786199   0.6165092  0.80758031 0.32467718 0.51079269\n",
      "  1.04914074 0.04718077 1.08165768 0.95336448 0.53460171 0.63070286\n",
      "  0.59040368 0.57743498 0.61292738 0.72863878 0.93462012 0.96605795\n",
      "  0.67262428 0.66477845 1.04369949 0.82788291 0.42913011 0.73062048\n",
      "  0.84390751 0.89962241 0.6296109  0.75175856 0.36670665 0.12347319\n",
      "  0.60720086 0.62137886 0.8434015  0.71746287]\n",
      " [0.34960833 0.54824277 0.61969091 0.26629375 0.6408977  0.34591468\n",
      "  0.83602008 0.57986745 0.47249501 0.38576994 0.48481144 0.2887667\n",
      "  0.42408617 0.12974848 0.78893479 0.55116959 0.15151319 0.19535157\n",
      "  0.67359434 0.58817617 0.38284809 0.83686956 0.44748271 0.74763634\n",
      "  0.54620118 0.65811324 0.5141425  0.37777992 0.78984793 0.49232106\n",
      "  0.40307312 0.07398167 0.82754665 0.81008588 0.61422205 0.36555036\n",
      "  0.17119097 0.45799306 0.72653457 0.7955779  0.         0.69972752\n",
      "  0.36449883 0.47474717 0.32601523 0.17209412 0.26291812 0.10126584\n",
      "  0.30948577 0.74121267 0.63426897 0.18623402 0.72035596 0.36603269\n",
      "  0.41578364 0.22625213 0.46458331 1.0088433  0.34439457 0.54906518\n",
      "  0.5738165  0.73492697 0.74140184 0.58374028 0.11058647 0.46175138\n",
      "  0.19492137 0.19204166 0.31123202 0.50937929 0.61299819 0.65124431\n",
      "  0.32803424 0.78222703 0.49856164 0.34108222 0.62169374 0.17227466\n",
      "  0.60193816 0.32566957 0.35425777 0.95483155 0.34933025 0.23850414\n",
      "  0.23153526 0.17973756 0.60499269 0.21686743 0.47657611 0.90599421\n",
      "  0.24469731 0.11281772 0.33767401 0.55904255 0.83383395 0.83731699\n",
      "  0.71216055 0.43928012 0.10380942 0.62670715]\n",
      " [0.74991317 0.76556148 0.24170162 0.54922713 0.17649882 0.3539532\n",
      "  0.36501227 0.32064854 0.90521231 0.9368783  0.5881705  0.41107129\n",
      "  0.8441145  0.66166774 0.57222039 0.26971378 0.7944221  0.8846515\n",
      "  0.33236554 0.56783741 0.46100925 0.26973034 0.41212428 0.36789369\n",
      "  0.26082233 0.08512546 0.2052443  0.84312105 0.34818191 0.77521206\n",
      "  0.69300738 0.63044814 0.33727925 0.11877305 0.35692125 0.85673667\n",
      "  0.78070506 0.3283506  0.07796822 0.14738744 0.69972752 0.\n",
      "  0.35231957 0.32949335 0.89534363 0.78808622 0.44221264 0.64632167\n",
      "  0.46717406 0.62473869 0.43479151 0.86130016 0.35229909 0.33814837\n",
      "  0.38735672 0.88863993 0.3284604  0.62826342 0.42539643 0.71417676\n",
      "  1.01378511 0.55670509 0.34026663 1.02459158 0.79756144 0.98762671\n",
      "  0.60107003 0.66474824 0.48601529 0.66204534 0.17729072 0.36619076\n",
      "  0.92773504 0.10732963 0.94434559 0.82249547 0.38832662 0.52885077\n",
      "  0.44338218 0.53426069 0.47728381 0.60895617 0.80203656 0.84846149\n",
      "  0.54971651 0.59265074 0.89892684 0.70423676 0.28933143 0.60361956\n",
      "  0.71774017 0.80893022 0.49517894 0.60462706 0.26568298 0.26223784\n",
      "  0.46551701 0.47815266 0.7609341  0.57038898]\n",
      " [0.41928078 0.49733262 0.3672679  0.31909821 0.27688905 0.07151808\n",
      "  0.59234763 0.37694818 0.58119164 0.59132592 0.33554052 0.10762564\n",
      "  0.51847961 0.30995236 0.51925924 0.316953   0.4433892  0.53823863\n",
      "  0.33710872 0.38226026 0.16542067 0.55109069 0.17224459 0.5327503\n",
      "  0.19041228 0.33354924 0.15257669 0.50736105 0.44452322 0.48306873\n",
      "  0.38490897 0.29123318 0.47561009 0.46955312 0.42720129 0.51703885\n",
      "  0.48261454 0.11890171 0.36661674 0.47338145 0.36449883 0.35231957\n",
      "  0.         0.13946748 0.62379236 0.48843384 0.10295725 0.33785925\n",
      "  0.12748451 0.51199095 0.34233347 0.54240847 0.50543404 0.03906657\n",
      "  0.2749221  0.53753504 0.27029945 0.6983995  0.09609407 0.46022205\n",
      "  0.69442641 0.47432732 0.39996662 0.70554936 0.47113863 0.64781045\n",
      "  0.24934297 0.31356611 0.1506222  0.40354346 0.24870887 0.32823182\n",
      "  0.57685075 0.4486787  0.61962605 0.48230358 0.31116021 0.19399213\n",
      "  0.32067137 0.34372392 0.1638405  0.65235203 0.4655607  0.49626186\n",
      "  0.19931678 0.31438386 0.61700689 0.35460389 0.12034442 0.61511976\n",
      "  0.37065027 0.47717024 0.1738786  0.38863616 0.4717413  0.54824035\n",
      "  0.41722906 0.22072221 0.44410562 0.40844612]\n",
      " [0.42670634 0.44112529 0.43188236 0.45854444 0.19117179 0.20637203\n",
      "  0.64089468 0.46470167 0.5777222  0.62313075 0.26435572 0.24684813\n",
      "  0.51755454 0.39130582 0.38292903 0.39883873 0.52251806 0.62763253\n",
      "  0.20238821 0.27421537 0.13672467 0.57551642 0.08297656 0.6002381\n",
      "  0.08175307 0.34558716 0.1408116  0.52138155 0.31585281 0.4462721\n",
      "  0.36406975 0.40105514 0.35283219 0.44615114 0.51587314 0.53776546\n",
      "  0.6101222  0.02058962 0.31303501 0.47196837 0.47474717 0.32949335\n",
      "  0.13946748 0.         0.75626397 0.61526824 0.23077349 0.46558928\n",
      "  0.17355435 0.38564654 0.20534933 0.65921657 0.57503289 0.16930671\n",
      "  0.39659349 0.61355805 0.37701658 0.55968068 0.13261239 0.3932179\n",
      "  0.6849265  0.34079132 0.26846745 0.6956646  0.58488662 0.66710841\n",
      "  0.3169475  0.37306187 0.18326361 0.3385221  0.17014775 0.18939425\n",
      "  0.62607707 0.43631055 0.6168177  0.50455943 0.17188104 0.31510012\n",
      "  0.18756237 0.48149285 0.15892406 0.51299549 0.48145334 0.55732008\n",
      "  0.2640239  0.4507598  0.57243454 0.40479996 0.04781091 0.47579595\n",
      "  0.41178905 0.58657533 0.17912697 0.29602204 0.36684679 0.57040697\n",
      "  0.27848865 0.14945805 0.56454236 0.29229882]\n",
      " [0.66432425 0.87023236 0.73386517 0.34656883 0.88973126 0.57594006\n",
      "  0.90381195 0.66425536 0.76061895 0.63723966 0.8093191  0.52057126\n",
      "  0.72335657 0.45546604 1.10298614 0.66868128 0.42124971 0.36343231\n",
      "  0.95843888 0.90977751 0.69156439 0.9461752  0.74892333 0.80297964\n",
      "  0.81406626 0.83059647 0.75086262 0.67076641 1.06825822 0.81085524\n",
      "  0.72683193 0.38289103 1.0987775  0.98631608 0.67578995 0.65141376\n",
      "  0.15597584 0.73683125 0.94339294 0.94933169 0.32601523 0.89534363\n",
      "  0.62379236 0.75626397 0.         0.15409833 0.52556995 0.29287153\n",
      "  0.61216836 1.06234458 0.93898173 0.18860684 0.78090407 0.60848151\n",
      "  0.52173348 0.43196228 0.58407347 1.3111897  0.63828139 0.87418898\n",
      "  0.84505545 1.05030211 1.02306254 0.85333371 0.24144348 0.71125539\n",
      "  0.51878448 0.51674212 0.61999909 0.83536681 0.86075788 0.94365861\n",
      "  0.56113758 0.95129781 0.77820855 0.63570712 0.91923322 0.44428184\n",
      "  0.90906669 0.37240876 0.66472114 1.26025765 0.65157632 0.49532721\n",
      "  0.54825888 0.31244304 0.9131428  0.53566763 0.74413012 1.21527902\n",
      "  0.56130918 0.2633439  0.65090758 0.88347033 1.08615655 0.95000071\n",
      "  1.01749828 0.7530065  0.22302831 0.94752235]\n",
      " [0.51523924 0.71850468 0.65763889 0.26020853 0.76161389 0.44921746\n",
      "  0.85189551 0.59912748 0.62228017 0.51127396 0.65536963 0.39129743\n",
      "  0.58043971 0.30175414 0.9522391  0.5891291  0.28182993 0.25167781\n",
      "  0.81753767 0.75655654 0.54161675 0.87627351 0.60142134 0.75482307\n",
      "  0.67829175 0.73178896 0.62559208 0.52980226 0.93017903 0.66058833\n",
      "  0.57419383 0.23005639 0.96352755 0.88816264 0.62139636 0.51286991\n",
      "  0.00844242 0.5965574  0.82818856 0.86018683 0.17209412 0.78808622\n",
      "  0.48843384 0.61526824 0.15409833 0.         0.38684548 0.15058629\n",
      "  0.46345314 0.90932757 0.79109503 0.09840532 0.72985058 0.47841654\n",
      "  0.44086332 0.31392532 0.50051081 1.16481266 0.4923057  0.72090608\n",
      "  0.71412188 0.89906886 0.88359615 0.72313664 0.10356409 0.58742009\n",
      "  0.36482357 0.36352159 0.4696892  0.6814599  0.73276398 0.80001081\n",
      "  0.44000806 0.85571129 0.64334278 0.49379316 0.77371945 0.30025602\n",
      "  0.76030472 0.3058349  0.51416874 1.11269243 0.50703833 0.36336341\n",
      "  0.39567102 0.19620776 0.76744908 0.38459151 0.60776391 1.06628436\n",
      "  0.41109749 0.13051543 0.49955259 0.72954959 0.95811962 0.87866362\n",
      "  0.86957744 0.60181931 0.07063396 0.79454044]\n",
      " [0.37909127 0.49948752 0.41059305 0.24526129 0.37971179 0.09318318\n",
      "  0.6379998  0.39920983 0.5409438  0.52685718 0.36031699 0.05636873\n",
      "  0.47887931 0.22446204 0.59480727 0.34953209 0.35421013 0.44254244\n",
      "  0.43286993 0.43131116 0.19704881 0.61339459 0.23558311 0.56577477\n",
      "  0.29152555 0.41078906 0.25128156 0.45771445 0.5437421  0.47137845\n",
      "  0.36814687 0.19056655 0.57669449 0.55640228 0.44552338 0.46235804\n",
      "  0.38127829 0.21126153 0.46431161 0.55118232 0.26291812 0.44221264\n",
      "  0.10295725 0.23077349 0.52556995 0.38684548 0.         0.23635669\n",
      "  0.12209938 0.57376726 0.42203168 0.43946534 0.53770804 0.10440288\n",
      "  0.26177178 0.44815328 0.28061472 0.78861409 0.12587139 0.47257301\n",
      "  0.65513413 0.54594924 0.49781356 0.66626174 0.36848699 0.59006585\n",
      "  0.18005399 0.24346366 0.14317359 0.41799479 0.3513996  0.4191384\n",
      "  0.50182409 0.53183281 0.57767142 0.42803934 0.39711059 0.09126869\n",
      "  0.39564744 0.28321403 0.17985515 0.73988819 0.41656286 0.41611757\n",
      "  0.14249072 0.221906   0.60550028 0.28803297 0.22097035 0.69875488\n",
      "  0.30945268 0.37523652 0.17797414 0.42504564 0.57469001 0.61192201\n",
      "  0.49964265 0.26225468 0.34119714 0.46316259]\n",
      " [0.43096925 0.61719199 0.53944574 0.16684554 0.61169606 0.30078123\n",
      "  0.7490601  0.49234269 0.56515949 0.48602267 0.52907211 0.24236276\n",
      "  0.51334494 0.20286771 0.81145898 0.47028015 0.25275998 0.28542792\n",
      "  0.6679722  0.6237509  0.39996053 0.75858668 0.45609794 0.65756629\n",
      "  0.52772681 0.59557176 0.4767113  0.47033642 0.77995205 0.56693217\n",
      "  0.47081981 0.10772201 0.81298417 0.75084269 0.52327278 0.46051275\n",
      "  0.1449222  0.44663595 0.6823231  0.7288408  0.10126584 0.64632167\n",
      "  0.33785925 0.46558928 0.29287153 0.15058629 0.23635669 0.\n",
      "  0.31989705 0.77504196 0.64615963 0.2150755  0.63081013 0.32868925\n",
      "  0.32808513 0.32466276 0.38177964 1.01841707 0.34543106 0.61032112\n",
      "  0.66969001 0.75936002 0.73364574 0.67986301 0.15705861 0.56163147\n",
      "  0.24452995 0.264803   0.32904095 0.56507602 0.58291158 0.65164333\n",
      "  0.42929819 0.72023303 0.59326859 0.4338013  0.62656153 0.15157739\n",
      "  0.61646351 0.22564963 0.37384517 0.9673869  0.43871541 0.33958557\n",
      "  0.26302412 0.08033482 0.687002   0.29889931 0.45721094 0.9226399\n",
      "  0.32776825 0.17523782 0.36128737 0.60226714 0.80803125 0.7598475\n",
      "  0.72466728 0.46263413 0.11497761 0.66044105]\n",
      " [0.29197995 0.38248831 0.49351249 0.36404269 0.35881253 0.17796799\n",
      "  0.71941214 0.49736557 0.45371956 0.46987153 0.238223   0.17232298\n",
      "  0.39101685 0.21779934 0.49170383 0.44032384 0.34918355 0.45415504\n",
      "  0.36557793 0.31358392 0.08097441 0.6780033  0.13850459 0.65737454\n",
      "  0.25282638 0.45744999 0.26196909 0.38114213 0.48304244 0.36100673\n",
      "  0.26031986 0.23783035 0.52329857 0.58582958 0.54644542 0.39211139\n",
      "  0.45944091 0.16081419 0.4690049  0.59588098 0.30948577 0.46717406\n",
      "  0.12748451 0.17355435 0.61216836 0.46345314 0.12209938 0.31989705\n",
      "  0.         0.46048122 0.32765857 0.49568601 0.62977367 0.16079117\n",
      "  0.37575545 0.44085644 0.38428435 0.70176153 0.04322571 0.3522614\n",
      "  0.56695175 0.44006126 0.43387018 0.5780768  0.42001175 0.52318718\n",
      "  0.14382534 0.20270281 0.0240504  0.2969909  0.33418872 0.34182292\n",
      "  0.46256383 0.56815555 0.49219016 0.35749545 0.31241467 0.17137604\n",
      "  0.29701199 0.40478955 0.0587554  0.6492532  0.33941592 0.38827228\n",
      "  0.09060645 0.32777846 0.49560905 0.23872108 0.19051481 0.60319296\n",
      "  0.25067939 0.4189359  0.05622052 0.30380987 0.54036277 0.6749471\n",
      "  0.40612699 0.145886   0.40583181 0.34748565]\n",
      " [0.48632265 0.3215967  0.79867021 0.81877107 0.44891197 0.58336612\n",
      "  0.9832243  0.8433057  0.55118853 0.67582632 0.26123085 0.61008886\n",
      "  0.51817296 0.61790462 0.09985771 0.77656281 0.71102445 0.82130163\n",
      "  0.29399017 0.15304585 0.37974681 0.89445191 0.34165261 0.96198526\n",
      "  0.39808099 0.67764967 0.50545561 0.55854974 0.33660702 0.3819239\n",
      "  0.39234751 0.67948624 0.38373901 0.71450083 0.893854   0.5861492\n",
      "  0.90666069 0.4041638  0.56660919 0.76861961 0.74121267 0.62473869\n",
      "  0.51199095 0.38564654 1.06234458 0.90932757 0.57376726 0.77504196\n",
      "  0.46048122 0.         0.19489938 0.92023785 0.93932049 0.54800821\n",
      "  0.7814173  0.77695418 0.76230132 0.33425059 0.44790201 0.27122264\n",
      "  0.61328674 0.0737359  0.3104384  0.62054497 0.84510196 0.67741722\n",
      "  0.54634366 0.5651343  0.44747678 0.26962837 0.45436584 0.25861577\n",
      "  0.72166611 0.72323832 0.5806529  0.56767182 0.2413321  0.63112243\n",
      "  0.20024193 0.85199274 0.40312494 0.2743927  0.53770599 0.69670391\n",
      "  0.51413445 0.78825087 0.43032668 0.56645308 0.42848043 0.21393056\n",
      "  0.55217215 0.83550192 0.41402978 0.18995389 0.46919612 0.88696383\n",
      "  0.16454647 0.31461329 0.84453227 0.11482391]\n",
      " [0.46856537 0.38332745 0.60409758 0.66014362 0.25830702 0.41125098\n",
      "  0.78954071 0.65077203 0.58374167 0.6745262  0.23210868 0.44769018\n",
      "  0.53420558 0.52611799 0.1775821  0.58397865 0.64265595 0.75402831\n",
      "  0.11745691 0.15377001 0.25142248 0.70373455 0.19006197 0.76708642\n",
      "  0.20416055 0.48374326 0.31248593 0.55852195 0.21047868 0.41972772\n",
      "  0.37948098 0.56445867 0.26156473 0.53177072 0.70096686 0.5821846\n",
      "  0.78701747 0.22556465 0.38272309 0.5807882  0.63426897 0.43479151\n",
      "  0.34233347 0.20534933 0.93898173 0.79109503 0.42203168 0.64615963\n",
      "  0.32765857 0.19489938 0.         0.82011215 0.74446836 0.37435595\n",
      "  0.59994211 0.72371225 0.57534728 0.37460625 0.30127815 0.32580575\n",
      "  0.67249323 0.1381107  0.16522898 0.68185619 0.74398112 0.69772091\n",
      "  0.44857166 0.48706791 0.32316522 0.28904582 0.26102417 0.07427981\n",
      "  0.70064344 0.53664931 0.61995966 0.55491352 0.04685497 0.49521506\n",
      "  0.03516588 0.68592494 0.28012951 0.32159769 0.52626519 0.65249174\n",
      "  0.40375632 0.64371102 0.51596179 0.50360926 0.24250554 0.27707905\n",
      "  0.49890674 0.7400923  0.29760017 0.20510807 0.32555561 0.69660469\n",
      "  0.07852535 0.19985744 0.73289508 0.14217461]\n",
      " [0.48913212 0.69929087 0.74594654 0.35186753 0.81911222 0.5131237\n",
      "  0.94551917 0.69104996 0.57439312 0.44863952 0.6605863  0.45449668\n",
      "  0.54012318 0.30233901 0.97224656 0.67694801 0.23891177 0.17535362\n",
      "  0.85915861 0.76744294 0.56872497 0.96525568 0.63371279 0.84951188\n",
      "  0.72842612 0.81019655 0.68740913 0.48641137 0.97486886 0.63665122\n",
      "  0.56042695 0.25864461 1.01158254 0.96573879 0.71553923 0.46574311\n",
      "  0.10656911 0.64188577 0.89582307 0.94220799 0.18623402 0.86130016\n",
      "  0.54240847 0.65921657 0.18860684 0.09840532 0.43946534 0.2150755\n",
      "  0.49568601 0.92023785 0.82011215 0.         0.82410377 0.53842091\n",
      "  0.53009139 0.2434747  0.58797941 1.19457681 0.52999744 0.70952018\n",
      "  0.65666338 0.9178187  0.92673582 0.66486082 0.07617965 0.52271338\n",
      "  0.3759251  0.35742224 0.49730115 0.67618781 0.79069169 0.83736887\n",
      "  0.37264902 0.93478588 0.59066746 0.4522718  0.80792752 0.34856415\n",
      "  0.78751589 0.40090524 0.53998796 1.14017688 0.47032228 0.3079894\n",
      "  0.41662945 0.27897088 0.73155785 0.36720853 0.65819004 1.09060108\n",
      "  0.39004244 0.08597645 0.52294788 0.73441195 1.01404279 0.96719266\n",
      "  0.89781651 0.62390797 0.10042924 0.80653079]\n",
      " [0.91484983 1.00028095 0.14315053 0.47282599 0.50386224 0.45418917\n",
      "  0.12306193 0.14176206 1.07741481 1.05970045 0.83069051 0.48286979\n",
      "  1.01494476 0.74619077 0.90360273 0.18964276 0.85778081 0.91440995\n",
      "  0.66223022 0.84818391 0.66700449 0.19139486 0.64953387 0.02810989\n",
      "  0.54217629 0.27471038 0.43836218 0.99542024 0.69804565 0.98850168\n",
      "  0.88974668 0.67323386 0.68954359 0.34689456 0.10856641 0.99966543\n",
      "  0.72141569 0.56238595 0.42991151 0.27440248 0.72035596 0.35229909\n",
      "  0.50543404 0.57503289 0.78090407 0.72985058 0.53770804 0.63081013\n",
      "  0.62977367 0.93932049 0.74446836 0.82410377 0.         0.46932424\n",
      "  0.30459714 0.94424121 0.26167792 0.98037112 0.60151129 0.95911366\n",
      "  1.19160981 0.8785664  0.6842217  1.20275861 0.78381316 1.12596141\n",
      "  0.71659572 0.77808181 0.65370357 0.90258781 0.49076562 0.68708809\n",
      "  1.02480174 0.31019352 1.1146652  0.96551119 0.69837086 0.58765877\n",
      "  0.74218488 0.42404469 0.66895521 0.95927192 0.95421834 0.93450979\n",
      "  0.67956801 0.55296698 1.12233131 0.8232751  0.52730383 0.94989958\n",
      "  0.84623412 0.80491212 0.67923247 0.87057904 0.61557728 0.1991258\n",
      "  0.79246902 0.71182764 0.73508095 0.86214046]\n",
      " [0.45055053 0.53539692 0.33278135 0.29222483 0.28320796 0.03717383\n",
      "  0.55911445 0.33912027 0.61302016 0.61638254 0.37455067 0.08795282\n",
      "  0.55027714 0.32499706 0.55182436 0.28019761 0.45678552 0.54687835\n",
      "  0.36005803 0.42040494 0.20422981 0.52264452 0.20996983 0.4968285\n",
      "  0.20835981 0.31092546 0.14903072 0.53666878 0.46294665 0.51963644\n",
      "  0.42042332 0.29450968 0.49086527 0.45319    0.38911765 0.54498346\n",
      "  0.47213552 0.1488851  0.36051266 0.45148228 0.36603269 0.33814837\n",
      "  0.03906657 0.16930671 0.60848151 0.47841654 0.10440288 0.32868925\n",
      "  0.16079117 0.54800821 0.37435595 0.53842091 0.46932424 0.\n",
      "  0.23646692 0.55094934 0.23132809 0.72390313 0.1334065  0.49891918\n",
      "  0.72670188 0.50821388 0.42033553 0.73784457 0.46944189 0.67518036\n",
      "  0.27068194 0.33534706 0.18457974 0.44227253 0.25434759 0.35496047\n",
      "  0.59781158 0.42981727 0.6511547  0.51024544 0.34080831 0.19375912\n",
      "  0.35441161 0.31232385 0.20144891 0.67951946 0.49488296 0.5147143\n",
      "  0.22362985 0.29656198 0.65386178 0.37797516 0.14156696 0.64431054\n",
      "  0.39592926 0.47767478 0.21026225 0.4275685  0.47979431 0.52028452\n",
      "  0.44771463 0.25973563 0.43879679 0.44587829]\n",
      " [0.63735145 0.75816095 0.21682672 0.18127158 0.43703266 0.20497\n",
      "  0.42115099 0.16444649 0.79722423 0.76363449 0.60677792 0.2059577\n",
      "  0.73611704 0.44844227 0.77675033 0.14878121 0.55438877 0.61013206\n",
      "  0.56126288 0.6568519  0.4359538  0.43551843 0.44631767 0.33197774\n",
      "  0.40837303 0.31396862 0.30695574 0.70981762 0.64387784 0.73284707\n",
      "  0.6298018  0.37008402 0.6584026  0.4671733  0.19954145 0.71066003\n",
      "  0.43261333 0.37748876 0.44810718 0.42759867 0.41578364 0.38735672\n",
      "  0.2749221  0.39659349 0.52173348 0.44086332 0.26177178 0.32808513\n",
      "  0.37575545 0.7814173  0.59994211 0.53009139 0.30459714 0.23646692\n",
      "  0.         0.63984476 0.06239265 0.92356543 0.36147133 0.72702641\n",
      "  0.91087718 0.73693754 0.61022556 0.92192214 0.48342097 0.83285328\n",
      "  0.42974927 0.48711243 0.39912895 0.67102918 0.41089299 0.56731851\n",
      "  0.72399837 0.43103488 0.83270079 0.67750076 0.5612899  0.29096393\n",
      "  0.58413676 0.1503619  0.4275412  0.88585639 0.66989928 0.63306568\n",
      "  0.40161631 0.25269412 0.86714039 0.53222296 0.35753081 0.8580117\n",
      "  0.55738749 0.50315264 0.4312783  0.66307886 0.61848456 0.43780923\n",
      "  0.66813838 0.49493629 0.43636449 0.68176983]\n",
      " [0.29780735 0.50575681 0.83757223 0.49140916 0.79915206 0.54027122\n",
      "  1.05796944 0.80302169 0.34192446 0.20604041 0.51956986 0.48884697\n",
      "  0.31901509 0.22774776 0.84719341 0.77012933 0.09421992 0.06925658\n",
      "  0.7926788  0.63158283 0.48976931 1.05152973 0.56021529 0.97175904\n",
      "  0.69364535 0.85853925 0.68955187 0.26351784 0.91096671 0.43779391\n",
      "  0.38720503 0.27310154 0.9553328  1.00412843 0.83904452 0.23839663\n",
      "  0.3190806  0.6016466  0.90290869 0.99860675 0.22625213 0.88863993\n",
      "  0.53753504 0.61355805 0.43196228 0.31392532 0.44815328 0.32466276\n",
      "  0.44085644 0.77695418 0.72371225 0.2434747  0.94424121 0.55094934\n",
      "  0.63984476 0.         0.68564361 1.08536588 0.48353536 0.53021919\n",
      "  0.4151762  0.79208508 0.86083807 0.42294066 0.21139226 0.2793029\n",
      "  0.29704701 0.24203653 0.43049763 0.51127272 0.77375765 0.76098802\n",
      "  0.12917969 0.9799852  0.35307985 0.23500947 0.72524948 0.36937858\n",
      "  0.68868072 0.55030698 0.46180395 1.02700874 0.26012997 0.08364345\n",
      "  0.35038814 0.40473257 0.5102126  0.22010319 0.63025806 0.9714586\n",
      "  0.22734788 0.18385195 0.4413078  0.58727882 0.98001216 1.05119867\n",
      "  0.79537883 0.52598815 0.25768863 0.67089781]\n",
      " [0.65970225 0.76507092 0.15808179 0.2421646  0.39243906 0.20665963\n",
      "  0.37233303 0.12030192 0.82147628 0.79830199 0.60583543 0.22456699\n",
      "  0.75948185 0.48451514 0.75011188 0.08897646 0.59759428 0.65985348\n",
      "  0.52612477 0.6457745  0.43551588 0.37749737 0.43591991 0.28971077\n",
      "  0.37689057 0.25289996 0.27059795 0.73704838 0.60134118 0.7451151\n",
      "  0.64342923 0.41322228 0.61238642 0.40515142 0.16493539 0.74007\n",
      "  0.49233706 0.35935529 0.39214078 0.3652689  0.46458331 0.3284604\n",
      "  0.27029945 0.37701658 0.58407347 0.50051081 0.28061472 0.38177964\n",
      "  0.38428435 0.76230132 0.57534728 0.58797941 0.26167792 0.23132809\n",
      "  0.06239265 0.68564361 0.         0.88427903 0.36338984 0.72999358\n",
      "  0.93563351 0.71335319 0.57066988 0.94675276 0.53838388 0.86525089\n",
      "  0.45704738 0.51751079 0.40825793 0.67340983 0.36784094 0.53634269\n",
      "  0.76326149 0.36881162 0.85801073 0.70620212 0.53424028 0.3259812\n",
      "  0.56275622 0.21268609 0.43120394 0.84925027 0.69626288 0.67315579\n",
      "  0.42308696 0.30927242 0.87975256 0.56276956 0.33405331 0.82470376\n",
      "  0.58641936 0.55694302 0.43782037 0.65710519 0.56722168 0.37924933\n",
      "  0.63971672 0.49012971 0.49258223 0.66775122]\n",
      " [0.80733891 0.65578339 0.85907898 1.01608281 0.4945685  0.76077385\n",
      "  0.98278286 0.9270357  0.8848241  1.0044997  0.56824079 0.80602473\n",
      "  0.8492513  0.89856152 0.24351894 0.86413057 1.00964206 1.12143219\n",
      "  0.36510628 0.45769239 0.6260009  0.87205771 0.56344462 0.99609143\n",
      "  0.51971192 0.7070777  0.61660971 0.88640213 0.28617198 0.71481198\n",
      "  0.71286538 0.93899751 0.29114617 0.6683512  0.97142358 0.9132352\n",
      "  1.1605267  0.5800157  0.5512516  0.74008392 1.0088433  0.62826342\n",
      "  0.6983995  0.55968068 1.3111897  1.16481266 0.78861409 1.01841707\n",
      "  0.70176153 0.33425059 0.37460625 1.19457681 0.98037112 0.72390313\n",
      "  0.92356543 1.08536588 0.88427903 0.         0.67303109 0.60433855\n",
      "  0.94669639 0.29669615 0.31367286 0.95366788 1.11841986 1.01030979\n",
      "  0.82151649 0.85564294 0.69777054 0.59561343 0.51715656 0.37029914\n",
      "  1.04455981 0.69368714 0.91479915 0.89179255 0.39204516 0.86691125\n",
      "  0.40710273 1.03324765 0.65461892 0.06016941 0.86183854 1.00922951\n",
      "  0.77801953 1.00999419 0.76127296 0.8669713  0.58245519 0.12036099\n",
      "  0.85804558 1.11402592 0.67172246 0.50800814 0.37345719 0.86260946\n",
      "  0.29677441 0.57186241 1.10738183 0.4199778 ]\n",
      " [0.32922941 0.40210051 0.46292331 0.37096513 0.31580612 0.157651\n",
      "  0.68710749 0.47251912 0.48961266 0.51149561 0.24536122 0.16631053\n",
      "  0.42712847 0.25924032 0.47093454 0.41300942 0.39146175 0.49538721\n",
      "  0.32921407 0.30674162 0.0750474  0.64149029 0.11174967 0.62879953\n",
      "  0.21052143 0.41855942 0.22017287 0.42013663 0.44563991 0.38699291\n",
      "  0.28938327 0.27135476 0.48451186 0.54414061 0.52250783 0.43222073\n",
      "  0.48779685 0.11861479 0.42593415 0.55603287 0.34439457 0.42539643\n",
      "  0.09609407 0.13261239 0.63828139 0.4923057  0.12587139 0.34543106\n",
      "  0.04322571 0.44790201 0.30127815 0.52999744 0.60151129 0.1334065\n",
      "  0.36147133 0.48353536 0.36338984 0.67303109 0.         0.36685702\n",
      "  0.6020143  0.4211265  0.39702679 0.61309545 0.45491553 0.5633096\n",
      "  0.18651909 0.2459197  0.06069049 0.31043058 0.29102608 0.30831133\n",
      "  0.50552326 0.52727058 0.52838667 0.39775581 0.28144069 0.19408595\n",
      "  0.27286068 0.40661582 0.06805315 0.62205265 0.37858736 0.43149626\n",
      "  0.13315008 0.34425917 0.52091617 0.28175469 0.14732823 0.57827159\n",
      "  0.29309284 0.45538195 0.07811596 0.30462183 0.49879349 0.638103\n",
      "  0.37966522 0.13818153 0.43762031 0.33769703]\n",
      " [0.23241386 0.05768524 0.81704584 0.70275202 0.54886214 0.52446242\n",
      "  1.03267744 0.83621827 0.28053606 0.40687663 0.12923394 0.52455626\n",
      "  0.2477675  0.41933165 0.36250927 0.77410871 0.4796356  0.58349221\n",
      "  0.4401435  0.17354179 0.29483301 0.9683904  0.31247275 0.98551182\n",
      "  0.45341171 0.73846818 0.53378734 0.29137491 0.53369067 0.11070139\n",
      "  0.14915034 0.50373801 0.58510102 0.82532655 0.88686456 0.31959062\n",
      "  0.72024466 0.40160271 0.68037175 0.86031809 0.54906518 0.71417676\n",
      "  0.46022205 0.3932179  0.87418898 0.72090608 0.47257301 0.61032112\n",
      "  0.3522614  0.27122264 0.32580575 0.70952018 0.95911366 0.49891918\n",
      "  0.72702641 0.53021919 0.72999358 0.60433855 0.36685702 0.\n",
      "  0.35271471 0.31383992 0.49063383 0.36126658 0.63910441 0.40623252\n",
      "  0.36582851 0.35745661 0.329769   0.05672982 0.53945213 0.39638879\n",
      "  0.45841186 0.82136205 0.31156446 0.30542272 0.35903291 0.49287337\n",
      "  0.29864098 0.74987889 0.2996677  0.54421501 0.27621349 0.4470189\n",
      "  0.35743167 0.64785813 0.19101239 0.34231172 0.439963   0.48406584\n",
      "  0.32040966 0.62366473 0.29618063 0.12071066 0.65111856 0.96306477\n",
      "  0.36298382 0.24780502 0.65117631 0.19904799]\n",
      " [0.2768011  0.2962074  1.05896752 0.81710661 0.86620642 0.73783141\n",
      "  1.28579509 1.05425965 0.11422078 0.20939628 0.44647427 0.71106652\n",
      "  0.17670623 0.47711291 0.70990331 1.00224923 0.43327346 0.48443114\n",
      "  0.78170062 0.52444292 0.55362848 1.24343739 0.6034347  1.21956254\n",
      "  0.760103   1.01849995 0.81388386 0.20309615 0.88265691 0.25298434\n",
      "  0.32086504 0.57294655 0.93392118 1.13103705 1.10056878 0.20927939\n",
      "  0.71754671 0.68546661 0.99513353 1.15279932 0.5738165  1.01378511\n",
      "  0.69442641 0.6849265  0.84505545 0.71412188 0.65513413 0.66969001\n",
      "  0.56695175 0.61328674 0.67249323 0.65666338 1.19160981 0.72670188\n",
      "  0.91087718 0.4151762  0.93563351 0.94669639 0.6020143  0.35271471\n",
      "  0.         0.66424874 0.8375339  0.01115266 0.61140287 0.14284781\n",
      "  0.48118406 0.42685638 0.54392972 0.38344853 0.85068304 0.73887876\n",
      "  0.28808656 1.11981881 0.07840871 0.23820591 0.70001795 0.62366544\n",
      "  0.64210818 0.87513797 0.54067916 0.88724135 0.24137242 0.35118197\n",
      "  0.51266252 0.73775016 0.18993557 0.38318656 0.72467443 0.82675404\n",
      "  0.35591945 0.58593079 0.52526392 0.46994433 0.99394954 1.23992103\n",
      "  0.71531463 0.53927409 0.64807498 0.55175118]\n",
      " [0.51069908 0.36852581 0.73946781 0.78856699 0.38212801 0.54465149\n",
      "  0.91774234 0.78819467 0.59338534 0.70837627 0.27287098 0.57701005\n",
      "  0.5545792  0.61675066 0.05523208 0.72141953 0.71993788 0.83145749\n",
      "  0.22449423 0.16137487 0.35946747 0.82632583 0.31038721 0.90046327\n",
      "  0.34137553 0.61300428 0.45003539 0.59019442 0.26302506 0.42276621\n",
      "  0.41619139 0.66930355 0.31059768 0.64343808 0.83817516 0.61682827\n",
      "  0.89576368 0.36049857 0.4962828  0.69917457 0.73492697 0.55670509\n",
      "  0.47432732 0.34079132 1.05030211 0.89906886 0.54594924 0.75936002\n",
      "  0.44006126 0.0737359  0.1381107  0.9178187  0.8785664  0.50821388\n",
      "  0.73693754 0.79208508 0.71335319 0.29669615 0.4211265  0.31383992\n",
      "  0.66424874 0.         0.2369765  0.67218022 0.84189512 0.71704456\n",
      "  0.54189361 0.56871504 0.43045994 0.29975348 0.38984548 0.19246853\n",
      "  0.74790661 0.65337987 0.6253087  0.59510437 0.18164432 0.61128888\n",
      "  0.15380367 0.81767298 0.38567371 0.2369795  0.56515726 0.71448499\n",
      "  0.50407599 0.76521719 0.48683511 0.57585137 0.37998819 0.17961202\n",
      "  0.56492766 0.83460627 0.39954453 0.21139564 0.39549467 0.8186227\n",
      "  0.09235874 0.29732531 0.83686032 0.12328455]\n",
      " [0.624635   0.54824676 0.55473647 0.71126801 0.18404212 0.45623061\n",
      "  0.70518762 0.61801455 0.74715307 0.83094488 0.39457145 0.50612835\n",
      "  0.69589546 0.64852602 0.23874558 0.55372171 0.77428211 0.88337411\n",
      "  0.06854227 0.31760002 0.37188865 0.60503865 0.30163172 0.70282518\n",
      "  0.21211592 0.4098794  0.30338741 0.71690248 0.05014826 0.58464006\n",
      "  0.53909323 0.66815477 0.09819066 0.41289824 0.66419677 0.73929204\n",
      "  0.87836066 0.28704424 0.2708041  0.47421989 0.74140184 0.34026663\n",
      "  0.39996662 0.26846745 1.02306254 0.88359615 0.49781356 0.73364574\n",
      "  0.43387018 0.3104384  0.16522898 0.92673582 0.6842217  0.42033553\n",
      "  0.61022556 0.86083807 0.57066988 0.31367286 0.39702679 0.49063383\n",
      "  0.8375339  0.2369765  0.         0.84695443 0.85188041 0.85848552\n",
      "  0.57130703 0.6193301  0.43723951 0.45411354 0.20448444 0.10280768\n",
      "  0.85099997 0.42732884 0.78384716 0.71031747 0.14172235 0.58353203\n",
      "  0.19579689 0.724144   0.40055227 0.28054081 0.68258216 0.79519726\n",
      "  0.52094542 0.71430582 0.68014045 0.6427099  0.27997567 0.26571578\n",
      "  0.64235245 0.85226698 0.42063613 0.37005384 0.16358269 0.596621\n",
      "  0.14694489 0.33811217 0.83282738 0.29989138]\n",
      " [0.28795307 0.30451473 1.07011763 0.82770056 0.87667407 0.74898389\n",
      "  1.29693995 1.06539392 0.12536239 0.21695557 0.45638334 0.72218591\n",
      "  0.18785867 0.4877366  0.71747078 1.01340031 0.44257286 0.49219316\n",
      "  0.79140276 0.5333717  0.56453228 1.2545037  0.61409807 1.23071203\n",
      "  0.7706967  1.02949821 0.82481732 0.21387962 0.8919222  0.26257928\n",
      "  0.33162569 0.58343871 0.94321157 1.14179288 1.11168781 0.21959557\n",
      "  0.72663116 0.69628972 1.00570317 1.16371872 0.58374028 1.02459158\n",
      "  0.70554936 0.6956646  0.85333371 0.72313664 0.66626174 0.67986301\n",
      "  0.5780768  0.62054497 0.68185619 0.66486082 1.20275861 0.73784457\n",
      "  0.92192214 0.42294066 0.94675276 0.95366788 0.61309545 0.36126658\n",
      "  0.01115266 0.67218022 0.84695443 0.         0.62029075 0.14856544\n",
      "  0.49221362 0.43772808 0.55504422 0.39284099 0.86125565 0.7485137\n",
      "  0.29534076 1.13066647 0.08933932 0.24883874 0.70969833 0.63459585\n",
      "  0.65163105 0.88578653 0.55168154 0.89430259 0.25233526 0.35999614\n",
      "  0.52379313 0.74817892 0.19528985 0.39398226 0.73551746 0.83382906\n",
      "  0.3667841  0.594699   0.5363094  0.47896003 1.00366591 1.25097657\n",
      "  0.7240633  0.54983386 0.65732656 0.56031178]\n",
      " [0.42367912 0.6316052  0.69624637 0.31234773 0.74802172 0.44610996\n",
      "  0.90340253 0.6470281  0.52170596 0.40777728 0.58604538 0.38773077\n",
      "  0.48239823 0.22735652 0.89626131 0.62706106 0.18098548 0.1524384\n",
      "  0.78412848 0.69219134 0.49261636 0.91549558 0.55784965 0.81009629\n",
      "  0.65533478 0.75029781 0.61839379 0.4304454  0.900234   0.57074573\n",
      "  0.49040041 0.18384099 0.93756957 0.90467632 0.6756008  0.41223146\n",
      "  0.10808159 0.5678782  0.82882056 0.88487545 0.11058647 0.79756144\n",
      "  0.47113863 0.58488662 0.24144348 0.10356409 0.36848699 0.15705861\n",
      "  0.42001175 0.84510196 0.74398112 0.07617965 0.78381316 0.46944189\n",
      "  0.48342097 0.21139226 0.53838388 1.11841986 0.45491553 0.63910441\n",
      "  0.61140287 0.84189512 0.85188041 0.62029075 0.         0.48387277\n",
      "  0.30004113 0.28418807 0.42127126 0.60393681 0.71982277 0.7618041\n",
      "  0.33655254 0.87496872 0.541514   0.3949777  0.73208531 0.27722585\n",
      "  0.71134931 0.36685036 0.46385213 1.06399734 0.41021758 0.26031422\n",
      "  0.34045325 0.23111162 0.67172977 0.29746343 0.58536448 1.01445707\n",
      "  0.32186931 0.0276403  0.44677221 0.6600385  0.94208073 0.91682714\n",
      "  0.82165492 0.54774425 0.05120955 0.73117621]\n",
      " [0.24078278 0.35788452 1.00057263 0.71873397 0.85650254 0.67950315\n",
      "  1.22805507 0.98547161 0.1278567  0.07664231 0.4656773  0.64357426\n",
      "  0.16405746 0.38546041 0.76763369 0.93921309 0.31302607 0.34814569\n",
      "  0.79662813 0.56294814 0.5305449  1.19781815 0.59112509 1.15407121\n",
      "  0.74715736 0.98049366 0.78291278 0.14580723 0.90654924 0.29557291\n",
      "  0.31944801 0.47459199 0.9566191  1.10635566 1.02883834 0.1311019\n",
      "  0.59161818 0.66334825 0.97990059 1.11904577 0.46175138 0.98762671\n",
      "  0.64781045 0.66710841 0.71125539 0.58742009 0.59006585 0.56163147\n",
      "  0.52318718 0.67741722 0.69772091 0.52271338 1.12596141 0.67518036\n",
      "  0.83285328 0.2793029  0.86525089 1.01030979 0.5633096  0.40623252\n",
      "  0.14284781 0.71704456 0.85848552 0.14856544 0.48387277 0.\n",
      "  0.41005392 0.34787979 0.50268037 0.41873653 0.83712408 0.75626746\n",
      "  0.15017198 1.09050792 0.10865268 0.16569481 0.71702954 0.54189429\n",
      "  0.66430214 0.77806878 0.51123536 0.95015123 0.18589137 0.22625102\n",
      "  0.452055   0.63527598 0.29443958 0.30269891 0.70065064 0.89014008\n",
      "  0.28070045 0.45730478 0.49270428 0.50874658 1.00568425 1.19536933\n",
      "  0.75259305 0.53339602 0.52459191 0.59640745]\n",
      " [0.21058329 0.37496593 0.59064233 0.35230997 0.50227137 0.27069865\n",
      "  0.81804717 0.57686278 0.36776847 0.3472908  0.290547   0.23376602\n",
      "  0.30735149 0.07780398 0.5963528  0.52923167 0.20558689 0.31237757\n",
      "  0.50276654 0.39329861 0.20047717 0.79130119 0.26993928 0.7446979\n",
      "  0.39664768 0.58122947 0.3978365  0.28038009 0.62110412 0.32980427\n",
      "  0.2294565  0.13883185 0.66333408 0.71874392 0.62161715 0.28312675\n",
      "  0.36284351 0.30463711 0.60912718 0.72162384 0.19492137 0.60107003\n",
      "  0.24934297 0.3169475  0.51878448 0.36482357 0.18005399 0.24452995\n",
      "  0.14382534 0.54634366 0.44857166 0.3759251  0.71659572 0.27068194\n",
      "  0.42974927 0.29704701 0.45704738 0.82151649 0.18651909 0.36582851\n",
      "  0.48118406 0.54189361 0.57130703 0.49221362 0.30004113 0.41005392\n",
      "  0.         0.06466586 0.13493054 0.32097741 0.47718287 0.47484059\n",
      "  0.32763933 0.6979549  0.40296185 0.24915862 0.44182741 0.14522726\n",
      "  0.41491134 0.40629212 0.17139696 0.76605703 0.24017096 0.24770256\n",
      "  0.05338644 0.28653164 0.4574826  0.10820458 0.33351879 0.71537012\n",
      "  0.12965317 0.29317939 0.15212613 0.36472824 0.68375319 0.78941561\n",
      "  0.52508292 0.24965408 0.29849269 0.43193457]\n",
      " [0.16743237 0.3565852  0.65385077 0.39402481 0.56117707 0.33490931\n",
      "  0.88102806 0.63767069 0.31517862 0.28339369 0.30423165 0.29595454\n",
      "  0.25740063 0.06319611 0.62382474 0.5916333  0.15581873 0.26696152\n",
      "  0.55103168 0.41332461 0.24781061 0.85570286 0.31826875 0.80619158\n",
      "  0.45397686 0.64583911 0.46086868 0.22402672 0.66941881 0.30288016\n",
      "  0.21105259 0.15791919 0.71341114 0.78265541 0.68147214 0.22354886\n",
      "  0.36302679 0.36230045 0.67095789 0.786199   0.19204166 0.66474824\n",
      "  0.31356611 0.37306187 0.51674212 0.36352159 0.24346366 0.264803\n",
      "  0.20270281 0.5651343  0.48706791 0.35742224 0.77808181 0.33534706\n",
      "  0.48711243 0.24203653 0.51751079 0.85564294 0.2459197  0.35745661\n",
      "  0.42685638 0.56871504 0.6193301  0.43772808 0.28418807 0.34787979\n",
      "  0.06466586 0.         0.18985372 0.31996198 0.53684148 0.52027068\n",
      "  0.26328685 0.7622445  0.34845748 0.19061697 0.48533476 0.19726907\n",
      "  0.45245377 0.45067209 0.21976758 0.79871833 0.18590311 0.18560427\n",
      "  0.11512282 0.32025929 0.42259025 0.0452682  0.39320632 0.74570718\n",
      "  0.07094956 0.27174532 0.19928291 0.37758262 0.73867564 0.85388283\n",
      "  0.56131059 0.28746702 0.29372158 0.45281543]\n",
      " [0.26965425 0.35903203 0.51718912 0.38215751 0.37179711 0.20200398\n",
      "  0.74286324 0.52141445 0.43093154 0.4509409  0.21821909 0.19492698\n",
      "  0.36828375 0.21143426 0.48298777 0.46429034 0.34020879 0.44721903\n",
      "  0.36872012 0.29853228 0.07202891 0.70033874 0.1373031  0.68128389\n",
      "  0.26414446 0.47865842 0.2808206  0.35979449 0.48685522 0.33697585\n",
      "  0.23629136 0.24146325 0.52856233 0.60477209 0.57049263 0.3715831\n",
      "  0.46605236 0.17263594 0.48515792 0.6165092  0.31123202 0.48601529\n",
      "  0.1506222  0.18326361 0.61999909 0.4696892  0.14317359 0.32904095\n",
      "  0.0240504  0.44747678 0.32316522 0.49730115 0.65370357 0.18457974\n",
      "  0.39912895 0.43049763 0.40825793 0.69777054 0.06069049 0.329769\n",
      "  0.54392972 0.43045994 0.43723951 0.55504422 0.42127126 0.50268037\n",
      "  0.13493054 0.18985372 0.         0.27489029 0.34807537 0.34252858\n",
      "  0.4464627  0.58795082 0.46951881 0.3370934  0.3112838  0.18382239\n",
      "  0.2912979  0.42451583 0.04480639 0.64426287 0.31817341 0.3746593\n",
      "  0.08371128 0.34199207 0.47158578 0.22322416 0.20504754 0.59676432\n",
      "  0.23320267 0.41861546 0.03554839 0.28565891 0.5495245  0.6971564\n",
      "  0.4012729  0.13364798 0.40995284 0.33359186]\n",
      " [0.21702113 0.10353693 0.76063363 0.65103143 0.49947005 0.46807479\n",
      "  0.9769326  0.77948878 0.29830714 0.40888708 0.0742378  0.46929722\n",
      "  0.25531726 0.37998045 0.35209559 0.71741406 0.45261537 0.56003525\n",
      "  0.39951859 0.14459859 0.23813698 0.91402052 0.25704253 0.92903773\n",
      "  0.401277   0.68407755 0.47873646 0.29082604 0.49930093 0.13082727\n",
      "  0.12413616 0.4597532  0.5505215  0.77448025 0.83013569 0.31786752\n",
      "  0.68031274 0.34620567 0.6308904  0.80758031 0.50937929 0.66204534\n",
      "  0.40354346 0.3385221  0.83536681 0.6814599  0.41799479 0.56507602\n",
      "  0.2969909  0.26962837 0.28904582 0.67618781 0.90258781 0.44227253\n",
      "  0.67102918 0.51127272 0.67340983 0.59561343 0.31043058 0.05672982\n",
      "  0.38344853 0.29975348 0.45411354 0.39284099 0.60393681 0.41873653\n",
      "  0.32097741 0.31996198 0.27489029 0.         0.48866679 0.35626134\n",
      "  0.45210314 0.76935036 0.3330064  0.29817359 0.31778883 0.44231731\n",
      "  0.2589655  0.69698928 0.24350743 0.53555047 0.26818055 0.42956456\n",
      "  0.30774937 0.59886788 0.23786507 0.31071535 0.38486543 0.47647994\n",
      "  0.29193502 0.59022483 0.24079227 0.09005325 0.61167704 0.90884514\n",
      "  0.33569104 0.19177373 0.61256031 0.17782484]\n",
      " [0.59656024 0.59212261 0.35535259 0.53034502 0.02897576 0.28499837\n",
      "  0.52886654 0.41461662 0.74546249 0.79308902 0.4155228  0.34180435\n",
      "  0.68608549 0.54736775 0.41285321 0.34970001 0.6808517  0.7814178\n",
      "  0.17176815 0.39054688 0.30687239 0.44364625 0.24794972 0.51172019\n",
      "  0.09069972 0.22335914 0.11110898 0.69135352 0.23355812 0.60631499\n",
      "  0.53061249 0.53946028 0.24856352 0.28590352 0.46179785 0.70790864\n",
      "  0.72647387 0.17623855 0.14445134 0.32467718 0.61299819 0.17729072\n",
      "  0.24870887 0.17014775 0.86075788 0.73276398 0.3513996  0.58291158\n",
      "  0.33418872 0.45436584 0.26102417 0.79069169 0.49076562 0.25434759\n",
      "  0.41089299 0.77375765 0.36784094 0.51715656 0.29102608 0.53945213\n",
      "  0.85068304 0.38984548 0.20448444 0.86125565 0.71982277 0.83712408\n",
      "  0.47718287 0.53684148 0.34807537 0.48866679 0.         0.19741015\n",
      "  0.79406393 0.28323804 0.78444864 0.67469912 0.21417798 0.44261654\n",
      "  0.26695221 0.53496186 0.32840574 0.48491926 0.65155317 0.72231021\n",
      "  0.42381847 0.54831951 0.72639795 0.57128293 0.14371133 0.46637258\n",
      "  0.58001292 0.72575178 0.34825321 0.4279619  0.22563391 0.43682648\n",
      "  0.30197871 0.31142613 0.69180507 0.39369666]\n",
      " [0.52185762 0.45353711 0.54924664 0.64662924 0.1903367  0.39205528\n",
      "  0.7254716  0.60189046 0.64624864 0.72815191 0.29376395 0.43584481\n",
      "  0.59408724 0.55251398 0.21781523 0.53541977 0.67579929 0.78577669\n",
      "  0.04384187 0.22650449 0.2744005  0.63586915 0.20530927 0.70859203\n",
      "  0.15952747 0.42054102 0.26677524 0.61428377 0.1523025  0.48593442\n",
      "  0.43681982 0.57900698 0.20089372 0.45950528 0.65102874 0.63654549\n",
      "  0.79526411 0.20971693 0.31059764 0.51079269 0.65124431 0.36619076\n",
      "  0.32823182 0.18939425 0.94365861 0.80001081 0.4191384  0.65164333\n",
      "  0.34182292 0.25861577 0.07427981 0.83736887 0.68708809 0.35496047\n",
      "  0.56731851 0.76098802 0.53634269 0.37029914 0.30831133 0.39638879\n",
      "  0.73887876 0.19246853 0.10280768 0.7485137  0.7618041  0.75626746\n",
      "  0.47484059 0.52027068 0.34252858 0.35626134 0.19741015 0.\n",
      "  0.74852231 0.46593956 0.68332052 0.60751162 0.03928374 0.50018163\n",
      "  0.09777921 0.66640585 0.30344601 0.32456668 0.57980375 0.69395519\n",
      "  0.42596133 0.63998486 0.58720711 0.5420143  0.21454954 0.29126942\n",
      "  0.54076209 0.7605434  0.32299845 0.27591961 0.25542647 0.62842857\n",
      "  0.10595805 0.23631777 0.74590739 0.21645278]\n",
      " [0.23722306 0.42326634 0.90803557 0.59252481 0.81689789 0.59474238\n",
      "  1.13331056 0.88307954 0.22727859 0.07907695 0.47794021 0.55044158\n",
      "  0.22050875 0.2799577  0.80181666 0.84312179 0.17656706 0.19798003\n",
      "  0.78481061 0.58696634 0.4921921  1.11509458 0.56017916 1.05275829\n",
      "  0.70782817 0.90866325 0.72333285 0.16876698 0.90079697 0.35435417\n",
      "  0.33172315 0.35512374 0.94833252 1.04581057 0.92307514 0.14034288\n",
      "  0.44462485 0.61791334 0.93142272 1.04914074 0.32803424 0.92773504\n",
      "  0.57685075 0.62607707 0.56113758 0.44000806 0.50182409 0.42929819\n",
      "  0.46256383 0.72166611 0.70064344 0.37264902 1.02480174 0.59781158\n",
      "  0.72399837 0.12917969 0.76326149 1.04455981 0.50552326 0.45841186\n",
      "  0.28808656 0.74790661 0.85099997 0.29534076 0.33655254 0.15017198\n",
      "  0.32763933 0.26328685 0.4464627  0.45210314 0.79406393 0.74852231\n",
      "  0.         1.02552702 0.23141916 0.15402866 0.71049264 0.43763656\n",
      "  0.66563906 0.65216035 0.46744643 0.98488081 0.18396468 0.09136009\n",
      "  0.37806643 0.50672102 0.40235928 0.22388857 0.6514894  0.92678321\n",
      "  0.21428861 0.30950761 0.44704021 0.53698806 0.98473608 1.11372003\n",
      "  0.76585325 0.51338612 0.37964066 0.6246326 ]\n",
      " [0.85409388 0.87287196 0.24048499 0.60568564 0.27933929 0.4402561\n",
      "  0.28949194 0.32423632 1.0106163  1.03788869 0.6954943  0.49463281\n",
      "  0.94920992 0.7547987  0.66442706 0.29156947 0.88599689 0.97156936\n",
      "  0.42928996 0.6733248  0.56645053 0.17961159 0.51909361 0.31846073\n",
      "  0.36809435 0.12468769 0.30781882 0.9466636  0.42632743 0.88232008\n",
      "  0.79922749 0.71572133 0.40527042 0.03911948 0.34729677 0.95944712\n",
      "  0.84795058 0.43444231 0.15737644 0.04718077 0.78222703 0.10732963\n",
      "  0.4486787  0.43631055 0.95129781 0.85571129 0.53183281 0.72023303\n",
      "  0.56815555 0.72323832 0.53664931 0.93478588 0.31019352 0.42981727\n",
      "  0.43103488 0.9799852  0.36881162 0.69368714 0.52727058 0.82136205\n",
      "  1.11981881 0.65337987 0.42732884 1.13066647 0.87496872 1.09050792\n",
      "  0.6979549  0.7622445  0.58795082 0.76935036 0.28323804 0.46593956\n",
      "  1.02552702 0.         1.04973753 0.92501802 0.49073723 0.61449724\n",
      "  0.54733925 0.58138817 0.58166022 0.68169128 0.9053468  0.94409259\n",
      "  0.64778846 0.65958055 1.00625531 0.802978   0.39515041 0.68344418\n",
      "  0.81782342 0.88848403 0.59903192 0.71115377 0.32051422 0.17062273\n",
      "  0.56127194 0.58524455 0.83517285 0.67439668]\n",
      " [0.20060916 0.25906046 0.98288439 0.73918867 0.80122365 0.66130582\n",
      "  1.21000249 0.97687652 0.03913367 0.15329108 0.38955911 0.63346721\n",
      "  0.10126306 0.39916538 0.67392275 0.92547738 0.3615708  0.42182837\n",
      "  0.72531644 0.47715848 0.48336312 1.16977131 0.53652488 1.14265418\n",
      "  0.69374933 0.94616433 0.74275142 0.12485595 0.83037899 0.20342349\n",
      "  0.25409537 0.49537132 0.88127509 1.06219926 1.02293321 0.13302092\n",
      "  0.64638505 0.61616148 0.92876136 1.08165768 0.49856164 0.94434559\n",
      "  0.61962605 0.6168177  0.77820855 0.64334278 0.57767142 0.59326859\n",
      "  0.49219016 0.5806529  0.61995966 0.59066746 1.1146652  0.6511547\n",
      "  0.83270079 0.35307985 0.85801073 0.91479915 0.52838667 0.31156446\n",
      "  0.07840871 0.6253087  0.78384716 0.08933932 0.541514   0.10865268\n",
      "  0.40296185 0.34845748 0.46951881 0.3330064  0.78444864 0.68332052\n",
      "  0.23141916 1.04973753 0.         0.1603796  0.6441249  0.54526298\n",
      "  0.58808636 0.79707895 0.46875258 0.85479798 0.1629988  0.28288232\n",
      "  0.43529147 0.66034431 0.18579347 0.30487225 0.65501783 0.79443823\n",
      "  0.27752654 0.51678597 0.4525263  0.42231665 0.93694919 1.16646813\n",
      "  0.66857265 0.47394284 0.5761178  0.50780492]\n",
      " [0.08639836 0.27395971 0.83767292 0.57890778 0.69504703 0.51588034\n",
      "  1.06527367 0.82600406 0.13152443 0.12088703 0.32752251 0.48265805\n",
      "  0.08785433 0.23890714 0.64868463 0.77756221 0.21446783 0.29733814\n",
      "  0.64592407 0.43470784 0.36784848 1.03274279 0.43106862 0.99360227\n",
      "  0.58539929 0.81481081 0.61757743 0.03669865 0.75950758 0.20509703\n",
      "  0.1793439  0.33499981 0.80835791 0.94125878 0.87070839 0.03474898\n",
      "  0.4960282  0.49977831 0.81656717 0.95336448 0.34108222 0.82249547\n",
      "  0.48230358 0.50455943 0.63570712 0.49379316 0.42803934 0.4338013\n",
      "  0.35749545 0.56767182 0.55491352 0.4522718  0.96551119 0.51024544\n",
      "  0.67750076 0.23500947 0.70620212 0.89179255 0.39775581 0.30542272\n",
      "  0.23820591 0.59510437 0.71031747 0.24883874 0.3949777  0.16569481\n",
      "  0.24915862 0.19061697 0.3370934  0.29817359 0.67469912 0.60751162\n",
      "  0.15402866 0.92501802 0.1603796  0.         0.56872959 0.38785683\n",
      "  0.52031071 0.6369478  0.34719354 0.83196939 0.03001176 0.15242149\n",
      "  0.28794889 0.5000094  0.27973515 0.14597088 0.53650298 0.77355353\n",
      "  0.12012297 0.3723721  0.32820801 0.3838358  0.85140296 1.03017486\n",
      "  0.61698378 0.37703687 0.42466792 0.47184262]\n",
      " [0.4829583  0.41592916 0.55842382 0.63023379 0.21192492 0.37795936\n",
      "  0.74270109 0.60659178 0.60700948 0.68929276 0.25458555 0.41812673\n",
      "  0.55480565 0.5196229  0.21592249 0.53982789 0.64108605 0.75155599\n",
      "  0.08174684 0.1912542  0.24153651 0.65705976 0.17423913 0.72080843\n",
      "  0.15982041 0.43691164 0.26857059 0.57519206 0.19079243 0.44713311\n",
      "  0.39758554 0.55022711 0.23990136 0.48670233 0.65653361 0.59758341\n",
      "  0.76923686 0.19246469 0.3377181  0.53460171 0.62169374 0.38832662\n",
      "  0.31116021 0.17188104 0.91923322 0.77371945 0.39711059 0.62656153\n",
      "  0.31241467 0.2413321  0.04685497 0.80792752 0.69837086 0.34080831\n",
      "  0.5612899  0.72524948 0.53424028 0.39204516 0.28144069 0.35903291\n",
      "  0.70001795 0.18164432 0.14172235 0.70969833 0.73208531 0.71702954\n",
      "  0.44182741 0.48533476 0.3112838  0.31778883 0.21417798 0.03928374\n",
      "  0.71049264 0.49073723 0.6441249  0.56872959 0.         0.47500127\n",
      "  0.06094506 0.65313162 0.27068061 0.34281548 0.54090514 0.65716853\n",
      "  0.3941094  0.6188962  0.55001331 0.50578332 0.20423317 0.30396009\n",
      "  0.50374824 0.72989498 0.28970304 0.23897775 0.29400232 0.64997563\n",
      "  0.10728871 0.19955235 0.71795423 0.18511679]\n",
      " [0.35574581 0.51008145 0.47144991 0.21103955 0.47087052 0.17503807\n",
      "  0.69578838 0.44611897 0.5111206  0.47316685 0.39589758 0.12014604\n",
      "  0.45161919 0.15856112 0.66255189 0.40571645 0.27722826 0.35707412\n",
      "  0.51729514 0.48224333 0.25230953 0.68279736 0.30525647 0.61568468\n",
      "  0.38060895 0.4914421  0.34203138 0.42117012 0.63046669 0.47073292\n",
      "  0.36808081 0.10161288 0.66506873 0.64092322 0.48776964 0.42049693\n",
      "  0.29526699 0.29660109 0.55426714 0.63070286 0.17227466 0.52885077\n",
      "  0.19399213 0.31510012 0.44428184 0.30025602 0.09126869 0.15157739\n",
      "  0.17137604 0.63112243 0.49521506 0.34856415 0.58765877 0.19375912\n",
      "  0.29096393 0.36937858 0.3259812  0.86691125 0.19408595 0.49287337\n",
      "  0.62366544 0.61128888 0.58353203 0.63459585 0.27722585 0.54189429\n",
      "  0.14522726 0.19726907 0.18382239 0.44231731 0.44261654 0.50018163\n",
      "  0.43763656 0.61449724 0.54526298 0.38785683 0.47500127 0.\n",
      "  0.46609575 0.2625025  0.22799751 0.816138   0.38232515 0.34817977\n",
      "  0.13570056 0.15888399 0.60088002 0.24200844 0.31014718 0.77203383\n",
      "  0.26810719 0.28419162 0.21820963 0.46660108 0.66548262 0.68223327\n",
      "  0.57366572 0.31668047 0.25103368 0.51740237]\n",
      " [0.43400807 0.35575865 0.60053681 0.63629464 0.26800298 0.39085948\n",
      "  0.79245983 0.64326666 0.55151317 0.64011473 0.19913931 0.42420469\n",
      "  0.50107196 0.49230631 0.19952947 0.5765649  0.60794014 0.71939152\n",
      "  0.14150268 0.13040604 0.21931248 0.71054775 0.16111369 0.76555481\n",
      "  0.20002338 0.48697033 0.30592698 0.52442232 0.24260601 0.38913115\n",
      "  0.34556273 0.53276107 0.29326288 0.54484696 0.69392074 0.54785083\n",
      "  0.75639191 0.20699197 0.39616553 0.59040368 0.60193816 0.44338218\n",
      "  0.32067137 0.18756237 0.90906669 0.76030472 0.39564744 0.61646351\n",
      "  0.29701199 0.20024193 0.03516588 0.78751589 0.74218488 0.35441161\n",
      "  0.58413676 0.68868072 0.56275622 0.40710273 0.27286068 0.29864098\n",
      "  0.64210818 0.15380367 0.19579689 0.65163105 0.71134931 0.66430214\n",
      "  0.41491134 0.45245377 0.2912979  0.2589655  0.26695221 0.09777921\n",
      "  0.66563906 0.54733925 0.58808636 0.52031071 0.06094506 0.46609575\n",
      "  0.         0.66423226 0.24769209 0.35298736 0.49177701 0.61733442\n",
      "  0.37092231 0.61665032 0.48952099 0.46858237 0.22870544 0.30621286\n",
      "  0.46375661 0.7069899  0.26461992 0.17829417 0.35301875 0.70377353\n",
      "  0.11033387 0.16562472 0.70125061 0.12707324]\n",
      " [0.61527803 0.77079542 0.36185652 0.05964494 0.56286853 0.27517484\n",
      "  0.54628279 0.29600662 0.76522183 0.70405224 0.6426868  0.24191253\n",
      "  0.70807168 0.39806813 0.86298215 0.29627267 0.47593274 0.50863979\n",
      "  0.66816328 0.71335457 0.47982227 0.57676704 0.5104068  0.44900037\n",
      "  0.5137024  0.46348254 0.42500818 0.67224044 0.76264277 0.73316979\n",
      "  0.63029364 0.30390158 0.78316969 0.61741582 0.31565713 0.66712575\n",
      "  0.29739678 0.46098523 0.59078784 0.57743498 0.32566957 0.53426069\n",
      "  0.34372392 0.48149285 0.37240876 0.3058349  0.28321403 0.22564963\n",
      "  0.40478955 0.85199274 0.68592494 0.40090524 0.42404469 0.31232385\n",
      "  0.1503619  0.55030698 0.21268609 1.03324765 0.40661582 0.74987889\n",
      "  0.87513797 0.81767298 0.724144   0.88578653 0.36685036 0.77806878\n",
      "  0.40629212 0.45067209 0.42451583 0.69698928 0.53496186 0.66640585\n",
      "  0.65216035 0.58138817 0.79707895 0.6369478  0.65313162 0.2625025\n",
      "  0.66423226 0.         0.46298978 0.9906098  0.63595324 0.56135286\n",
      "  0.39639846 0.14593371 0.86325783 0.49268398 0.45190367 0.95651966\n",
      "  0.52078903 0.39041143 0.45990846 0.70825063 0.75259975 0.58002289\n",
      "  0.75997756 0.54455435 0.316382   0.74384725]\n",
      " [0.27262956 0.33407307 0.5296811  0.42276942 0.3500837  0.22499524\n",
      "  0.75276418 0.54054385 0.42970819 0.46479167 0.18122336 0.22757017\n",
      "  0.36784955 0.24910999 0.43828836 0.48077301 0.37386622 0.48286935\n",
      "  0.3320689  0.25512945 0.02914422 0.70355982 0.09892361 0.69614216\n",
      "  0.24062213 0.47782203 0.27412912 0.36612002 0.45050995 0.31981574\n",
      "  0.22407207 0.2854182  0.49382712 0.59580472 0.59055889 0.38091126\n",
      "  0.51061075 0.15268325 0.46942922 0.61292738 0.35425777 0.47728381\n",
      "  0.1638405  0.15892406 0.66472114 0.51416874 0.17985515 0.37384517\n",
      "  0.0587554  0.40312494 0.28012951 0.53998796 0.66895521 0.20144891\n",
      "  0.4275412  0.46180395 0.43120394 0.65461892 0.06805315 0.2996677\n",
      "  0.54067916 0.38567371 0.40055227 0.55168154 0.46385213 0.51123536\n",
      "  0.17139696 0.21976758 0.04480639 0.24350743 0.32840574 0.30344601\n",
      "  0.46744643 0.58166022 0.46875258 0.34719354 0.27068061 0.22799751\n",
      "  0.24769209 0.46298978 0.         0.60064549 0.32535931 0.40103181\n",
      "  0.12383298 0.38559056 0.4533799  0.24775801 0.18942517 0.55259465\n",
      "  0.25320808 0.46024456 0.02066311 0.24530992 0.52015302 0.69977528\n",
      "  0.35790474 0.08890811 0.45385059 0.28955878]\n",
      " [0.74767771 0.59581802 0.83355454 0.97111065 0.46435839 0.71659919\n",
      "  0.96895749 0.89838462 0.82471813 0.94443593 0.50909929 0.75984076\n",
      "  0.78908946 0.84277344 0.18346644 0.83425101 0.95219143 1.06396553\n",
      "  0.32468437 0.39819656 0.57229667 0.86115131 0.5114635  0.97631387\n",
      "  0.47882564 0.68471378 0.57952487 0.82636005 0.26122947 0.65466521\n",
      "  0.6531604  0.88571683 0.27647847 0.65906299 0.94415771 0.853239\n",
      "  1.10860148 0.53350601 0.53352252 0.72863878 0.95483155 0.60895617\n",
      "  0.65235203 0.51299549 1.26025765 1.11269243 0.73988819 0.9673869\n",
      "  0.6492532  0.2743927  0.32159769 1.14017688 0.95927192 0.67951946\n",
      "  0.88585639 1.02700874 0.84925027 0.06016941 0.62205265 0.54421501\n",
      "  0.88724135 0.2369795  0.28054081 0.89430259 1.06399734 0.95015123\n",
      "  0.76605703 0.79871833 0.64426287 0.53555047 0.48491926 0.32456668\n",
      "  0.98488081 0.68169128 0.85479798 0.83196939 0.34281548 0.816138\n",
      "  0.35298736 0.9906098  0.60064549 0.         0.80200219 0.95041351\n",
      "  0.72356356 0.96170828 0.70237591 0.80909695 0.5387534  0.06049679\n",
      "  0.79966086 1.05897837 0.61725874 0.44814203 0.36526618 0.85196128\n",
      "  0.24314058 0.5165654  1.05420219 0.36024843]\n",
      " [0.0579473  0.24643483 0.82446464 0.57866337 0.67131873 0.50242168\n",
      "  1.05198734 0.81557422 0.12932565 0.14843522 0.2980749  0.47194145\n",
      "  0.07481792 0.23945007 0.61870114 0.76555375 0.23145979 0.32037774\n",
      "  0.61862282 0.40485346 0.34479706 1.01660769 0.40647862 0.98226862\n",
      "  0.56181027 0.79676521 0.5975857  0.04180795 0.73161365 0.17793994\n",
      "  0.14959954 0.33687285 0.78069511 0.92072381 0.86109297 0.05715354\n",
      "  0.50883125 0.47747674 0.79409649 0.93462012 0.34933025 0.80203656\n",
      "  0.4655607  0.48145334 0.65157632 0.50703833 0.41656286 0.43871541\n",
      "  0.33941592 0.53770599 0.52626519 0.47032228 0.95421834 0.49488296\n",
      "  0.66989928 0.26012997 0.69626288 0.86183854 0.37858736 0.27621349\n",
      "  0.24137242 0.56515726 0.68258216 0.25233526 0.41021758 0.18589137\n",
      "  0.24017096 0.18590311 0.31817341 0.26818055 0.65155317 0.57980375\n",
      "  0.18396468 0.9053468  0.1629988  0.03001176 0.54090514 0.38232515\n",
      "  0.49177701 0.63595324 0.32535931 0.80200219 0.         0.1767185\n",
      "  0.27484724 0.50188812 0.2616288  0.14332907 0.51476549 0.74355971\n",
      "  0.11521616 0.38869694 0.30693374 0.35386254 0.82504869 1.01380091\n",
      "  0.58767912 0.35090122 0.43718354 0.44190591]\n",
      " [0.21470961 0.42211541 0.81939206 0.50170793 0.74640986 0.50929445\n",
      "  1.04392909 0.79275278 0.26683148 0.14960932 0.44161402 0.46292806\n",
      "  0.23813179 0.1921295  0.76940294 0.75389618 0.08744803 0.14522288\n",
      "  0.72766247 0.55338499 0.42772057 1.02829157 0.49756428 0.9624229\n",
      "  0.63864793 0.82547204 0.64553899 0.18282251 0.84531842 0.35420345\n",
      "  0.3054359  0.26382466 0.89112973 0.96579537 0.83229598 0.15948889\n",
      "  0.36708539 0.54729523 0.85641434 0.96605795 0.23850414 0.84846149\n",
      "  0.49626186 0.55732008 0.49532721 0.36336341 0.41611757 0.33958557\n",
      "  0.38827228 0.69670391 0.65249174 0.3079894  0.93450979 0.5147143\n",
      "  0.63306568 0.08364345 0.67315579 1.00922951 0.43149626 0.4470189\n",
      "  0.35118197 0.71448499 0.79519726 0.35999614 0.26031422 0.22625102\n",
      "  0.24770256 0.18560427 0.3746593  0.42956456 0.72231021 0.69395519\n",
      "  0.09136009 0.94409259 0.28288232 0.15242149 0.65716853 0.34817977\n",
      "  0.61733442 0.56135286 0.40103181 0.95041351 0.1767185  0.\n",
      "  0.300169   0.41620132 0.43025174 0.15338    0.57873706 0.89407958\n",
      "  0.15364315 0.23475247 0.38036964 0.50756666 0.92117841 1.02718643\n",
      "  0.72216162 0.45770154 0.29886332 0.59242438]\n",
      " [0.2366813  0.37468387 0.54988806 0.34652137 0.44888513 0.22795236\n",
      "  0.77747864 0.54161418 0.39846286 0.39283207 0.26635429 0.19859132\n",
      "  0.33639516 0.127955   0.55778433 0.4907256  0.25857948 0.36414582\n",
      "  0.45242925 0.36183977 0.15287098 0.7460925  0.22065206 0.70759369\n",
      "  0.34340737 0.53256851 0.34574913 0.31628864 0.57053818 0.33786856\n",
      "  0.23445846 0.16561468 0.61199754 0.66774433 0.58800711 0.32257352\n",
      "  0.39275455 0.25139622 0.55628229 0.67262428 0.23153526 0.54971651\n",
      "  0.19931678 0.2640239  0.54825888 0.39567102 0.14249072 0.26302412\n",
      "  0.09060645 0.51413445 0.40375632 0.41662945 0.67956801 0.22362985\n",
      "  0.40161631 0.35038814 0.42308696 0.77801953 0.13315008 0.35743167\n",
      "  0.51266252 0.50407599 0.52094542 0.52379313 0.34045325 0.452055\n",
      "  0.05338644 0.11512282 0.08371128 0.30774937 0.42381847 0.42596133\n",
      "  0.37806643 0.64778846 0.43529147 0.28794889 0.3941094  0.13570056\n",
      "  0.37092231 0.39639846 0.12383298 0.72356356 0.27484724 0.300169\n",
      "  0.         0.29112738 0.47009131 0.15528722 0.28014247 0.67446078\n",
      "  0.17229942 0.33642463 0.10631915 0.33927856 0.6308703  0.74384653\n",
      "  0.48124516 0.20776104 0.33279537 0.39931222]\n",
      " [0.48759117 0.66093915 0.46734327 0.08669136 0.57729374 0.26353144\n",
      "  0.67229605 0.41594251 0.63028203 0.56048372 0.55456795 0.20892699\n",
      "  0.57562254 0.26246932 0.81518073 0.39824192 0.33029345 0.36546782\n",
      "  0.65127335 0.64050448 0.40854768 0.6867496  0.45578262 0.57943451\n",
      "  0.50360635 0.53558809 0.43858328 0.53605251 0.75835969 0.61600561\n",
      "  0.51593818 0.16512253 0.7873818  0.69195491 0.4449691  0.52864787\n",
      "  0.18855679 0.43069025 0.63524518 0.66477845 0.17973756 0.59265074\n",
      "  0.31438386 0.4507598  0.31244304 0.19620776 0.221906   0.08033482\n",
      "  0.32777846 0.78825087 0.64371102 0.27897088 0.55296698 0.29656198\n",
      "  0.25269412 0.40473257 0.30927242 1.00999419 0.34425917 0.64785813\n",
      "  0.73775016 0.76521719 0.71430582 0.74817892 0.23111162 0.63527598\n",
      "  0.28653164 0.32025929 0.34199207 0.59886788 0.54831951 0.63998486\n",
      "  0.50672102 0.65958055 0.66034431 0.5000094  0.6188962  0.15888399\n",
      "  0.61665032 0.14593371 0.38559056 0.96170828 0.50188812 0.41620132\n",
      "  0.29112738 0.         0.74129669 0.35914769 0.4344017  0.92058519\n",
      "  0.3879175  0.25197343 0.37676545 0.62548051 0.77376298 0.68851189\n",
      "  0.72148037 0.47366387 0.18368063 0.67511931]\n",
      " [0.25622458 0.13498059 0.98275211 0.80979206 0.73732042 0.67357118\n",
      "  1.20404703 0.99255915 0.17632762 0.32970514 0.31098122 0.66119023\n",
      "  0.19230081 0.48415356 0.52893109 0.93389817 0.49291157 0.57540193\n",
      "  0.63100078 0.36255867 0.4570385  1.146911   0.48967783 1.1495184\n",
      "  0.63845765 0.91735145 0.71081185 0.24743193 0.72194111 0.1346388\n",
      "  0.237354   0.58050863 0.7732934  1.01209381 1.04194005 0.27181633\n",
      "  0.76888457 0.57799604 0.86875364 1.04369949 0.60499269 0.89892684\n",
      "  0.61700689 0.57243454 0.9131428  0.76744908 0.60550028 0.687002\n",
      "  0.49560905 0.43032668 0.51596179 0.73155785 1.12233131 0.65386178\n",
      "  0.86714039 0.5102126  0.87975256 0.76127296 0.52091617 0.19101239\n",
      "  0.18993557 0.48683511 0.68014045 0.19528985 0.67172977 0.29443958\n",
      "  0.4574826  0.42259025 0.47158578 0.23786507 0.72639795 0.58720711\n",
      "  0.40235928 1.00625531 0.18579347 0.27973515 0.55001331 0.60088002\n",
      "  0.48952099 0.86325783 0.4533799  0.70237591 0.2616288  0.43025174\n",
      "  0.47009131 0.74129669 0.         0.38915966 0.61735779 0.64205213\n",
      "  0.3606974  0.6503236  0.44361285 0.31129463 0.84150632 1.14214109\n",
      "  0.54757604 0.42317939 0.69718482 0.3833062 ]\n",
      " [0.1330556  0.33461225 0.69858509 0.43533465 0.59475424 0.37889312\n",
      "  0.925871   0.68291797 0.27254032 0.23909257 0.30567471 0.3409634\n",
      "  0.21649799 0.09687131 0.63108167 0.63664601 0.14462793 0.25568838\n",
      "  0.57492885 0.41711167 0.27434068 0.89936571 0.34422496 0.85138499\n",
      "  0.48636124 0.68775135 0.49957844 0.18010296 0.69285545 0.27607923\n",
      "  0.19324448 0.19457612 0.73823125 0.82251401 0.72673868 0.17851703\n",
      "  0.38499598 0.39551651 0.70768846 0.82788291 0.21686743 0.70423676\n",
      "  0.35460389 0.40479996 0.53566763 0.38459151 0.28803297 0.29889931\n",
      "  0.23872108 0.56645308 0.50360926 0.36720853 0.8232751  0.37797516\n",
      "  0.53222296 0.22010319 0.56276956 0.8669713  0.28175469 0.34231172\n",
      "  0.38318656 0.57585137 0.6427099  0.39398226 0.29746343 0.30269891\n",
      "  0.10820458 0.0452682  0.22322416 0.31071535 0.57128293 0.5420143\n",
      "  0.22388857 0.802978   0.30487225 0.14597088 0.50578332 0.24200844\n",
      "  0.46858237 0.49268398 0.24775801 0.80909695 0.14332907 0.15338\n",
      "  0.15528722 0.35914769 0.38915966 0.         0.4281994  0.75451182\n",
      "  0.02891405 0.28136841 0.22710337 0.37685453 0.76785589 0.89740827\n",
      "  0.57556252 0.30628651 0.31399894 0.4567032 ]\n",
      " [0.46151242 0.48699143 0.38415584 0.43377964 0.16895853 0.17832677\n",
      "  0.59342735 0.41827311 0.61588429 0.65335507 0.31086144 0.22619614\n",
      "  0.55487417 0.40439536 0.41925046 0.35213755 0.53759392 0.63936737\n",
      "  0.21855072 0.32148532 0.17173286 0.52970674 0.12798747 0.55245874\n",
      "  0.07056148 0.29999806 0.09387117 0.55542016 0.3241863  0.4896427\n",
      "  0.40411282 0.40261049 0.35577479 0.40732302 0.46936955 0.57031023\n",
      "  0.60211507 0.03957934 0.28071695 0.42913011 0.47657611 0.28933143\n",
      "  0.12034442 0.04781091 0.74413012 0.60776391 0.22097035 0.45721094\n",
      "  0.19051481 0.42848043 0.24250554 0.65819004 0.52730383 0.14156696\n",
      "  0.35753081 0.63025806 0.33405331 0.58245519 0.14732823 0.439963\n",
      "  0.72467443 0.37998819 0.27997567 0.73551746 0.58536448 0.70065064\n",
      "  0.33351879 0.39320632 0.20504754 0.38486543 0.14371133 0.21454954\n",
      "  0.6514894  0.39515041 0.65501783 0.53650298 0.20423317 0.31014718\n",
      "  0.22870544 0.45190367 0.18942517 0.5387534  0.51476549 0.57873706\n",
      "  0.28014247 0.4344017  0.61735779 0.4281994  0.         0.5053242\n",
      "  0.4378814  0.58929336 0.20832785 0.34382906 0.35745599 0.52482031\n",
      "  0.31145216 0.19427062 0.56118075 0.33841698]\n",
      " [0.68969381 0.53542619 0.81988868 0.93418009 0.448508   0.68148434\n",
      "  0.9672502  0.88094681 0.76451388 0.88527069 0.4524696  0.7219752\n",
      "  0.72941605 0.79147677 0.1250139  0.8157014  0.89819508 1.00987353\n",
      "  0.29882854 0.34093248 0.52475364 0.86292767 0.46678011 0.96829716\n",
      "  0.44964029 0.67541906 0.55410582 0.76729157 0.25722046 0.59459802\n",
      "  0.59511322 0.8380114  0.28304224 0.6637735  0.92809213 0.79432147\n",
      "  1.06246068 0.49638506 0.53070434 0.73062048 0.90599421 0.60361956\n",
      "  0.61511976 0.47579595 1.21527902 1.06628436 0.69875488 0.9226399\n",
      "  0.60319296 0.21393056 0.27707905 1.09060108 0.94989958 0.64431054\n",
      "  0.8580117  0.9714586  0.82470376 0.12036099 0.57827159 0.48406584\n",
      "  0.82675404 0.17961202 0.26571578 0.83382906 1.01445707 0.89014008\n",
      "  0.71537012 0.74570718 0.59676432 0.47647994 0.46637258 0.29126942\n",
      "  0.92678321 0.68344418 0.79443823 0.77355353 0.30396009 0.77203383\n",
      "  0.30621286 0.95651966 0.55259465 0.06049679 0.74355971 0.89407958\n",
      "  0.67446078 0.92058519 0.64205213 0.75451182 0.5053242  0.\n",
      "  0.74419633 1.00854719 0.56841437 0.3898005  0.37538979 0.85404784\n",
      "  0.19911225 0.46677112 1.00641285 0.30243204]\n",
      " [0.1049113  0.30976358 0.71988203 0.46366101 0.60265685 0.39893194\n",
      "  0.94738899 0.70636403 0.24454092 0.22069999 0.29286132 0.36341913\n",
      "  0.18783334 0.12575762 0.62008272 0.65883417 0.16068135 0.26930896\n",
      "  0.57513251 0.40483724 0.27834096 0.91831052 0.34709082 0.8743378\n",
      "  0.49354073 0.70419916 0.51260591 0.15309114 0.69242835 0.24962446\n",
      "  0.17140147 0.22345498 0.73874392 0.83631206 0.75078419 0.15366586\n",
      "  0.41174065 0.40379578 0.71831621 0.84390751 0.24469731 0.71774017\n",
      "  0.37065027 0.41178905 0.56130918 0.41109749 0.30945268 0.32776825\n",
      "  0.25067939 0.55217215 0.49890674 0.39004244 0.84623412 0.39592926\n",
      "  0.55738749 0.22734788 0.58641936 0.85804558 0.29309284 0.32040966\n",
      "  0.35591945 0.56492766 0.64235245 0.3667841  0.32186931 0.28070045\n",
      "  0.12965317 0.07094956 0.23320267 0.29193502 0.58001292 0.54076209\n",
      "  0.21428861 0.81782342 0.27752654 0.12012297 0.50374824 0.26810719\n",
      "  0.46375661 0.52078903 0.25320808 0.79966086 0.11521616 0.15364315\n",
      "  0.17229942 0.3879175  0.3606974  0.02891405 0.4378814  0.74419633\n",
      "  0.         0.30457514 0.23276765 0.36222177 0.77171525 0.91611525\n",
      "  0.569094   0.30444434 0.34046368 0.44428967]\n",
      " [0.40474729 0.61414564 0.71444191 0.33490665 0.75368731 0.45601435\n",
      "  0.923853   0.66722464 0.49783915 0.38139038 0.57538289 0.39807545\n",
      "  0.46006005 0.21802854 0.88924719 0.64531135 0.15790751 0.12505489\n",
      "  0.7842029  0.68290041 0.48923107 0.93339588 0.55577439 0.83140778\n",
      "  0.65879382 0.76392752 0.62621382 0.40744562 0.90101588 0.5521705\n",
      "  0.47461132 0.18670185 0.93939588 0.91749062 0.69694106 0.38845744\n",
      "  0.13534894 0.57014029 0.83793322 0.89962241 0.11281772 0.80893022\n",
      "  0.47717024 0.58657533 0.2633439  0.13051543 0.37523652 0.17523782\n",
      "  0.4189359  0.83550192 0.7400923  0.08597645 0.80491212 0.47767478\n",
      "  0.50315264 0.18385195 0.55694302 1.11402592 0.45538195 0.62366473\n",
      "  0.58593079 0.83460627 0.85226698 0.594699   0.0276403  0.45730478\n",
      "  0.29317939 0.27174532 0.41861546 0.59022483 0.72575178 0.7605434\n",
      "  0.30950761 0.88848403 0.51678597 0.3723721  0.72989498 0.28419162\n",
      "  0.7069899  0.39041143 0.46024456 1.05897837 0.38869694 0.23475247\n",
      "  0.33642463 0.25197343 0.6503236  0.28136841 0.58929336 1.00854719\n",
      "  0.30457514 0.         0.44249415 0.649068   0.94661256 0.93449917\n",
      "  0.81731421 0.54241319 0.07733664 0.72211652]\n",
      " [0.25508045 0.32756083 0.54098859 0.41770514 0.37021549 0.2311621\n",
      "  0.76519032 0.54905711 0.41357558 0.4452529  0.1827796  0.22850503\n",
      "  0.35140679 0.22992633 0.45272969 0.49040111 0.35366423 0.46295445\n",
      "  0.35219448 0.26409553 0.04875281 0.71827756 0.11910994 0.70659594\n",
      "  0.26086943 0.49363968 0.29124948 0.34794334 0.47063867 0.30938793\n",
      "  0.21126743 0.27003917 0.51418952 0.61382459 0.59867568 0.36211493\n",
      "  0.49621917 0.17223484 0.48874952 0.6296109  0.33767401 0.49517894\n",
      "  0.1738786  0.17912697 0.65090758 0.49955259 0.17797414 0.36128737\n",
      "  0.05622052 0.41402978 0.29760017 0.52294788 0.67923247 0.21026225\n",
      "  0.4312783  0.4413078  0.43782037 0.67172246 0.07811596 0.29618063\n",
      "  0.52526392 0.39954453 0.42063613 0.5363094  0.44677221 0.49270428\n",
      "  0.15212613 0.19928291 0.03554839 0.24079227 0.34825321 0.32299845\n",
      "  0.44704021 0.59903192 0.4525263  0.32820801 0.28970304 0.21820963\n",
      "  0.26461992 0.45990846 0.02066311 0.61725874 0.30693374 0.38036964\n",
      "  0.10631915 0.37676545 0.44361285 0.22710337 0.20832785 0.56841437\n",
      "  0.23276765 0.44249415 0.         0.25016683 0.5408161  0.71468305\n",
      "  0.37494984 0.10227279 0.43817509 0.2997448 ]\n",
      " [0.29998049 0.17822589 0.72747668 0.66764453 0.43490192 0.45815434\n",
      "  0.93587077 0.75542716 0.38809607 0.4971891  0.07423119 0.47060368\n",
      "  0.34516616 0.43279341 0.26486715 0.69088685 0.52131583 0.63139483\n",
      "  0.31972589 0.05485153 0.22973129 0.8647157  0.22270318 0.89602592\n",
      "  0.345818   0.63577536 0.43587425 0.37898389 0.41362009 0.21918218\n",
      "  0.20539384 0.50162043 0.465011   0.71275235 0.80661466 0.40547869\n",
      "  0.72750298 0.30821183 0.56598993 0.75175856 0.55904255 0.60462706\n",
      "  0.38863616 0.29602204 0.88347033 0.72954959 0.42504564 0.60226714\n",
      "  0.30380987 0.18995389 0.20510807 0.73441195 0.87057904 0.4275685\n",
      "  0.66307886 0.58727882 0.65710519 0.50800814 0.30462183 0.12071066\n",
      "  0.46994433 0.21139564 0.37005384 0.47896003 0.6600385  0.50874658\n",
      "  0.36472824 0.37758262 0.28565891 0.09005325 0.4279619  0.27591961\n",
      "  0.53698806 0.71115377 0.42231665 0.3838358  0.23897775 0.46660108\n",
      "  0.17829417 0.70825063 0.24530992 0.44814203 0.35386254 0.50756666\n",
      "  0.33927856 0.62548051 0.31129463 0.37685453 0.34382906 0.3898005\n",
      "  0.36222177 0.649068   0.25016683 0.         0.53042606 0.85882893\n",
      "  0.24633033 0.16814965 0.66283424 0.08840964]\n",
      " [0.76747319 0.70848923 0.50624074 0.75261679 0.19668247 0.51060128\n",
      "  0.6099312  0.58229605 0.89939269 0.9722229  0.54792796 0.56739806\n",
      "  0.84541933 0.75797722 0.38740341 0.52561571 0.88933856 0.99418014\n",
      "  0.2122695  0.47920851 0.49368814 0.49860063 0.42466717 0.6290191\n",
      "  0.28898216 0.34961071 0.33540881 0.86162252 0.13309089 0.74111937\n",
      "  0.68713556 0.75991096 0.09295037 0.29502008 0.62134074 0.88218857\n",
      "  0.9519004  0.38027157 0.18800567 0.36670665 0.83383395 0.26568298\n",
      "  0.4717413  0.36684679 1.08615655 0.95811962 0.57469001 0.80803125\n",
      "  0.54036277 0.46919612 0.32555561 1.01404279 0.61557728 0.47979431\n",
      "  0.61848456 0.98001216 0.56722168 0.37345719 0.49879349 0.65111856\n",
      "  0.99394954 0.39549467 0.16358269 1.00366591 0.94208073 1.00568425\n",
      "  0.68375319 0.73867564 0.5495245  0.61167704 0.22563391 0.25542647\n",
      "  0.98473608 0.32051422 0.93694919 0.85140296 0.29400232 0.66548262\n",
      "  0.35301875 0.75259975 0.52015302 0.36526618 0.82504869 0.92117841\n",
      "  0.6308703  0.77376298 0.84150632 0.76785589 0.35745599 0.37538979\n",
      "  0.77171525 0.94661256 0.5408161  0.53042606 0.         0.48915908\n",
      "  0.30876591 0.47437048 0.91582828 0.46316464]\n",
      " [0.9668007  1.01152471 0.22125368 0.6187452  0.43853235 0.51924338\n",
      "  0.12849203 0.28586138 1.12771521 1.13630412 0.83462537 0.56446515\n",
      "  1.06520532 0.83505748 0.83233024 0.29027355 0.95946084 1.0321883\n",
      "  0.59414239 0.82544485 0.68957163 0.01005407 0.65270089 0.19348463\n",
      "  0.51311192 0.22485416 0.43136223 1.05560136 0.59689442 1.01335141\n",
      "  0.92314978 0.77885812 0.57548319 0.19449801 0.28249313 1.06492384\n",
      "  0.87040383 0.56414518 0.32582567 0.12347319 0.83731699 0.26223784\n",
      "  0.54824035 0.57040697 0.95000071 0.87866362 0.61192201 0.7598475\n",
      "  0.6749471  0.88696383 0.69660469 0.96719266 0.1991258  0.52028452\n",
      "  0.43780923 1.05119867 0.37924933 0.86260946 0.638103   0.96306477\n",
      "  1.23992103 0.8186227  0.596621   1.25097657 0.91682714 1.19536933\n",
      "  0.78941561 0.85388283 0.6971564  0.90884514 0.43682648 0.62842857\n",
      "  1.11372003 0.17062273 1.16646813 1.03017486 0.64997563 0.68223327\n",
      "  0.70377353 0.58002289 0.69977528 0.85196128 1.01380091 1.02718643\n",
      "  0.74384653 0.68851189 1.14214109 0.89740827 0.52482031 0.85404784\n",
      "  0.91611525 0.93449917 0.71468305 0.85882893 0.48915908 0.\n",
      "  0.72709454 0.71908472 0.87165457 0.83038847]\n",
      " [0.53071551 0.4203124  0.65509682 0.73597457 0.29223416 0.48482661\n",
      "  0.82787318 0.70766259 0.63397032 0.73490581 0.28971638 0.52357293\n",
      "  0.58853989 0.60236142 0.11187538 0.64112372 0.71637232 0.82802247\n",
      "  0.13320307 0.19148301 0.32938237 0.73490276 0.268575   0.81367184\n",
      "  0.2632064  0.5241497  0.37151084 0.61746585 0.17900242 0.46551122\n",
      "  0.43866772 0.64268075 0.22919351 0.55108468 0.75690986 0.64239029\n",
      "  0.86551996 0.29901591 0.40407654 0.60720086 0.71216055 0.46551701\n",
      "  0.41722906 0.27848865 1.01749828 0.86957744 0.49964265 0.72466728\n",
      "  0.40612699 0.16454647 0.07852535 0.89781651 0.79246902 0.44771463\n",
      "  0.66813838 0.79537883 0.63971672 0.29677441 0.37966522 0.36298382\n",
      "  0.71531463 0.09235874 0.14694489 0.7240633  0.82165492 0.75259305\n",
      "  0.52508292 0.56131059 0.4012729  0.33569104 0.30197871 0.10595805\n",
      "  0.76585325 0.56127194 0.66857265 0.61698378 0.10728871 0.57366572\n",
      "  0.11033387 0.75997756 0.35790474 0.24314058 0.58767912 0.72216162\n",
      "  0.48124516 0.72148037 0.54757604 0.57556252 0.31145216 0.19911225\n",
      "  0.569094   0.81731421 0.37494984 0.24633033 0.30876591 0.72709454\n",
      "  0.         0.27553826 0.81115063 0.16453182]\n",
      " [0.29359723 0.29295794 0.56946998 0.50729615 0.32733247 0.29000469\n",
      "  0.78517959 0.5915936  0.43513606 0.49785355 0.11888846 0.30443625\n",
      "  0.37709135 0.32682606 0.35046023 0.52827442 0.4432222  0.55439051\n",
      "  0.271451   0.16905691 0.06553407 0.72397356 0.06652883 0.73805414\n",
      "  0.22093357 0.49424761 0.28796047 0.38827307 0.38812178 0.29707554\n",
      "  0.21984867 0.3722762  0.43504605 0.59373916 0.64259166 0.40805429\n",
      "  0.5984598  0.15509111 0.45587028 0.62137886 0.43928012 0.47815266\n",
      "  0.22072221 0.14945805 0.7530065  0.60181931 0.26225468 0.46263413\n",
      "  0.145886   0.31461329 0.19985744 0.62390797 0.71182764 0.25973563\n",
      "  0.49493629 0.52598815 0.49012971 0.57186241 0.13818153 0.24780502\n",
      "  0.53927409 0.29732531 0.33811217 0.54983386 0.54774425 0.53339602\n",
      "  0.24965408 0.28746702 0.13364798 0.19177373 0.31142613 0.23631777\n",
      "  0.51338612 0.58524455 0.47394284 0.37703687 0.19955235 0.31668047\n",
      "  0.16562472 0.54455435 0.08890811 0.5165654  0.35090122 0.45770154\n",
      "  0.20776104 0.47366387 0.42317939 0.30628651 0.19427062 0.46677112\n",
      "  0.30444434 0.54241319 0.10227279 0.16814965 0.47437048 0.71908472\n",
      "  0.27553826 0.         0.54028455 0.20178125]\n",
      " [0.44463227 0.648074   0.65064976 0.26274154 0.72035152 0.41293813\n",
      "  0.85523429 0.59926472 0.55397265 0.4480531  0.5886032  0.35430808\n",
      "  0.51089262 0.23258061 0.89055985 0.5814855  0.21482089 0.20206254\n",
      "  0.76580565 0.69153405 0.48195609 0.8700572  0.54433448 0.76115986\n",
      "  0.63163563 0.71052232 0.58767071 0.4608823  0.88038155 0.58996655\n",
      "  0.50405012 0.16848959 0.91584713 0.86581879 0.62670195 0.44476558\n",
      "  0.07170321 0.54663324 0.79551485 0.8434015  0.10380942 0.7609341\n",
      "  0.44410562 0.56454236 0.22302831 0.07063396 0.34119714 0.11497761\n",
      "  0.40583181 0.84453227 0.73289508 0.10042924 0.73508095 0.43879679\n",
      "  0.43636449 0.25768863 0.49258223 1.10738183 0.43762031 0.65117631\n",
      "  0.64807498 0.83686032 0.83282738 0.65732656 0.05120955 0.52459191\n",
      "  0.29849269 0.29372158 0.40995284 0.61256031 0.69180507 0.74590739\n",
      "  0.37964066 0.83517285 0.5761178  0.42466792 0.71795423 0.25103368\n",
      "  0.70125061 0.316382   0.45385059 1.05420219 0.43718354 0.29886332\n",
      "  0.33279537 0.18368063 0.69718482 0.31399894 0.56118075 1.00641285\n",
      "  0.34046368 0.07733664 0.43817509 0.66283424 0.91582828 0.87165457\n",
      "  0.81115063 0.54028455 0.         0.72991479]\n",
      " [0.38743623 0.25607385 0.71951045 0.70842181 0.39505739 0.47991285\n",
      "  0.91696391 0.75668582 0.47449965 0.5855952  0.1514286  0.5022407\n",
      "  0.43314055 0.50423569 0.1774284  0.69052776 0.60126368 0.7123114\n",
      "  0.25937306 0.03960642 0.2672814  0.83705164 0.23622615 0.88626613\n",
      "  0.32226722 0.61214622 0.42382635 0.46738958 0.33942977 0.30439937\n",
      "  0.29291222 0.5646707  0.39062111 0.6715121  0.80778626 0.49383869\n",
      "  0.79185125 0.30878026 0.52264105 0.71746287 0.62670715 0.57038898\n",
      "  0.40844612 0.29229882 0.94752235 0.79454044 0.46316259 0.66044105\n",
      "  0.34748565 0.11482391 0.14217461 0.80653079 0.86214046 0.44587829\n",
      "  0.68176983 0.67089781 0.66775122 0.4199778  0.33769703 0.19904799\n",
      "  0.55175118 0.12328455 0.29989138 0.56031178 0.73117621 0.59640745\n",
      "  0.43193457 0.45281543 0.33359186 0.17782484 0.39369666 0.21645278\n",
      "  0.6246326  0.67439668 0.50780492 0.47184262 0.18511679 0.51740237\n",
      "  0.12707324 0.74384725 0.28955878 0.36024843 0.44190591 0.59242438\n",
      "  0.39931222 0.67511931 0.3833062  0.4567032  0.33841698 0.30243204\n",
      "  0.44428967 0.72211652 0.2997448  0.08840964 0.46316464 0.83038847\n",
      "  0.16453182 0.20178125 0.72991479 0.        ]]\n"
     ]
    }
   ],
   "source": [
    "vector = np.random.random((100,2))\n",
    "X,Y = np.atleast_2d(vector[:,0], vector[:,1]) #ділення вектору на масиви х та у(vector[:,0] всі рядки та 0 ставпчик-х vector[:,1] з у аналогічно)\n",
    "D = np.sqrt( (X-X.T)**2 + (Y-Y.T)**2) #матриця відстаней з матриць квадратів різниці координат \n",
    "print(D) # обрахунок відстані від кожної точки масиву до всіх інших"
   ]
  },
  {
   "cell_type": "markdown",
   "id": "f5c164f2",
   "metadata": {},
   "source": [
    "#### 53. How to convert a float (32 bits) array into an integer (32 bits) in place?"
   ]
  },
  {
   "cell_type": "code",
   "execution_count": null,
   "id": "ea262de8",
   "metadata": {},
   "outputs": [
    {
     "name": "stdout",
     "output_type": "stream",
     "text": [
      "[62  1 40 11  3 25 65 41 81 57]\n"
     ]
    }
   ],
   "source": [
    "array = (np.random.rand(10)*100).astype(np.float32)\n",
    "Y = array.view(np.int32) #інтерпритує представлення array як цілі числа\n",
    "Y[:] = array\n",
    "print(Y)"
   ]
  },
  {
   "cell_type": "markdown",
   "id": "a8b7e6f5",
   "metadata": {},
   "source": [
    "#### 54. How to read the following file? (★★☆)\n",
    "```\n",
    "1, 2, 3, 4, 5\n",
    "6,  ,  , 7, 8\n",
    " ,  , 9,10,11\n",
    "```"
   ]
  },
  {
   "cell_type": "code",
   "execution_count": null,
   "id": "bde0538a",
   "metadata": {},
   "outputs": [
    {
     "name": "stdout",
     "output_type": "stream",
     "text": [
      "[[ 1  2  3  4  5]\n",
      " [ 6 -1 -1  7  8]\n",
      " [-1 -1  9 10 11]]\n"
     ]
    }
   ],
   "source": [
    "from io import StringIO\n",
    "\n",
    "s = StringIO('''1, 2, 3, 4, 5\n",
    "\n",
    "                6,  ,  , 7, 8\n",
    "\n",
    "                 ,  , 9,10,11\n",
    "''')\n",
    "answ = np.genfromtxt(s, delimiter=\",\", dtype=np.int32) \n",
    "print(answ)"
   ]
  },
  {
   "cell_type": "markdown",
   "id": "c6b32834",
   "metadata": {},
   "source": [
    "#### 55. What is the equivalent of enumerate(перерахування) for numpy arrays? (★★☆)"
   ]
  },
  {
   "cell_type": "code",
   "execution_count": null,
   "id": "ab02472a",
   "metadata": {},
   "outputs": [
    {
     "name": "stdout",
     "output_type": "stream",
     "text": [
      "(0, 0) 0\n",
      "(0, 1) 1\n",
      "(0, 2) 2\n",
      "(1, 0) 3\n",
      "(1, 1) 4\n",
      "(1, 2) 5\n",
      "(2, 0) 6\n",
      "(2, 1) 7\n",
      "(2, 2) 8\n",
      "(0, 0) 0\n",
      "(0, 1) 1\n",
      "(0, 2) 2\n",
      "(1, 0) 3\n",
      "(1, 1) 4\n",
      "(1, 2) 5\n",
      "(2, 0) 6\n",
      "(2, 1) 7\n",
      "(2, 2) 8\n"
     ]
    }
   ],
   "source": [
    "array = np.arange(9).reshape(3,3)\n",
    "for index, value in np.ndenumerate(array): #перебір індексів та значень в array\n",
    "    print(index, value)\n",
    "for index in np.ndindex(array.shape): #генерація індексів та їх використання для отримання значень по ним\n",
    "    print(index, array[index])"
   ]
  },
  {
   "cell_type": "markdown",
   "id": "a2121a05",
   "metadata": {},
   "source": [
    "#### 56. Generate a generic 2D Gaussian-like array (★★☆)"
   ]
  },
  {
   "cell_type": "code",
   "execution_count": null,
   "id": "18507102",
   "metadata": {},
   "outputs": [],
   "source": [
    "X, Y = np.meshgrid(np.linspace(-1,1,10), np.linspace(-1,1,10)) #створення двух сіток х у розмірами 10х10 \n",
    "D = np.sqrt(X*X+Y*Y) #матриця з відстанями точок до початку кординат \n",
    "sigma, mu = 1.0, 0.0\n",
    "G = np.exp(-( (D-mu)**2 / ( 2.0 * sigma**2 ) ) ) #розрахунок G по Гаусовському розподіленю(mu сер значення sigma стандартне відхилення)\n",
    "print(G)"
   ]
  },
  {
   "cell_type": "markdown",
   "id": "97055efa",
   "metadata": {},
   "source": [
    "#### 57. How to randomly place p elements in a 2D array? (★★☆)"
   ]
  },
  {
   "cell_type": "code",
   "execution_count": null,
   "id": "292e842f",
   "metadata": {},
   "outputs": [
    {
     "name": "stdout",
     "output_type": "stream",
     "text": [
      "[[0. 0. 0. 0. 1. 0. 0. 0. 0. 0.]\n",
      " [0. 0. 0. 0. 0. 0. 0. 0. 0. 0.]\n",
      " [0. 0. 0. 0. 0. 0. 0. 0. 0. 0.]\n",
      " [0. 0. 0. 0. 0. 0. 0. 0. 0. 0.]\n",
      " [0. 0. 0. 0. 0. 0. 0. 0. 0. 0.]\n",
      " [0. 0. 0. 0. 0. 0. 0. 0. 1. 0.]\n",
      " [0. 0. 0. 0. 0. 0. 1. 0. 0. 0.]\n",
      " [0. 0. 0. 0. 0. 0. 0. 0. 0. 0.]\n",
      " [0. 0. 0. 0. 0. 0. 0. 0. 0. 0.]\n",
      " [0. 0. 0. 0. 0. 0. 0. 0. 0. 0.]]\n"
     ]
    }
   ],
   "source": [
    "n = 10\n",
    "p = 3\n",
    "array = np.zeros((n,n))\n",
    "np.put(array, np.random.choice(range(n*n), p, replace=False),1) #заміна р рандомних елементів в області nxn на 1 replace=False-обрані р елементів не повторюються\n",
    "print(array)"
   ]
  },
  {
   "cell_type": "markdown",
   "id": "bfd2513c",
   "metadata": {},
   "source": [
    "#### 58. Subtract the mean of each row of a matrix (★★☆)"
   ]
  },
  {
   "cell_type": "code",
   "execution_count": null,
   "id": "f306ab72",
   "metadata": {},
   "outputs": [
    {
     "name": "stdout",
     "output_type": "stream",
     "text": [
      "[[-0.54584152 -0.18895417 -0.4852986   0.1253865   0.02684834  0.26165626\n",
      "   0.30875271  0.29564729  0.32914907 -0.12734586]\n",
      " [ 0.38408564  0.39751296  0.07298757 -0.37304381 -0.18393311 -0.3488505\n",
      "  -0.16975899  0.05751349 -0.22291161  0.38639836]\n",
      " [-0.00368652 -0.02692682 -0.49428225  0.32411476 -0.0827607  -0.13342627\n",
      "  -0.06574915  0.38577294  0.08043616  0.01650786]\n",
      " [-0.03082327  0.08992154  0.30187826 -0.39037141 -0.30652111  0.18058704\n",
      "   0.48838987 -0.41727748  0.31040705 -0.2261905 ]\n",
      " [-0.44666867  0.23360667  0.25318551 -0.45664186 -0.16051013  0.2011973\n",
      "   0.37908706  0.13671574 -0.073154   -0.06681763]]\n"
     ]
    }
   ],
   "source": [
    "X = np.random.rand(5, 10)\n",
    "\n",
    "Y = X - X.mean(axis=1, keepdims=True) #обрахунок середнього значення з кожної строки х(axis=1) і повернення результату зі збереженням розмірності (keepdims=True)\n",
    "\n",
    "print(Y)"
   ]
  },
  {
   "cell_type": "markdown",
   "id": "da9f2f9b",
   "metadata": {},
   "source": [
    "#### 59. How to sort an array by the nth column? (★★☆)"
   ]
  },
  {
   "cell_type": "code",
   "execution_count": null,
   "id": "68cde57f",
   "metadata": {},
   "outputs": [
    {
     "name": "stdout",
     "output_type": "stream",
     "text": [
      "[[1 8 5]\n",
      " [6 2 3]\n",
      " [3 1 8]]\n",
      "[[3 1 8]\n",
      " [6 2 3]\n",
      " [1 8 5]]\n"
     ]
    }
   ],
   "source": [
    "array = np.random.randint(0,10,(3,3))\n",
    "print(array)\n",
    "print(array[array[:,1].argsort()]) #повертає індекси відсортованих по другому стовпцю елементів і по індексах пересортовує строки в матриці"
   ]
  },
  {
   "cell_type": "markdown",
   "id": "5b7be45c",
   "metadata": {},
   "source": [
    "#### 60. How to tell if a given 2D array has null columns? (★★☆)"
   ]
  },
  {
   "cell_type": "code",
   "execution_count": null,
   "id": "7dbe2c27",
   "metadata": {},
   "outputs": [
    {
     "name": "stdout",
     "output_type": "stream",
     "text": [
      "True\n"
     ]
    }
   ],
   "source": [
    "array = np.random.randint(0,3,(3,10))\n",
    "print((~array.any(axis=0)).any()) #повертає булевий масив де елементи вказують чи є в стовпці хочаб одне ненульове значення ~ інвертує false на true, any повертає true якщо хоч в одному стовпці нема нема жодного не нал значення"
   ]
  },
  {
   "cell_type": "markdown",
   "id": "7c18c02e",
   "metadata": {},
   "source": [
    "#### 61. Find the nearest value from a given value in an array (★★☆)"
   ]
  },
  {
   "cell_type": "code",
   "execution_count": null,
   "id": "b78ae9c4",
   "metadata": {},
   "outputs": [
    {
     "name": "stdout",
     "output_type": "stream",
     "text": [
      "0.48531687162693893\n"
     ]
    }
   ],
   "source": [
    "array = np.random.uniform(0,1,10)\n",
    "z = 0.5\n",
    "m = array[np.abs(array - z).argmin()] #обрахунок абсолютних різниць між елементами масиву та z, argmin повертає індекс елем з найменшою абс різницею \n",
    "print(m)"
   ]
  },
  {
   "cell_type": "markdown",
   "id": "8174ba2c",
   "metadata": {},
   "source": [
    "#### 62. Considering two arrays with shape (1,3) and (3,1), how to compute their sum using an iterator? (★★☆)"
   ]
  },
  {
   "cell_type": "code",
   "execution_count": null,
   "id": "8a18fe57",
   "metadata": {},
   "outputs": [
    {
     "name": "stdout",
     "output_type": "stream",
     "text": [
      "[[0 1 2]\n",
      " [1 2 3]\n",
      " [2 3 4]]\n"
     ]
    }
   ],
   "source": [
    "A = np.arange(3).reshape(3,1)\n",
    "B = np.arange(3).reshape(1,3)\n",
    "it = np.nditer([A,B,None]) #створюється ітератор по А Б та пустому масиву щоб обробляти а і б одночасно \n",
    "for x,y,z in it: z[...] = x + y #x береться з А у з Б а z з пустого масиву і в z сума х та у (... копіювання даних)\n",
    "print(it.operands[2]) #вивід пустого масиву заповненого z"
   ]
  },
  {
   "cell_type": "markdown",
   "id": "9189bd7c",
   "metadata": {},
   "source": [
    "#### 63. Create an array class that has a name attribute (★★☆)"
   ]
  },
  {
   "cell_type": "code",
   "execution_count": null,
   "id": "1c01ed42",
   "metadata": {},
   "outputs": [
    {
     "name": "stdout",
     "output_type": "stream",
     "text": [
      "some name\n"
     ]
    }
   ],
   "source": [
    "class NamedArray(np.ndarray): #нащадок np.ndarray(дефолт нампай масив)\n",
    "    def __new__(cls, array, name):#викликається при створенні екземпляру класа\n",
    "        obj = np.asarray(array).view(cls)#view повертає ndarray типу NamedArray\n",
    "        obj.name = name\n",
    "        return obj\n",
    "\n",
    "arr = NamedArray(name=\"some name\", array = np.zeros((5,5))) \n",
    "print (arr.name)"
   ]
  },
  {
   "cell_type": "markdown",
   "id": "f30162d2",
   "metadata": {},
   "source": [
    "#### 64. Consider a given vector, how to add 1 to each element indexed by a second vector (be careful with repeated indices)? (★★★)"
   ]
  },
  {
   "cell_type": "code",
   "execution_count": null,
   "id": "093ba36f",
   "metadata": {},
   "outputs": [
    {
     "name": "stdout",
     "output_type": "stream",
     "text": [
      "[2. 1. 3. 4. 3. 1. 6. 3. 1. 6.]\n"
     ]
    }
   ],
   "source": [
    "vector = np.ones(10)\n",
    "indices = np.random.randint(0,len(arr),20) #масив довжиною вектора\n",
    "\n",
    "np.add.at(vector,indices,1) #до кожного елементу вектора додаємо 1 стільки раз скільки його індекс є в масиві індексів\n",
    "print(vector)"
   ]
  },
  {
   "cell_type": "markdown",
   "id": "f5b1c584",
   "metadata": {},
   "source": [
    "#### 65. How to accumulate(накопичувати) elements of a vector (X) to an array (F) based on an index list (I)? (★★★)"
   ]
  },
  {
   "cell_type": "code",
   "execution_count": null,
   "id": "c9d92a75",
   "metadata": {},
   "outputs": [
    {
     "name": "stdout",
     "output_type": "stream",
     "text": [
      "[0. 7. 0. 6. 5. 0. 0. 0. 0. 3.]\n"
     ]
    }
   ],
   "source": [
    "X = [1,2,3,4,5,6]\n",
    "I = [1,3,9,3,4,1] #масив індексів\n",
    "F = np.bincount(I,X) #якщо індекс з І зустрічається в Х то не 0 в F , а число або сума чисел які стоять в Х над відповідними числами (1=1+6=7)\n",
    "print(F)\n",
    "#Функція np.bincount підраховує кількість входжень кожного індексу в масиві та сумує відповідні значення з масиву X."
   ]
  },
  {
   "cell_type": "markdown",
   "id": "994c452d",
   "metadata": {},
   "source": [
    "#### 66. Considering a (w,h,3) image of (dtype=ubyte), compute the number of unique colors (★★☆)"
   ]
  },
  {
   "cell_type": "code",
   "execution_count": null,
   "id": "269cdaea",
   "metadata": {},
   "outputs": [
    {
     "name": "stdout",
     "output_type": "stream",
     "text": [
      "64\n"
     ]
    }
   ],
   "source": [
    "w, h = 256, 256\n",
    "I = np.random.randint(0, 4, (h, w, 3)).astype(np.ubyte) #тривимірний масив розміром (256, 256, 3) елементи від 0 до 3-індекси кольорів (RGBA)\n",
    "\n",
    "colors = np.unique(I.reshape(-1, 3), axis=0)  #I преобразується в масив (65536, 3) потім unique шукає унікальні рядки в масиві, унікальний рядок-унікальний колір (-1 рахує к-ть елем в мас для перетворення 3д масиву в 2д, 3-розмір строки матриці)\n",
    " \n",
    "n = len(colors) #колво унікальних кольорів #colors-RGB\n",
    "print(n)"
   ]
  },
  {
   "cell_type": "markdown",
   "id": "4bddeb31",
   "metadata": {},
   "source": [
    "#### 67. Considering a four dimensions array, how to get sum over the last two axis at once? (★★★)"
   ]
  },
  {
   "cell_type": "code",
   "execution_count": null,
   "id": "32af15f5",
   "metadata": {},
   "outputs": [
    {
     "name": "stdout",
     "output_type": "stream",
     "text": [
      "[[61 56 47 55]\n",
      " [49 49 58 53]\n",
      " [79 37 46 32]]\n"
     ]
    }
   ],
   "source": [
    "A = np.random.randint(0,10,(3,4,3,4))\n",
    "sum = A.sum(axis=(-2,-1)) #сумування елементів A по двом останнім осям , результат масив  (3, 4) де кожен елемент=сума елементів A по двом останнім осям\n",
    "print(sum)"
   ]
  },
  {
   "cell_type": "markdown",
   "id": "c4cf083c",
   "metadata": {},
   "source": [
    "#### 68. Considering a one-dimensional vector D, how to compute means of subsets(підмножини) of D using a vector S of same size describing subset  indices? (★★★)"
   ]
  },
  {
   "cell_type": "code",
   "execution_count": null,
   "id": "9600a2dd",
   "metadata": {},
   "outputs": [
    {
     "name": "stdout",
     "output_type": "stream",
     "text": [
      "[0.55043682 0.78119739 0.22195139 0.65982506 0.03996857 0.18185778\n",
      " 0.66940382 0.76924288 0.81694781 0.24471337]\n",
      "[7 0 1 1 2 4 5 9 0 1]\n",
      "[1.59814519 1.12648982 0.03996857 0.         0.18185778 0.66940382\n",
      " 0.         0.55043682 0.         0.76924288]\n",
      "[2 3 1 0 1 1 0 1 0 1]\n",
      "[0.7990726  0.37549661 0.03996857        nan 0.18185778 0.66940382\n",
      "        nan 0.55043682        nan 0.76924288]\n"
     ]
    },
    {
     "name": "stderr",
     "output_type": "stream",
     "text": [
      "C:\\Users\\Админ\\AppData\\Local\\Temp\\ipykernel_19564\\2520671469.py:9: RuntimeWarning: invalid value encountered in divide\n",
      "  D_means = D_sums / D_counts\n"
     ]
    }
   ],
   "source": [
    "D = np.random.uniform(0,1,10) #вектор\n",
    "print(D)\n",
    "S = np.random.randint(0,10,10) #індекси\n",
    "print(S)\n",
    "D_sums = np.bincount(S, weights=D) #робим бінкаунт для вектору але індекси не по порядку а так як вони в S проставлені(якщо в S на нульовому індексі 6 то ми в бінкаунт пишемо на індекс 6 додаєм число 0ового індексу з D)\n",
    "print(D_sums)\n",
    "D_counts = np.bincount(S) #звичайний бінкаунт S\n",
    "print(D_counts)\n",
    "D_means = D_sums / D_counts \n",
    "print(D_means)"
   ]
  },
  {
   "cell_type": "markdown",
   "id": "a5e316db",
   "metadata": {},
   "source": [
    "#### 69. How to get the diagonal of a dot product? (★★★)"
   ]
  },
  {
   "cell_type": "code",
   "execution_count": null,
   "id": "94735dbd",
   "metadata": {},
   "outputs": [
    {
     "data": {
      "text/plain": [
       "array([0.61858527, 1.8140513 , 2.00475426, 0.98265088, 1.54599494])"
      ]
     },
     "execution_count": 59,
     "metadata": {},
     "output_type": "execute_result"
    }
   ],
   "source": [
    "A = np.random.uniform(0,1,(5,5))\n",
    "B = np.random.uniform(0,1,(5,5))\n",
    "#генерує масив розміром (5, 5), де кожен елемент масиву є випадковим дійсним числом з рівномірного розподілу на інтервалі [0, 1].\n",
    "np.diag(np.dot(A, B)) #вилучає діагональні значення з результату скалярного добутку матриць\n"
   ]
  },
  {
   "cell_type": "markdown",
   "id": "de727a7b",
   "metadata": {},
   "source": [
    "#### 70. Consider the vector [1, 2, 3, 4, 5], how to build a new vector with 3 consecutive(підряд) zeros interleaved(чередовані) between each value? (★★★)"
   ]
  },
  {
   "cell_type": "code",
   "execution_count": null,
   "id": "982be812",
   "metadata": {},
   "outputs": [
    {
     "name": "stdout",
     "output_type": "stream",
     "text": [
      "[1. 0. 0. 0. 2. 0. 0. 0. 3. 0. 0. 0. 4. 0. 0. 0. 5.]\n"
     ]
    }
   ],
   "source": [
    "array = np.array([1,2,3,4,5])\n",
    "nz = 3\n",
    "array0 = np.zeros(len(array) + (len(array)-1)*(nz)) #масив довжиною з array+колво нульових елементів зо будуть вставлені між елементами \n",
    "array0[::nz+1] = array #кожен nz+1 елемент замінюється елементом з array\n",
    "print(array0)"
   ]
  },
  {
   "cell_type": "markdown",
   "id": "a9a73d6b",
   "metadata": {},
   "source": [
    "#### 71. Consider an array of dimension (5,5,3), how to mulitply it by an array with dimensions (5,5)? (★★★)"
   ]
  },
  {
   "cell_type": "code",
   "execution_count": null,
   "id": "282a90cc",
   "metadata": {},
   "outputs": [
    {
     "name": "stdout",
     "output_type": "stream",
     "text": [
      "[[[2. 2. 2.]\n",
      "  [2. 2. 2.]\n",
      "  [2. 2. 2.]\n",
      "  [2. 2. 2.]\n",
      "  [2. 2. 2.]]\n",
      "\n",
      " [[2. 2. 2.]\n",
      "  [2. 2. 2.]\n",
      "  [2. 2. 2.]\n",
      "  [2. 2. 2.]\n",
      "  [2. 2. 2.]]\n",
      "\n",
      " [[2. 2. 2.]\n",
      "  [2. 2. 2.]\n",
      "  [2. 2. 2.]\n",
      "  [2. 2. 2.]\n",
      "  [2. 2. 2.]]\n",
      "\n",
      " [[2. 2. 2.]\n",
      "  [2. 2. 2.]\n",
      "  [2. 2. 2.]\n",
      "  [2. 2. 2.]\n",
      "  [2. 2. 2.]]\n",
      "\n",
      " [[2. 2. 2.]\n",
      "  [2. 2. 2.]\n",
      "  [2. 2. 2.]\n",
      "  [2. 2. 2.]\n",
      "  [2. 2. 2.]]]\n"
     ]
    }
   ],
   "source": [
    "A = np.ones((5,5,3))\n",
    "B = 2*np.ones((5,5))\n",
    "#створює тривимірний масив  розміром (5, 5, 3), в якому всі елементи мають значення 1. Кожний з трьох вимірів має розмір 5, 5 і 3 відповідно.\n",
    "print(A * B.reshape(5,5,1)) #e додає нову вісь до Б і робить (5, 5, 1) масив для подальшого множення "
   ]
  },
  {
   "cell_type": "markdown",
   "id": "a951c78f",
   "metadata": {},
   "source": [
    "#### 72. How to swap two rows of an array? (★★★)"
   ]
  },
  {
   "cell_type": "code",
   "execution_count": null,
   "id": "e29b3fde",
   "metadata": {},
   "outputs": [
    {
     "name": "stdout",
     "output_type": "stream",
     "text": [
      "[[ 5  6  7  8  9]\n",
      " [ 0  1  2  3  4]\n",
      " [10 11 12 13 14]\n",
      " [15 16 17 18 19]\n",
      " [20 21 22 23 24]]\n"
     ]
    }
   ],
   "source": [
    "A = np.arange(25).reshape(5,5)\n",
    "#np.arange(25) генерує одновимірний масив чисел від 0 до 24.\n",
    "#reshape(5, 5) перетворює одновимірний масив в матрицю розміром 5x5.\n",
    "\n",
    "A[[0,1]] = A[[1,0]] #міняє рядки 0 та 1 на 1 та 0 бо в подвійних дужках\n",
    "print(A)"
   ]
  },
  {
   "cell_type": "markdown",
   "id": "43b639e8",
   "metadata": {},
   "source": [
    "#### 73. Consider a set of 10 triplets describing 10 triangles (with shared vertices(спільні вершини)), find the set of unique line segments composing(відрізки прямих зіставляючі) all the  triangles (★★★)"
   ]
  },
  {
   "cell_type": "code",
   "execution_count": null,
   "id": "147e1034",
   "metadata": {},
   "outputs": [
    {
     "name": "stdout",
     "output_type": "stream",
     "text": [
      "Унікальні відрізки:\n",
      "[[0.01098009 0.89043951]\n",
      " [0.05844135 0.47578018]\n",
      " [0.059791   0.84702437]\n",
      " [0.07713037 0.62118711]\n",
      " [0.07801067 0.11544377]\n",
      " [0.08387545 0.7208847 ]\n",
      " [0.11668096 0.94214203]\n",
      " [0.13138009 0.16083462]\n",
      " [0.14901851 0.53915172]\n",
      " [0.1526912  0.86344206]\n",
      " [0.18231683 0.69122162]\n",
      " [0.18914792 0.7402145 ]\n",
      " [0.19045687 0.65052205]\n",
      " [0.19216019 0.51320043]\n",
      " [0.20325073 0.26805891]\n",
      " [0.22241217 0.92005106]\n",
      " [0.23309907 0.34572929]\n",
      " [0.23800993 0.23823864]\n",
      " [0.28179647 0.28877991]\n",
      " [0.30958475 0.44395079]\n",
      " [0.34472716 0.79334275]\n",
      " [0.35358183 0.53159767]\n",
      " [0.39446398 0.40018061]\n",
      " [0.45025771 0.49230026]\n",
      " [0.47316607 0.98123148]\n",
      " [0.50854652 0.76676892]\n",
      " [0.55826298 0.97435452]\n",
      " [0.56775953 0.93120398]\n",
      " [0.69283955 0.84349821]\n",
      " [0.72088084 0.80461102]]\n"
     ]
    }
   ],
   "source": [
    "triangles = np.random.rand(10, 3, 2)\n",
    "#ривимірний масив triangles, який представляє собою координати вершин 10 випадкових трикутників у двовимірному просторі. Кожен трикутник має 3 вершини (точки) у двовимірному просторі (2D).\n",
    "# Переформатовуємо до (30, 2), щоб представити всі відрізки\n",
    "line_segments = triangles.reshape(-1, 2)\n",
    "\n",
    "# Сортуємо кожен рядок, щоб забезпечити послідовність в представленні сегментів\n",
    "line_segments.sort(axis=1)\n",
    "\n",
    "# Використовуємо np.unique для отримання унікальних відрізків\n",
    "unique_segments = np.unique(line_segments, axis=0)\n",
    "\n",
    "print(\"Унікальні відрізки:\")\n",
    "print(unique_segments)"
   ]
  },
  {
   "cell_type": "markdown",
   "id": "d41de585",
   "metadata": {},
   "source": [
    "#### 74. Given a sorted array C that corresponds(відповідає) to a bincount, how to produce(зробити) an array A such that np.bincount(A) == C? (★★★)"
   ]
  },
  {
   "cell_type": "code",
   "execution_count": null,
   "id": "5f5d6e36",
   "metadata": {},
   "outputs": [
    {
     "name": "stdout",
     "output_type": "stream",
     "text": [
      "[0 2 1 1 2 0 1]\n",
      "[0 1 2 3 4 5 6]\n",
      "[1 1 2 3 4 4 6]\n"
     ]
    }
   ],
   "source": [
    "C = np.bincount([1,1,2,3,4,4,6]) \n",
    "#кількість входжень кожного цілочисельного значення у введеному масиві\n",
    "print(C)\n",
    "print(np.arange(len(C)))\n",
    "A = np.repeat(np.arange(len(C)), C)#створюємо мас довжиною з С (0,1...6) потім беремо (0,1...6) і С і записуємо числа з (0,1...6) в А кількість разів яка стоїть в С під відповідним індексом (нуль під нулем тому 0 нуль разів,одиниця під двійкою тому 1 два рази)\n",
    "print(A)"
   ]
  },
  {
   "cell_type": "markdown",
   "id": "b50adf7c",
   "metadata": {},
   "source": [
    "#### 75. How to compute averages using a sliding window(слизьке вікно) over an array? (★★★)"
   ]
  },
  {
   "cell_type": "code",
   "execution_count": null,
   "id": "e631a9d2",
   "metadata": {},
   "outputs": [
    {
     "name": "stdout",
     "output_type": "stream",
     "text": [
      "[1 8 9 2 9 1 4 7 5 9]\n",
      "[4.5 8.5 5.5 5.5 5.  2.5 5.5 6.  7. ]\n"
     ]
    }
   ],
   "source": [
    "from numpy.lib.stride_tricks import sliding_window_view\n",
    "\n",
    "arr = np.random.randint(0,10,10)\n",
    "print(arr)\n",
    "\n",
    "print(sliding_window_view(arr, window_shape=2).mean(axis=1))#бере елементи з arr по 2 кожна ітерація зі зсувом на 1 елемент и у цих пар по рядках рахує середнє"
   ]
  },
  {
   "cell_type": "markdown",
   "id": "1ab4c50d",
   "metadata": {},
   "source": [
    "#### 76. Consider a one-dimensional array Z, build a two-dimensional array whose first row is (Z[0],Z[1],Z[2]) and each subsequent(послідовний) row is  shifted(зсувається) by 1 (last row should be (Z[-3],Z[-2],Z[-1]) (★★★)"
   ]
  },
  {
   "cell_type": "code",
   "execution_count": null,
   "id": "3ccfe2c0",
   "metadata": {},
   "outputs": [
    {
     "name": "stdout",
     "output_type": "stream",
     "text": [
      "[[0 1 2]\n",
      " [1 2 3]\n",
      " [2 3 4]\n",
      " [3 4 5]\n",
      " [4 5 6]\n",
      " [5 6 7]\n",
      " [6 7 8]\n",
      " [7 8 9]]\n"
     ]
    }
   ],
   "source": [
    "array = np.arange(10)\n",
    "print(sliding_window_view(array, window_shape=3)) # зсув sliding_window_view по 3 елементи"
   ]
  },
  {
   "cell_type": "markdown",
   "id": "5b4fe59d",
   "metadata": {},
   "source": [
    "#### 77. How to negate a boolean, or to change the sign(знак) of a float inplace(число з плаваючою точкою)? (★★★)"
   ]
  },
  {
   "cell_type": "code",
   "execution_count": null,
   "id": "3c2373ff",
   "metadata": {},
   "outputs": [
    {
     "name": "stdout",
     "output_type": "stream",
     "text": [
      "[0 1 1 1 0 0 1 0 0 1 1 0 1 1 0 0 0 1 1 1 0 1 0 1 0 0 0 1 0 1 1 1 0 1 0 1 0\n",
      " 0 0 0 0 0 0 0 1 0 0 1 1 1 1 1 0 0 0 0 0 1 0 0 0 1 0 1 0 0 1 1 1 0 1 1 0 1\n",
      " 1 0 0 0 1 1 0 1 0 0 0 0 0 0 0 1 1 1 1 0 0 1 0 0 0 0]\n",
      "[1 0 0 0 1 1 0 1 1 0 0 1 0 0 1 1 1 0 0 0 1 0 1 0 1 1 1 0 1 0 0 0 1 0 1 0 1\n",
      " 1 1 1 1 1 1 1 0 1 1 0 0 0 0 0 1 1 1 1 1 0 1 1 1 0 1 0 1 1 0 0 0 1 0 0 1 0\n",
      " 0 1 1 1 0 0 1 0 1 1 1 1 1 1 1 0 0 0 0 1 1 0 1 1 1 1]\n"
     ]
    },
    {
     "data": {
      "text/plain": [
       "array([-0.90946   , -0.31335523,  0.37623949,  0.53571897,  0.19469864,\n",
       "       -0.28394722,  0.38817339,  0.67331458,  0.36423051,  0.86475746,\n",
       "       -0.34574427, -0.1210663 , -0.29806907, -0.02255955, -0.53650344,\n",
       "        0.95350391, -0.21791619,  0.87060476,  0.51011395,  0.24066664,\n",
       "       -0.89687834,  0.41400227, -0.50672695, -0.26914575,  0.77680193,\n",
       "        0.19447461, -0.73829923, -0.13047214, -0.89859703, -0.99387486,\n",
       "       -0.10799716, -0.67166829, -0.32793608,  0.24298659,  0.25020704,\n",
       "       -0.89896825,  0.39435699, -0.29186744,  0.80637745,  0.99397168,\n",
       "       -0.56540096, -0.83411234,  0.85233677, -0.02111975,  0.10819531,\n",
       "       -0.70850567,  0.0124424 ,  0.65288272,  0.9062886 , -0.52308875,\n",
       "       -0.53904322,  0.8926698 ,  0.72163824, -0.75725061, -0.398525  ,\n",
       "        0.32114739,  0.69233744,  0.1372797 , -0.62379211,  0.20799193,\n",
       "        0.43373736,  0.23824404,  0.88823612, -0.0934221 , -0.09821866,\n",
       "       -0.59704507,  0.04192145, -0.16991336,  0.64614211, -0.91741049,\n",
       "        0.81452202, -0.55164494,  0.55636868, -0.97043235,  0.2220359 ,\n",
       "       -0.13889635,  0.79207962, -0.62305606, -0.96964191, -0.80638627,\n",
       "       -0.16170308,  0.51269333,  0.51387056,  0.80343096, -0.25648779,\n",
       "        0.31868651, -0.80438799,  0.74618134,  0.54567367, -0.11768118,\n",
       "       -0.10067672,  0.36194845, -0.81404288, -0.84207596, -0.44248131,\n",
       "        0.31842417,  0.59454767,  0.46859996, -0.70742685, -0.35687652])"
      ]
     },
     "execution_count": 72,
     "metadata": {},
     "output_type": "execute_result"
    }
   ],
   "source": [
    "array = np.random.randint(0,2,100)\n",
    "print(array)\n",
    "print(np.logical_not(array, out=array)) #замінює в array 0 на 1 і 1 на 0\n",
    "\n",
    "array = np.random.uniform(-1.0,1.0,100)\n",
    "np.negative(array, out=array)#замінює знак елементів в масиві на протилежний"
   ]
  },
  {
   "cell_type": "markdown",
   "id": "119ab5af",
   "metadata": {},
   "source": [
    "#### 78. Consider 2 sets of points P0,P1 describing lines (2d) and a point p, how to compute distance from p to each line i (P0[i],P1[i])? (★★★)"
   ]
  },
  {
   "cell_type": "code",
   "execution_count": null,
   "id": "1d8d06dc",
   "metadata": {},
   "outputs": [
    {
     "name": "stdout",
     "output_type": "stream",
     "text": [
      "[[ 2.13967485  4.6557666 ]\n",
      " [ 7.60477918 -2.13211044]\n",
      " [-7.94329594  2.55347581]\n",
      " [ 2.32234544 -3.49378042]]\n",
      "[[ 9.68918055 -8.7728592 ]\n",
      " [ 0.09776919 -9.24596788]\n",
      " [ 1.86387926 -2.36875405]\n",
      " [ 0.40697009 -8.34114875]]\n",
      "[-4.79869542 -7.25418325]\n",
      "[11.884682883630465, 4.8137582126488425, 7.354981519701316, 5.240862217158367]\n"
     ]
    }
   ],
   "source": [
    "P0 = np.random.uniform(-10, 10, (4,2))\n",
    "P1 = np.random.uniform(-10, 10, (4,2))\n",
    "p = np.random.uniform(-10, 10, 2)\n",
    "\n",
    "print(P0) \n",
    "print(P1)\n",
    "print(p)\n",
    "\n",
    "def get_distance(P0, P1, p):\n",
    "    distances = [] #масив відстаней\n",
    "\n",
    "    for i in range(len(P0)): #цикл до довжини масиву  P0\n",
    "        a = P1[i][1] - P0[i][1] \n",
    "        b = P0[i][0] - P1[i][0]\n",
    "        c = (P1[i][0] * P0[i][1]) - (P0[i][0] * P1[i][1])\n",
    "\n",
    "        d = np.abs(a * p[0] + b * p[1] + c)/np.sqrt(a**2 + b**2) #для кожної прямої з пари точок за формулою шукаю відстань до точки  p\n",
    "        distances.append(d)\n",
    "    return distances  \n",
    "\n",
    "print(get_distance(P0,P1,p))"
   ]
  },
  {
   "cell_type": "markdown",
   "id": "e5e7f323",
   "metadata": {},
   "source": [
    "#### 79. Consider 2 sets of points P0,P1 describing lines (2d) and a set of points P, how to compute distance from each point j (P[j]) to each line i (P0[i],P1[i])(для кожної точки з матриці р відстань до кожної прямої з точок р0 р1)? (★★★)"
   ]
  },
  {
   "cell_type": "code",
   "execution_count": null,
   "id": "d0ce77e2",
   "metadata": {},
   "outputs": [
    {
     "name": "stdout",
     "output_type": "stream",
     "text": [
      "[[17.87568843 15.03071595  1.36623563 10.78072705]\n",
      " [ 4.38340411  5.37625354  6.89289212  0.87252394]\n",
      " [ 3.01441682 10.97633117  0.56691324  6.31764623]\n",
      " [ 2.6388795   6.81161285  4.15759385  2.04895628]]\n"
     ]
    }
   ],
   "source": [
    "P0 = np.random.uniform(-10, 10, (4,2))\n",
    "P1 = np.random.uniform(-10,10,(4,2))\n",
    "p = np.random.uniform(-10, 10, (4,2))\n",
    "\n",
    "distances = []\n",
    "\n",
    "for point in p:\n",
    "    d = get_distance(P0, P1, point) #функція з 78\n",
    "    distances.append(d)\n",
    "\n",
    "print(np.array(distances))"
   ]
  },
  {
   "cell_type": "markdown",
   "id": "9b9d03eb",
   "metadata": {},
   "source": [
    "#### 80. Consider an arbitrary array, write a function that extract a subpart with a fixed shape and centered on a given element (pad with a `fill` value when necessary) (★★★)"
   ]
  },
  {
   "cell_type": "code",
   "execution_count": null,
   "id": "ec2b7ae3",
   "metadata": {},
   "outputs": [],
   "source": [
    "import numpy as np\n",
    "\n",
    "def extract_subpart(array, shape, center, fill_value=0):\n",
    "    \"\"\"\n",
    "    Extract a subpart with a fixed shape centered on a given element,\n",
    "    and pad with a fill value when necessary.\n",
    "\n",
    "    Parameters:\n",
    "    - array: input array\n",
    "    - shape: shape of the subpart\n",
    "    - center: coordinates of the center element\n",
    "    - fill_value: value to fill when padding (default is 0)\n",
    "\n",
    "    Returns:\n",
    "    - subpart: extracted subpart\n",
    "    \"\"\"\n",
    "\n",
    "    # Calculate half-shape for padding\n",
    "    half_shape = np.array(shape) // 2\n",
    "\n",
    "    # Calculate the start and end indices for each axis\n",
    "    start_indices = np.maximum(center - half_shape, 0)\n",
    "    end_indices = np.minimum(center + half_shape + 1, array.shape)\n",
    "\n",
    "    # Initialize the subpart with fill values\n",
    "    subpart = np.full(shape, fill_value, dtype=array.dtype)\n",
    "\n",
    "    # Calculate the indices for subpart array\n",
    "    subpart_start = half_shape - (center - start_indices)\n",
    "    subpart_end = shape + subpart_start\n",
    "\n",
    "    # Copy the valid part from the original array to the subpart\n",
    "    subpart[subpart_start[0]:subpart_end[0], subpart_start[1]:subpart_end[1]] = \\\n",
    "        array[start_indices[0]:end_indices[0], start_indices[1]:end_indices[1]]\n",
    "\n",
    "    return subpart\n",
    "\n",
    "# Example usage:\n",
    "array = np.random.randint(0, 10, (5, 5))\n",
    "center = np.array([2, 2])\n",
    "shape = (3, 3)\n",
    "\n",
    "subpart = extract_subpart(array, shape, center, fill_value=-1)\n",
    "\n",
    "print(\"Original Array:\")\n",
    "print(array)\n",
    "print(\"Extracted Subpart:\")\n",
    "print(subpart)\n"
   ]
  },
  {
   "cell_type": "markdown",
   "id": "27794913",
   "metadata": {},
   "source": [
    "#### 81. Consider an array Z = [1,2,3,4,5,6,7,8,9,10,11,12,13,14], how to generate an array R = [[1,2,3,4], [2,3,4,5], [3,4,5,6], ..., [11,12,13,14]]? (★★★)"
   ]
  },
  {
   "cell_type": "code",
   "execution_count": null,
   "id": "f3e7878b",
   "metadata": {},
   "outputs": [
    {
     "name": "stdout",
     "output_type": "stream",
     "text": [
      "[[ 1  2  3  4]\n",
      " [ 2  3  4  5]\n",
      " [ 3  4  5  6]\n",
      " [ 4  5  6  7]\n",
      " [ 5  6  7  8]\n",
      " [ 6  7  8  9]\n",
      " [ 7  8  9 10]\n",
      " [ 8  9 10 11]\n",
      " [ 9 10 11 12]\n",
      " [10 11 12 13]\n",
      " [11 12 13 14]]\n"
     ]
    }
   ],
   "source": [
    "arr = np.arange(1, 15)\n",
    "print(sliding_window_view(arr, window_shape=4)) #sliding_window_view по 4 елементи бере"
   ]
  },
  {
   "cell_type": "markdown",
   "id": "fae786f5",
   "metadata": {},
   "source": [
    "#### 82. Compute a matrix rank (★★★)"
   ]
  },
  {
   "cell_type": "code",
   "execution_count": null,
   "id": "64b9615b",
   "metadata": {},
   "outputs": [
    {
     "name": "stdout",
     "output_type": "stream",
     "text": [
      "[[0.45191506 0.82645045 0.07206929 0.31186355 0.81303716 0.20441324\n",
      "  0.87444356 0.50418216 0.57163073 0.10690399]\n",
      " [0.64316586 0.52807906 0.5621655  0.94877487 0.64851873 0.26239309\n",
      "  0.8956034  0.70430356 0.76079821 0.36943583]\n",
      " [0.10376761 0.68962137 0.53597523 0.21877876 0.93903249 0.8382024\n",
      "  0.19785373 0.99835597 0.20905615 0.84368289]\n",
      " [0.18743736 0.69034677 0.67881699 0.82228458 0.49341551 0.9521656\n",
      "  0.23509608 0.37877351 0.96355245 0.81645188]\n",
      " [0.38814636 0.52064887 0.2729235  0.78081575 0.67896725 0.3852856\n",
      "  0.28428201 0.2718372  0.87065548 0.10988227]\n",
      " [0.79436344 0.26524702 0.74907501 0.27348787 0.09167492 0.09310537\n",
      "  0.52915882 0.97360871 0.67461687 0.88302348]\n",
      " [0.68508332 0.68154847 0.9566931  0.03224333 0.55597968 0.69650604\n",
      "  0.34906714 0.19810856 0.53939701 0.54849617]\n",
      " [0.39663697 0.25829553 0.7421091  0.06432423 0.54739891 0.05304333\n",
      "  0.7786538  0.99164153 0.07988354 0.47191258]\n",
      " [0.63999984 0.58314308 0.86398891 0.46586294 0.57230264 0.16951962\n",
      "  0.15834601 0.37927207 0.78901202 0.16779407]\n",
      " [0.56999165 0.67601369 0.18153211 0.77617426 0.34418313 0.48204659\n",
      "  0.36789399 0.25056162 0.08394183 0.921971  ]]\n",
      "10\n"
     ]
    }
   ],
   "source": [
    "array = np.random.uniform(0,1,(10,10))\n",
    "print(array)\n",
    "rank = np.linalg.matrix_rank(array)\n",
    "print(rank)\n",
    "#Ранг матриці - це максимальна кількість лінійно незалежних стовпців або рядків в матриці"
   ]
  },
  {
   "cell_type": "markdown",
   "id": "c85aa0b9",
   "metadata": {},
   "source": [
    "#### 83. How to find the most frequent(найчастіше) value in an array?"
   ]
  },
  {
   "cell_type": "code",
   "execution_count": null,
   "id": "056be85b",
   "metadata": {},
   "outputs": [
    {
     "name": "stdout",
     "output_type": "stream",
     "text": [
      "[5 5 8 3 1 6 7 6 8 6]\n",
      "6\n"
     ]
    }
   ],
   "source": [
    "array = np.random.randint(0,10,10)\n",
    "print(array)\n",
    "# Виклик функції bincount для підрахунку кількості входжень кожного значення\n",
    "print(np.bincount(array).argmax())#елемент який найчастіше зустрічається в масиві за індексом витягується"
   ]
  },
  {
   "cell_type": "markdown",
   "id": "0ff2344d",
   "metadata": {},
   "source": [
    "#### 84. Extract(вилучити) all the contiguous 3x3 blocks from a random 10x10 matrix (★★★)"
   ]
  },
  {
   "cell_type": "code",
   "execution_count": null,
   "id": "d58b1318",
   "metadata": {},
   "outputs": [
    {
     "name": "stdout",
     "output_type": "stream",
     "text": [
      "[[[[2 4 4]\n",
      "   [3 1 4]\n",
      "   [1 0 0]]\n",
      "\n",
      "  [[4 4 1]\n",
      "   [1 4 2]\n",
      "   [0 0 1]]\n",
      "\n",
      "  [[4 1 3]\n",
      "   [4 2 2]\n",
      "   [0 1 1]]\n",
      "\n",
      "  [[1 3 1]\n",
      "   [2 2 3]\n",
      "   [1 1 2]]\n",
      "\n",
      "  [[3 1 4]\n",
      "   [2 3 0]\n",
      "   [1 2 2]]\n",
      "\n",
      "  [[1 4 4]\n",
      "   [3 0 2]\n",
      "   [2 2 1]]\n",
      "\n",
      "  [[4 4 2]\n",
      "   [0 2 1]\n",
      "   [2 1 4]]\n",
      "\n",
      "  [[4 2 2]\n",
      "   [2 1 2]\n",
      "   [1 4 0]]]\n",
      "\n",
      "\n",
      " [[[3 1 4]\n",
      "   [1 0 0]\n",
      "   [1 0 2]]\n",
      "\n",
      "  [[1 4 2]\n",
      "   [0 0 1]\n",
      "   [0 2 1]]\n",
      "\n",
      "  [[4 2 2]\n",
      "   [0 1 1]\n",
      "   [2 1 4]]\n",
      "\n",
      "  [[2 2 3]\n",
      "   [1 1 2]\n",
      "   [1 4 1]]\n",
      "\n",
      "  [[2 3 0]\n",
      "   [1 2 2]\n",
      "   [4 1 3]]\n",
      "\n",
      "  [[3 0 2]\n",
      "   [2 2 1]\n",
      "   [1 3 0]]\n",
      "\n",
      "  [[0 2 1]\n",
      "   [2 1 4]\n",
      "   [3 0 1]]\n",
      "\n",
      "  [[2 1 2]\n",
      "   [1 4 0]\n",
      "   [0 1 1]]]\n",
      "\n",
      "\n",
      " [[[1 0 0]\n",
      "   [1 0 2]\n",
      "   [1 4 1]]\n",
      "\n",
      "  [[0 0 1]\n",
      "   [0 2 1]\n",
      "   [4 1 4]]\n",
      "\n",
      "  [[0 1 1]\n",
      "   [2 1 4]\n",
      "   [1 4 4]]\n",
      "\n",
      "  [[1 1 2]\n",
      "   [1 4 1]\n",
      "   [4 4 3]]\n",
      "\n",
      "  [[1 2 2]\n",
      "   [4 1 3]\n",
      "   [4 3 2]]\n",
      "\n",
      "  [[2 2 1]\n",
      "   [1 3 0]\n",
      "   [3 2 4]]\n",
      "\n",
      "  [[2 1 4]\n",
      "   [3 0 1]\n",
      "   [2 4 2]]\n",
      "\n",
      "  [[1 4 0]\n",
      "   [0 1 1]\n",
      "   [4 2 3]]]\n",
      "\n",
      "\n",
      " [[[1 0 2]\n",
      "   [1 4 1]\n",
      "   [1 2 1]]\n",
      "\n",
      "  [[0 2 1]\n",
      "   [4 1 4]\n",
      "   [2 1 2]]\n",
      "\n",
      "  [[2 1 4]\n",
      "   [1 4 4]\n",
      "   [1 2 1]]\n",
      "\n",
      "  [[1 4 1]\n",
      "   [4 4 3]\n",
      "   [2 1 4]]\n",
      "\n",
      "  [[4 1 3]\n",
      "   [4 3 2]\n",
      "   [1 4 1]]\n",
      "\n",
      "  [[1 3 0]\n",
      "   [3 2 4]\n",
      "   [4 1 4]]\n",
      "\n",
      "  [[3 0 1]\n",
      "   [2 4 2]\n",
      "   [1 4 3]]\n",
      "\n",
      "  [[0 1 1]\n",
      "   [4 2 3]\n",
      "   [4 3 0]]]\n",
      "\n",
      "\n",
      " [[[1 4 1]\n",
      "   [1 2 1]\n",
      "   [4 1 4]]\n",
      "\n",
      "  [[4 1 4]\n",
      "   [2 1 2]\n",
      "   [1 4 1]]\n",
      "\n",
      "  [[1 4 4]\n",
      "   [1 2 1]\n",
      "   [4 1 4]]\n",
      "\n",
      "  [[4 4 3]\n",
      "   [2 1 4]\n",
      "   [1 4 3]]\n",
      "\n",
      "  [[4 3 2]\n",
      "   [1 4 1]\n",
      "   [4 3 4]]\n",
      "\n",
      "  [[3 2 4]\n",
      "   [4 1 4]\n",
      "   [3 4 4]]\n",
      "\n",
      "  [[2 4 2]\n",
      "   [1 4 3]\n",
      "   [4 4 0]]\n",
      "\n",
      "  [[4 2 3]\n",
      "   [4 3 0]\n",
      "   [4 0 1]]]\n",
      "\n",
      "\n",
      " [[[1 2 1]\n",
      "   [4 1 4]\n",
      "   [2 4 0]]\n",
      "\n",
      "  [[2 1 2]\n",
      "   [1 4 1]\n",
      "   [4 0 2]]\n",
      "\n",
      "  [[1 2 1]\n",
      "   [4 1 4]\n",
      "   [0 2 0]]\n",
      "\n",
      "  [[2 1 4]\n",
      "   [1 4 3]\n",
      "   [2 0 2]]\n",
      "\n",
      "  [[1 4 1]\n",
      "   [4 3 4]\n",
      "   [0 2 0]]\n",
      "\n",
      "  [[4 1 4]\n",
      "   [3 4 4]\n",
      "   [2 0 1]]\n",
      "\n",
      "  [[1 4 3]\n",
      "   [4 4 0]\n",
      "   [0 1 1]]\n",
      "\n",
      "  [[4 3 0]\n",
      "   [4 0 1]\n",
      "   [1 1 3]]]\n",
      "\n",
      "\n",
      " [[[4 1 4]\n",
      "   [2 4 0]\n",
      "   [2 4 4]]\n",
      "\n",
      "  [[1 4 1]\n",
      "   [4 0 2]\n",
      "   [4 4 2]]\n",
      "\n",
      "  [[4 1 4]\n",
      "   [0 2 0]\n",
      "   [4 2 4]]\n",
      "\n",
      "  [[1 4 3]\n",
      "   [2 0 2]\n",
      "   [2 4 1]]\n",
      "\n",
      "  [[4 3 4]\n",
      "   [0 2 0]\n",
      "   [4 1 2]]\n",
      "\n",
      "  [[3 4 4]\n",
      "   [2 0 1]\n",
      "   [1 2 4]]\n",
      "\n",
      "  [[4 4 0]\n",
      "   [0 1 1]\n",
      "   [2 4 3]]\n",
      "\n",
      "  [[4 0 1]\n",
      "   [1 1 3]\n",
      "   [4 3 4]]]\n",
      "\n",
      "\n",
      " [[[2 4 0]\n",
      "   [2 4 4]\n",
      "   [3 0 3]]\n",
      "\n",
      "  [[4 0 2]\n",
      "   [4 4 2]\n",
      "   [0 3 0]]\n",
      "\n",
      "  [[0 2 0]\n",
      "   [4 2 4]\n",
      "   [3 0 3]]\n",
      "\n",
      "  [[2 0 2]\n",
      "   [2 4 1]\n",
      "   [0 3 2]]\n",
      "\n",
      "  [[0 2 0]\n",
      "   [4 1 2]\n",
      "   [3 2 3]]\n",
      "\n",
      "  [[2 0 1]\n",
      "   [1 2 4]\n",
      "   [2 3 4]]\n",
      "\n",
      "  [[0 1 1]\n",
      "   [2 4 3]\n",
      "   [3 4 0]]\n",
      "\n",
      "  [[1 1 3]\n",
      "   [4 3 4]\n",
      "   [4 0 3]]]]\n"
     ]
    }
   ],
   "source": [
    "matrix = np.random.randint(0,5,(10,10))\n",
    "print(sliding_window_view(matrix, window_shape=(3, 3)))# дістаємо по 3х3 матриці з 10х10 матриці"
   ]
  },
  {
   "cell_type": "markdown",
   "id": "1a18b263",
   "metadata": {},
   "source": [
    "#### 85. Create a 2D array subclass such that Z[i,j] == Z[j,i] (★★★)"
   ]
  },
  {
   "cell_type": "code",
   "execution_count": null,
   "id": "87f17adc",
   "metadata": {},
   "outputs": [
    {
     "name": "stdout",
     "output_type": "stream",
     "text": [
      "[[ 4  8  9  3 10]\n",
      " [ 8  4 13 12 13]\n",
      " [ 9 13  3  5  4]\n",
      " [ 3 12  5  7  7]\n",
      " [10 13  4  7  5]]\n",
      "[[ 4  8  9  3 10]\n",
      " [ 8  4 13 12 13]\n",
      " [ 9 13  3 42  4]\n",
      " [ 3 12 42  7  7]\n",
      " [10 13  4  7  5]]\n"
     ]
    }
   ],
   "source": [
    "class Mirror(np.ndarray): #нащадок ndarray\n",
    "    def __setitem__(self, index, value): #перевизнячення методу для зміни значення за індексами[2,3]\n",
    "        i,j = index #розбиваємо index на i,j\n",
    "        super(Mirror, self).__setitem__((i,j), value)#перевизначаємо в Mirror,вставляємо value на (i,j) кординати\n",
    "        super(Mirror, self).__setitem__((j,i), value)# ставимо value на симетричному до (i,j) індексі (j,i)\n",
    "\n",
    "def symetric(array):\n",
    "    return np.asarray(array + array.T - np.diag(array.diagonal())).view(Mirror) #приймаємо матрицю, додаємо до неї транспоновану-її діагональ view міняє тип масиву на Mirror\n",
    "\n",
    "array2 = symetric(np.random.randint(0,10,(5,5)))\n",
    "print(array2)\n",
    "array2[2,3] = 42\n",
    "print(array2)"
   ]
  },
  {
   "cell_type": "markdown",
   "id": "f85f2cad",
   "metadata": {},
   "source": [
    "#### 86. Consider a set of p matrices wich shape (n,n) and a set of p vectors with shape (n,1). How to compute the sum of of the p matrix products at once? (result has shape (n,1)) (★★★)"
   ]
  },
  {
   "cell_type": "code",
   "execution_count": null,
   "id": "8d230557",
   "metadata": {},
   "outputs": [],
   "source": []
  },
  {
   "cell_type": "markdown",
   "id": "5afb72c8",
   "metadata": {},
   "source": [
    "#### 87. Consider a 16x16 array, how to get the block-sum (block size is 4x4)? (★★★)"
   ]
  },
  {
   "cell_type": "code",
   "execution_count": null,
   "id": "e86f47a9",
   "metadata": {},
   "outputs": [
    {
     "name": "stdout",
     "output_type": "stream",
     "text": [
      "[[16. 16. 16. 16.]\n",
      " [16. 16. 16. 16.]\n",
      " [16. 16. 16. 16.]\n",
      " [16. 16. 16. 16.]]\n"
     ]
    }
   ],
   "source": [
    "array = np.ones((16,16))\n",
    "k = 4\n",
    "windows = sliding_window_view(array, (k, k)) #беремо всі блоки 4х4 з 16х16\n",
    "S = windows[::k, ::k, ...].sum(axis=(1, 0)) #суму кожного 4х4 блоку рахуємо і потім записуємо результати (::k, ::k, ...-беремо з віндовс блок і в sum сумуємо всі рядки стовпці)\n",
    "print(S)"
   ]
  },
  {
   "cell_type": "markdown",
   "id": "6094d37c",
   "metadata": {},
   "source": [
    "#### 88. How to implement(реалізувати) the Game of Life using numpy arrays? (★★★)"
   ]
  },
  {
   "cell_type": "code",
   "execution_count": null,
   "id": "a93e715f",
   "metadata": {},
   "outputs": [],
   "source": []
  },
  {
   "cell_type": "markdown",
   "id": "a173cf96",
   "metadata": {},
   "source": [
    "#### 89. How to get the n largest values of an array (★★★)"
   ]
  },
  {
   "cell_type": "code",
   "execution_count": null,
   "id": "b7c2ff35",
   "metadata": {},
   "outputs": [
    {
     "name": "stdout",
     "output_type": "stream",
     "text": [
      "[7425 1385 3100 ... 4987 5892 2563]\n",
      "[9995 9996 9997 9998 9999]\n"
     ]
    }
   ],
   "source": [
    "array = np.arange(10000)\n",
    "# Створення одновимірного масиву від 0 до 9999\n",
    "\n",
    "np.random.shuffle(array) # перемішує масив \n",
    "print(array)\n",
    "n = 5\n",
    "\n",
    "print (array[np.argsort(array)[-n:]]) # argsort повертає індекси значень в зростаючому порядку  і вибираємо n останніх значень"
   ]
  },
  {
   "cell_type": "code",
   "execution_count": null,
   "id": "a9a4633d",
   "metadata": {},
   "outputs": [],
   "source": []
  },
  {
   "cell_type": "markdown",
   "id": "5d94d1ef",
   "metadata": {},
   "source": [
    "#### 91. How to create a record(через кому) array from a regular(звичайний) array? (★★★)"
   ]
  },
  {
   "cell_type": "code",
   "execution_count": null,
   "id": "b1dae380",
   "metadata": {},
   "outputs": [
    {
     "name": "stdout",
     "output_type": "stream",
     "text": [
      "[['Hello' '2.5' '3']\n",
      " ['World' '3.6' '2']]\n",
      "[(b'Hello', 2.5, 3) (b'World', 3.6, 2)]\n"
     ]
    }
   ],
   "source": [
    "array = np.array([(\"Hello\", 2.5, 3),\n",
    "              (\"World\", 3.6, 2)])   # 2 блоку матриця\n",
    "print(array)\n",
    "R = np.core.records.fromarrays(array.T,) #транспонована матриця fromarrays робить масив записів з трансп масиву\n",
    "print(R)"
   ]
  },
  {
   "cell_type": "markdown",
   "id": "114ccc36",
   "metadata": {},
   "source": [
    "#### 92. Consider a large vector Z, compute Z to the power of 3(в степені 3) using 3 different methods (★★★)"
   ]
  },
  {
   "cell_type": "code",
   "execution_count": null,
   "id": "877c65d6",
   "metadata": {},
   "outputs": [
    {
     "name": "stdout",
     "output_type": "stream",
     "text": [
      "[0.90037476 0.82039783 0.42437074 ... 0.96183692 0.66528261 0.21654923]\n",
      "[0.72991106 0.55217089 0.07642515 ... 0.88982443 0.29445472 0.01015477] mathod1\n",
      "[0.72991106 0.55217089 0.07642515 ... 0.88982443 0.29445472 0.01015477] mathod2\n",
      "[0.72991106 0.55217089 0.07642515 ... 0.88982443 0.29445472 0.01015477] mathod3\n"
     ]
    }
   ],
   "source": [
    "Z = np.random.rand(int(5e7))\n",
    "print(Z)\n",
    "\n",
    "print(np.power(Z,3), \"mathod1\") \n",
    "print(Z*Z*Z, \"mathod2\")\n",
    "print(np.einsum('i,i,i->i',Z,Z,Z), \"mathod3\")"
   ]
  },
  {
   "cell_type": "markdown",
   "id": "d614fee4",
   "metadata": {},
   "source": [
    "#### 93. Consider two arrays A and B of shape (8,3) and (2,2). How to find rows of A that contain elements of each row of B regardless(незалежно від) of the order of the elements in B? (★★★)"
   ]
  },
  {
   "cell_type": "code",
   "execution_count": null,
   "id": "e6807a84",
   "metadata": {},
   "outputs": [
    {
     "name": "stdout",
     "output_type": "stream",
     "text": [
      "[[1 3 3]\n",
      " [2 4 2]\n",
      " [3 0 2]\n",
      " [0 3 3]\n",
      " [3 0 2]\n",
      " [4 1 0]\n",
      " [0 2 2]\n",
      " [2 2 0]] [[4 2]\n",
      " [2 1]]\n",
      "[1 2 4 5 6 7]\n"
     ]
    }
   ],
   "source": [
    "A = np.random.randint(0,5,(8,3))\n",
    "B = np.random.randint(0,5,(2,2))\n",
    "print(A,B)\n",
    "\n",
    "C = (A[..., np.newaxis, np.newaxis] == B) # newaxis додає нову вісь до масивів щоб прирівняти їх((8, 3)=(8, 3, 1, 1), (2, 2)=(2, 2, 1, 1) результат булевий С(8, 3, 2, 2)), порівнює кожен елеменнт А з кожним B \n",
    "rows = np.where(C.any((3,1)).all(1))[0] #C.any((3,1)) перевірка на хочаб одне тру в 3 і 1 осях (всередині 2x2) .all(1) перевірка А на хочаб одне співпадіння з B np.where повертає індекси по осях де умова виконується\n",
    "print(rows)"
   ]
  },
  {
   "cell_type": "markdown",
   "id": "b0eedca6",
   "metadata": {},
   "source": [
    "#### 94. Considering a 10x3 matrix, extract rows with unequal values (e.g. [2,2,3]) (★★★)"
   ]
  },
  {
   "cell_type": "code",
   "execution_count": null,
   "id": "fc136ce2",
   "metadata": {},
   "outputs": [
    {
     "name": "stdout",
     "output_type": "stream",
     "text": [
      "[[4 2 1]\n",
      " [0 2 3]\n",
      " [4 2 0]\n",
      " [3 3 2]\n",
      " [2 0 3]\n",
      " [1 3 1]\n",
      " [3 0 4]\n",
      " [1 0 0]\n",
      " [4 0 2]\n",
      " [4 0 4]]\n"
     ]
    }
   ],
   "source": [
    "array = np.random.randint(0,5,(10,3))\n",
    "unequal = array[array.max(axis=1) != array.min(axis=1),:] #максимальний елем не дорівнює мінімальному\n",
    "print(unequal)"
   ]
  },
  {
   "cell_type": "markdown",
   "id": "a65ec1cf",
   "metadata": {},
   "source": [
    "#### 95. Convert a vector of ints into a matrix binary representation(бінарне представлення) (★★★)"
   ]
  },
  {
   "cell_type": "code",
   "execution_count": null,
   "id": "323cdf4c",
   "metadata": {},
   "outputs": [
    {
     "name": "stdout",
     "output_type": "stream",
     "text": [
      "[[0 0 0 0 0 0 0 0]\n",
      " [0 0 0 0 0 0 0 1]\n",
      " [0 0 0 0 0 0 1 0]\n",
      " [0 0 0 0 0 0 1 1]\n",
      " [0 0 0 0 1 1 1 1]\n",
      " [0 0 0 1 0 0 0 0]\n",
      " [0 0 1 0 0 0 0 0]\n",
      " [0 1 0 0 0 0 0 0]\n",
      " [1 0 0 0 0 0 0 0]]\n"
     ]
    }
   ],
   "source": [
    "I = np.array([0, 1, 2, 3, 15, 16, 32, 64, 128], dtype=np.uint8) \n",
    "print(np.unpackbits(I[:, np.newaxis], axis=1)) #робить з вектору інтів вектор в двійковій(бінарний вигляд)"
   ]
  },
  {
   "cell_type": "markdown",
   "id": "75b9397f",
   "metadata": {},
   "source": [
    "#### 96. Given a two dimensional array, how to extract unique rows? (★★★)"
   ]
  },
  {
   "cell_type": "code",
   "execution_count": null,
   "id": "9bb56a47",
   "metadata": {},
   "outputs": [
    {
     "name": "stdout",
     "output_type": "stream",
     "text": [
      "[[0 0 0]\n",
      " [0 0 0]\n",
      " [1 1 1]\n",
      " [0 1 1]\n",
      " [1 1 1]\n",
      " [0 1 0]]\n",
      "[[0 0 0]\n",
      " [0 1 0]\n",
      " [0 1 1]\n",
      " [1 1 1]]\n"
     ]
    }
   ],
   "source": [
    "arr = np.random.randint(0,2,(6,3))\n",
    "print(arr)\n",
    "uarr = np.unique(arr, axis=0)\n",
    "print(uarr)"
   ]
  },
  {
   "cell_type": "markdown",
   "id": "82aaf21b",
   "metadata": {},
   "source": [
    "#### 97. Considering 2 vectors A & B, write the einsum equivalent of inner, outer, sum, and mul function (★★★)"
   ]
  },
  {
   "cell_type": "code",
   "execution_count": null,
   "id": "cedcefd9",
   "metadata": {},
   "outputs": [
    {
     "name": "stdout",
     "output_type": "stream",
     "text": [
      "[4 8 2 3 1] [6 8 5 6 8]\n",
      "18\n",
      "[24 64 10 18  8]\n",
      "124\n",
      "[[24 32 20 24 32]\n",
      " [48 64 40 48 64]\n",
      " [12 16 10 12 16]\n",
      " [18 24 15 18 24]\n",
      " [ 6  8  5  6  8]]\n"
     ]
    }
   ],
   "source": [
    "A = np.random.randint(0,10,5)\n",
    "B = np.random.randint(0,10,5)\n",
    "print(A,B)\n",
    "      \n",
    "print(np.einsum('i->', A))# np.sum(A)\n",
    "print(np.einsum('i,i->i', A, B)) # A * B\n",
    "print(np.einsum('i,i', A, B))   # np.inner(A, B)(скалярний добуток)\n",
    "print(np.einsum('i,j->ij', A, B))    # np.outer(A, B) (зовнішній добуток матриць(поелементно кожний на кожного))"
   ]
  },
  {
   "cell_type": "code",
   "execution_count": null,
   "id": "0b2432fe",
   "metadata": {},
   "outputs": [],
   "source": []
  },
  {
   "cell_type": "markdown",
   "id": "340d6f36",
   "metadata": {},
   "source": [
    "#### 99. Given an integer n and a 2D array X, select from X the rows which can be interpreted as draws from a multinomial distribution with n degrees, i.e., the rows which only contain integers and which sum to n. (★★★)"
   ]
  },
  {
   "cell_type": "code",
   "execution_count": null,
   "id": "a75323ae",
   "metadata": {},
   "outputs": [
    {
     "name": "stdout",
     "output_type": "stream",
     "text": [
      "[[2. 0. 1. 1.]]\n"
     ]
    }
   ],
   "source": [
    "#ядки сума яких=n і тількир з інтеджерами\n",
    "X = np.asarray([[1.0, 0.0, 3.0, 8.0],\n",
    "                [2.0, 0.0, 1.0, 1.0],\n",
    "                [1.5, 2.5, 1.0, 0.0]])\n",
    "n = 4\n",
    "M = np.logical_and.reduce(np.mod(X, 1) == 0, axis=1) #перевірка на ціле число np.mod(X, 1)-остача від ділення кожного елементу матриці на 1.0 результат після коми запишеться logical_and.reduce змінює отримані числа на тру фолс\n",
    "M &= (X.sum(axis=1) == n) #перевірка на сума=n і результат з M об'єднується\n",
    "print(X[M])"
   ]
  },
  {
   "cell_type": "markdown",
   "id": "19721849",
   "metadata": {},
   "source": [
    "#### 100. Compute bootstrapped 95% confidence(довіра) intervals for the mean of a 1D array X (i.e., resample the elements of an array with replacement N times, compute the mean of each sample, and then compute percentiles over the means). (★★★)"
   ]
  },
  {
   "cell_type": "code",
   "execution_count": null,
   "id": "87309c6f",
   "metadata": {},
   "outputs": [
    {
     "name": "stdout",
     "output_type": "stream",
     "text": [
      "[44.64 43.56 44.4  45.06 45.95 42.45 50.78 46.39 44.82 44.36 42.55 49.74\n",
      " 45.66 44.95 46.02 47.09 45.93 47.25 44.33 47.3  41.41 47.99 42.08 47.06\n",
      " 50.55 46.38 49.14 43.5  46.71 50.   50.77 40.87 45.53 46.51 49.42 47.33\n",
      " 46.13 45.73 53.74 49.43 47.24 46.99 42.22 46.64 48.28 47.16 46.03 45.34\n",
      " 47.77 51.42 49.08 45.44 47.83 51.42 46.22 49.32 47.51 48.49 46.37 46.18\n",
      " 47.77 42.38 44.36 50.25 46.23 46.3  45.94 48.16 47.03 49.97 44.88 46.64\n",
      " 49.34 43.1  43.04 40.88 45.86 42.16 46.52 49.71 48.96 44.58 39.87 49.61\n",
      " 48.19 45.27 47.56 40.13 48.96 46.57 44.44 50.55 46.71 50.38 48.37 45.55\n",
      " 51.48 45.3  50.15 49.03 45.75 39.71 45.33 46.94 49.94 51.53 46.18 46.71\n",
      " 47.86 50.2  47.92 48.32 47.98 46.88 48.64 46.36 49.27 50.31 45.6  44.49\n",
      " 44.47 46.61 46.13 46.57 42.04 44.61 47.78 50.96 44.92 47.14 51.18 46.28\n",
      " 43.99 47.7  44.04 46.21 50.28 44.17 46.33 47.47 43.94 42.21 49.9  43.41\n",
      " 48.02 45.77 47.2  43.82 43.51 47.89 46.88 43.78 51.5  46.87 46.05 44.25\n",
      " 44.23 48.73 43.37 45.52 46.38 44.5  49.97 43.14 47.33 44.56 47.47 44.85\n",
      " 45.75 46.19 44.23 49.48 47.62 47.51 47.82 43.37 46.52 42.51 50.91 45.11\n",
      " 48.27 48.49 49.21 43.91 43.4  45.85 41.73 47.92 47.4  50.25 47.69 48.47\n",
      " 48.52 43.28 48.66 46.25 45.72 44.56 49.11 53.32 46.71 46.83 42.45 46.59\n",
      " 47.49 52.   44.08 51.28 45.4  49.1  47.99 43.97 46.23 50.16 42.02 46.26\n",
      " 45.89 46.4  40.98 47.79 49.42 38.89 50.11 44.29 44.35 46.28 47.13 42.24\n",
      " 46.19 48.79 44.59 46.7  46.75 48.09 45.89 50.26 45.4  47.81 47.64 46.98\n",
      " 48.07 46.63 47.07 48.31 46.33 50.35 47.98 43.76 50.39 51.29 43.51 48.12\n",
      " 46.36 47.94 45.36 45.4  47.44 37.97 40.65 45.57 45.78 52.26 45.37 49.25\n",
      " 47.17 50.62 46.56 48.09 48.24 47.08 46.76 43.8  43.53 46.   48.26 45.88\n",
      " 48.06 44.71 46.94 47.24 45.56 46.47 49.27 42.29 44.76 47.41 53.71 46.51\n",
      " 47.92 47.09 39.8  45.21 43.79 50.19 48.81 49.08 46.89 43.   45.16 49.93\n",
      " 46.26 48.64 45.61 45.46 47.77 46.59 48.51 51.85 44.66 50.48 45.57 49.59\n",
      " 47.78 47.41 47.35 47.13 43.65 45.39 52.45 44.3  48.35 45.62 46.77 43.45\n",
      " 51.12 47.55 47.9  47.41 44.9  46.78 39.4  43.69 49.32 43.47 47.69 46.63\n",
      " 47.62 45.05 47.34 46.84 47.1  46.4  46.83 42.81 44.43 45.13 49.92 46.84\n",
      " 45.23 47.77 48.27 42.43 41.55 49.15 47.95 47.27 43.37 44.22 48.13 44.77\n",
      " 45.39 44.81 48.03 46.99 50.24 51.7  48.8  49.81 46.69 48.93 46.73 48.43\n",
      " 46.1  48.14 43.08 46.18 46.7  46.06 47.89 43.79 46.49 47.   45.13 44.63\n",
      " 45.86 48.15 47.79 44.6  46.51 48.98 42.37 46.55 49.59 46.05 44.5  43.7\n",
      " 42.69 44.82 47.58 47.79 49.37 49.96 46.22 46.69 43.92 45.97 46.63 50.18\n",
      " 46.4  45.19 46.78 46.24 50.24 45.32 44.02 50.3  46.5  48.16 46.11 48.63\n",
      " 46.66 46.84 45.67 43.08 45.99 48.81 45.7  50.56 47.3  47.62 46.05 49.95\n",
      " 43.31 44.11 52.4  47.74 44.47 45.1  47.21 44.27 50.46 47.27 49.05 42.33\n",
      " 44.8  49.79 45.58 47.87 45.06 48.35 46.38 49.37 48.25 44.37 41.81 47.48\n",
      " 44.67 45.6  43.79 47.34 45.1  46.32 45.69 42.36 47.49 45.39 46.08 50.31\n",
      " 50.01 50.17 44.27 44.83 45.36 48.35 42.97 48.81 45.02 48.32 48.32 47.65\n",
      " 46.   45.9  46.45 48.97 43.92 52.05 46.77 50.65 43.13 46.86 47.   44.05\n",
      " 48.33 42.8  46.74 44.96 45.22 47.74 44.32 48.35 44.11 47.9  45.01 49.89\n",
      " 47.52 50.72 44.97 46.64 41.52 39.84 49.11 45.73 47.38 49.71 46.15 44.56\n",
      " 40.38 51.12 46.44 46.29 46.72 45.48 47.96 46.06 41.87 47.87 51.49 50.07\n",
      " 49.53 43.99 43.46 45.96 47.61 42.52 47.13 43.52 48.98 48.52 48.   47.01\n",
      " 40.7  42.86 44.32 49.04 47.08 42.17 43.03 48.2  46.14 47.78 44.94 45.33\n",
      " 45.   46.53 52.76 44.21 47.25 47.35 45.84 38.94 49.55 43.65 44.39 49.04\n",
      " 46.52 45.37 49.14 46.74 42.92 43.91 53.28 44.46 46.69 48.52 47.4  49.1\n",
      " 47.61 45.94 47.17 50.8  46.78 46.94 49.83 48.14 45.72 44.92 47.02 49.1\n",
      " 41.95 44.37 51.38 43.69 43.13 50.98 49.62 47.05 48.2  44.76 47.65 49.06\n",
      " 44.71 46.86 49.33 45.38 46.53 48.13 43.62 47.02 50.52 48.32 51.4  48.47\n",
      " 46.13 39.61 42.84 46.2  46.89 45.95 42.05 43.59 42.22 48.43 46.34 49.3\n",
      " 45.47 44.   39.68 47.93 51.35 46.97 48.23 46.8  47.22 48.66 50.26 44.9\n",
      " 44.57 47.95 47.3  44.25 50.8  50.48 47.78 44.74 45.7  47.83 42.31 45.94\n",
      " 43.26 44.4  45.19 45.59 49.67 44.98 48.38 48.45 43.02 44.28 44.26 48.57\n",
      " 45.97 49.81 48.79 46.62 45.48 40.92 47.89 49.09 41.12 46.42 47.61 48.74\n",
      " 44.67 44.92 44.67 45.63 44.51 46.93 46.11 40.49 44.5  44.42 49.17 42.33\n",
      " 45.02 44.13 52.65 47.04 54.07 48.13 48.62 46.18 45.35 46.39 49.4  44.85\n",
      " 46.22 44.97 42.09 48.03 47.86 45.2  49.57 48.04 46.27 41.7  45.06 46.52\n",
      " 51.5  45.85 52.29 52.9  45.46 46.32 46.4  48.33 49.64 44.93 42.86 45.29\n",
      " 43.48 44.49 47.64 49.23 46.09 46.68 43.41 50.08 47.51 49.03 42.21 48.88\n",
      " 47.29 45.37 48.5  48.51 46.38 42.9  45.65 45.03 46.15 43.65 48.   48.21\n",
      " 41.52 45.73 42.78 43.84 45.76 45.24 48.41 45.06 44.61 43.82 46.84 45.38\n",
      " 47.1  46.24 42.7  47.27 47.02 44.91 44.92 49.52 47.15 49.57 47.78 45.47\n",
      " 42.11 52.35 49.42 48.9  49.4  52.05 46.92 45.64 49.59 43.37 47.48 43.48\n",
      " 47.03 47.09 44.56 44.6  49.44 46.8  41.69 47.98 45.37 47.14 42.01 47.15\n",
      " 48.13 44.43 42.01 49.11 43.81 43.19 45.65 44.95 43.08 41.03 46.21 44.34\n",
      " 46.45 48.42 46.75 42.79 41.21 47.17 51.36 49.39 45.93 46.5  46.41 48.27\n",
      " 48.99 47.76 48.1  49.34 49.89 45.89 43.14 46.78 46.01 51.1  48.48 45.68\n",
      " 42.83 46.8  38.9  47.96 44.32 45.64 40.86 44.62 49.55 52.09 47.95 48.39\n",
      " 48.17 45.83 44.61 44.62 44.76 48.78 47.52 46.05 42.28 44.6  45.8  45.24\n",
      " 47.22 47.88 43.4  50.54 46.13 45.56 46.8  50.02 49.81 48.25 47.   45.12\n",
      " 45.31 48.01 45.81 46.71 46.89 41.72 45.45 45.04 42.67 48.74 42.96 49.87\n",
      " 46.12 45.48 45.38 47.98 46.35 49.02 49.87 49.21 44.93 48.54 47.82 48.11\n",
      " 45.14 50.33 44.92 47.72 41.49 49.35 40.91 44.77 47.83 46.65 46.94 45.01\n",
      " 48.43 45.04 41.35 49.07 47.48 49.78 49.94 47.76 46.92 46.58 41.31 44.78\n",
      " 50.25 42.28 47.48 46.04 47.38 49.62 48.79 43.26 42.74 47.53 44.97 48.03\n",
      " 49.4  40.43 44.94 44.66 48.91 46.9  47.25 48.64 45.28 47.48 44.81 45.4\n",
      " 47.28 49.1  52.   48.7  42.42 43.31 43.09 48.15 44.66 40.44 44.8  53.27\n",
      " 46.12 50.5  49.35 48.02 44.35 49.13 48.55 46.24 46.33 45.42 43.28 47.19\n",
      " 47.54 45.2  47.93 47.25 51.36 48.43 46.76 42.29 50.39 47.05 47.29 48.71\n",
      " 51.42 51.3  45.69 45.35 44.71 52.33 46.22 47.14 45.66 44.81 47.84 44.47\n",
      " 47.98 44.8  46.37 48.79 41.8  44.75 44.79 49.26 46.97 42.47 45.93 45.99\n",
      " 50.15 46.18 42.62 43.75]\n",
      "50.653499999999994\n"
     ]
    }
   ],
   "source": [
    "X = np.random.randint(0, 100, 100)\n",
    "N = 1000 # колво бутстрап-операцій\n",
    "idx = np.random.randint(0, X.size, (N, X.size)) #генерація матриці індексів бутстрап-виборок\n",
    "means = X[idx].mean(axis=1) #вибір вибірок , середнє з кожної вибірки \n",
    "print(means)\n",
    "percentiles = np.percentile(means, 95)#95% середіх з вибірок меньше ніж резуьтат рядка\n",
    "print(percentiles)"
   ]
  }
 ],
 "metadata": {
  "kernelspec": {
   "display_name": "testenv",
   "language": "python",
   "name": "python3"
  },
  "language_info": {
   "codemirror_mode": {
    "name": "ipython",
    "version": 3
   },
   "file_extension": ".py",
   "mimetype": "text/x-python",
   "name": "python",
   "nbconvert_exporter": "python",
   "pygments_lexer": "ipython3",
   "version": "3.10.13"
  }
 },
 "nbformat": 4,
 "nbformat_minor": 5
}
